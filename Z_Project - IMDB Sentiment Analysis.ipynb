{
 "cells": [
  {
   "cell_type": "code",
   "execution_count": 1,
   "metadata": {},
   "outputs": [],
   "source": [
    "# Let's use some of our newfound knowledge with IMDB reviews and their overall sentiments\n",
    "\n",
    "import pandas as pd\n",
    "import numpy as np\n",
    "import matplotlib.pyplot as plt\n",
    "# Sweet, nltk is already present in our system\n",
    "import nltk"
   ]
  },
  {
   "cell_type": "code",
   "execution_count": 2,
   "metadata": {},
   "outputs": [
    {
     "name": "stdout",
     "output_type": "stream",
     "text": [
      "['The', 'quick', 'brown', 'fox', 'jumps', 'over', 'the', 'lazy', 'dog']\n"
     ]
    },
    {
     "name": "stderr",
     "output_type": "stream",
     "text": [
      "[nltk_data] Downloading package punkt to\n",
      "[nltk_data]     C:\\Users\\Jonny\\AppData\\Roaming\\nltk_data...\n",
      "[nltk_data]   Package punkt is already up-to-date!\n",
      "[nltk_data] Downloading package stopwords to\n",
      "[nltk_data]     C:\\Users\\Jonny\\AppData\\Roaming\\nltk_data...\n",
      "[nltk_data]   Package stopwords is already up-to-date!\n"
     ]
    }
   ],
   "source": [
    "# Example of how nltk can help us tokenize words\n",
    "\n",
    "from nltk.tokenize import word_tokenize\n",
    "nltk.download('punkt')\n",
    "nltk.download('stopwords')\n",
    "\n",
    "#function to split text into word\n",
    "tokens = word_tokenize(\"The quick brown fox jumps over the lazy dog\")\n",
    "print(tokens)"
   ]
  },
  {
   "cell_type": "code",
   "execution_count": 3,
   "metadata": {},
   "outputs": [
    {
     "name": "stdout",
     "output_type": "stream",
     "text": [
      "['Put', 'a', '+1/+1', 'counter', 'on', 'target', 'creature', ',', 'then', 'draw', 'a', 'card', '.']\n"
     ]
    }
   ],
   "source": [
    "# We can even tokenize the strange words in the magic dataset.\n",
    "# However, it seems that we still have the punctuation. We deal with this.\n",
    "tokens = word_tokenize(\"Put a +1/+1 counter on target creature, then draw a card.\")\n",
    "print(tokens)"
   ]
  },
  {
   "cell_type": "code",
   "execution_count": 4,
   "metadata": {},
   "outputs": [
    {
     "name": "stdout",
     "output_type": "stream",
     "text": [
      "['Put', '+1/+1', 'counter', 'target', 'creature', 'draw', 'card']\n"
     ]
    }
   ],
   "source": [
    "# Dealing with common words in english\n",
    "\n",
    "import string\n",
    "from nltk.corpus import stopwords\n",
    "# Define the common, useless (fluff) words in English language\n",
    "stop_words = set(stopwords.words('english'))\n",
    "\n",
    "# Select all the important english words, then remove all the punctuation\n",
    "tokens = word_tokenize(\"Put a +1/+1 counter on target creature, then draw a card.\")\n",
    "tokens = [w for w in tokens if not w in stop_words]\n",
    "tokens = list(filter(lambda token: token not in string.punctuation, tokens))\n",
    "print(tokens)"
   ]
  },
  {
   "cell_type": "code",
   "execution_count": 5,
   "metadata": {},
   "outputs": [
    {
     "data": {
      "text/html": [
       "<div>\n",
       "<style scoped>\n",
       "    .dataframe tbody tr th:only-of-type {\n",
       "        vertical-align: middle;\n",
       "    }\n",
       "\n",
       "    .dataframe tbody tr th {\n",
       "        vertical-align: top;\n",
       "    }\n",
       "\n",
       "    .dataframe thead th {\n",
       "        text-align: right;\n",
       "    }\n",
       "</style>\n",
       "<table border=\"1\" class=\"dataframe\">\n",
       "  <thead>\n",
       "    <tr style=\"text-align: right;\">\n",
       "      <th></th>\n",
       "      <th>review</th>\n",
       "      <th>sentiment</th>\n",
       "    </tr>\n",
       "  </thead>\n",
       "  <tbody>\n",
       "    <tr>\n",
       "      <th>0</th>\n",
       "      <td>One of the other reviewers has mentioned that ...</td>\n",
       "      <td>positive</td>\n",
       "    </tr>\n",
       "    <tr>\n",
       "      <th>1</th>\n",
       "      <td>A wonderful little production. &lt;br /&gt;&lt;br /&gt;The...</td>\n",
       "      <td>positive</td>\n",
       "    </tr>\n",
       "    <tr>\n",
       "      <th>2</th>\n",
       "      <td>I thought this was a wonderful way to spend ti...</td>\n",
       "      <td>positive</td>\n",
       "    </tr>\n",
       "    <tr>\n",
       "      <th>3</th>\n",
       "      <td>Basically there's a family where a little boy ...</td>\n",
       "      <td>negative</td>\n",
       "    </tr>\n",
       "    <tr>\n",
       "      <th>4</th>\n",
       "      <td>Petter Mattei's \"Love in the Time of Money\" is...</td>\n",
       "      <td>positive</td>\n",
       "    </tr>\n",
       "  </tbody>\n",
       "</table>\n",
       "</div>"
      ],
      "text/plain": [
       "                                              review sentiment\n",
       "0  One of the other reviewers has mentioned that ...  positive\n",
       "1  A wonderful little production. <br /><br />The...  positive\n",
       "2  I thought this was a wonderful way to spend ti...  positive\n",
       "3  Basically there's a family where a little boy ...  negative\n",
       "4  Petter Mattei's \"Love in the Time of Money\" is...  positive"
      ]
     },
     "execution_count": 5,
     "metadata": {},
     "output_type": "execute_result"
    }
   ],
   "source": [
    "# Load the IMDB dataset\n",
    "\n",
    "df = pd.read_csv('Datacamp CSV/IMDB Dataset.csv')\n",
    "\n",
    "df.head()"
   ]
  },
  {
   "cell_type": "code",
   "execution_count": 9,
   "metadata": {},
   "outputs": [
    {
     "data": {
      "text/plain": [
       "negative    2532\n",
       "positive    2468\n",
       "Name: sentiment, dtype: int64"
      ]
     },
     "execution_count": 9,
     "metadata": {},
     "output_type": "execute_result"
    }
   ],
   "source": [
    "# What are the top 50 words used in the review dataset?\n",
    "\n",
    "# Combine all the reviews into a single text. NB: The dataset is massive, so we'll only use\n",
    "# around 2000 samples.\n",
    "\n",
    "df = df.iloc[:5000]\n",
    "\n",
    "# Around 50-50 good and bad reviews\n",
    "print(df.sentiment.value_counts())"
   ]
  },
  {
   "cell_type": "code",
   "execution_count": 18,
   "metadata": {},
   "outputs": [
    {
     "name": "stdout",
     "output_type": "stream",
     "text": [
      "49451\n"
     ]
    }
   ],
   "source": [
    "reviews = df.review.str.cat(sep = ' ')\n",
    "\n",
    "tokens = word_tokenize(reviews)\n",
    "tokens = [w.lower() for w in tokens]\n",
    "tokens = [w for w in tokens if not w in stop_words]\n",
    "tokens = list(filter(lambda token: token not in string.punctuation, tokens))\n",
    "\n",
    "# There are 57k different 'words' used in the review. However, some of those are likely not\n",
    "# real words. If we remove the useless words and the punctuation, we remove around \n",
    "vocabulary = set(tokens)\n",
    "print(len(vocabulary))"
   ]
  },
  {
   "cell_type": "code",
   "execution_count": 19,
   "metadata": {},
   "outputs": [
    {
     "data": {
      "text/plain": [
       "['br',\n",
       " \"'s\",\n",
       " 'movie',\n",
       " 'film',\n",
       " \"''\",\n",
       " '``',\n",
       " \"n't\",\n",
       " 'one',\n",
       " 'like',\n",
       " 'good',\n",
       " 'would',\n",
       " 'even',\n",
       " '...',\n",
       " 'see',\n",
       " 'time',\n",
       " 'story',\n",
       " 'really',\n",
       " 'well',\n",
       " 'much',\n",
       " 'get',\n",
       " 'bad',\n",
       " 'could',\n",
       " 'people',\n",
       " 'first',\n",
       " 'also',\n",
       " 'great',\n",
       " 'make',\n",
       " 'way',\n",
       " 'made',\n",
       " 'movies',\n",
       " 'characters',\n",
       " 'watch',\n",
       " 'think',\n",
       " 'character',\n",
       " 'never',\n",
       " 'little',\n",
       " 'films',\n",
       " 'many',\n",
       " 'seen',\n",
       " 'plot',\n",
       " 'two',\n",
       " 'acting',\n",
       " 'best',\n",
       " 'know',\n",
       " 'show',\n",
       " 'love',\n",
       " 'ever',\n",
       " 'life',\n",
       " 'scene',\n",
       " 'better']"
      ]
     },
     "execution_count": 19,
     "metadata": {},
     "output_type": "execute_result"
    }
   ],
   "source": [
    "# It looks like a majority of the words are actually punctuations, plus useless words like 'a',\n",
    "# or 'and' or 'the'\n",
    "frequency_dist = nltk.FreqDist(tokens)\n",
    "sorted(frequency_dist, key=frequency_dist.__getitem__, reverse=True)[0:50]\n",
    "\n",
    "# After some pre-processing, it looks like we've removed most of the faff. "
   ]
  },
  {
   "cell_type": "code",
   "execution_count": 65,
   "metadata": {},
   "outputs": [
    {
     "name": "stdout",
     "output_type": "stream",
     "text": [
      "0.83625\n",
      "0.3702975147147943\n"
     ]
    }
   ],
   "source": [
    "# Let's do some pipelining\n",
    "\n",
    "from sklearn.pipeline import Pipeline\n",
    "from sklearn.feature_extraction.text import CountVectorizer\n",
    "from sklearn.feature_extraction.text import TfidfTransformer\n",
    "from sklearn.linear_model import LogisticRegression\n",
    "from sklearn.model_selection import train_test_split\n",
    "from sklearn.metrics import log_loss\n",
    "from sklearn.ensemble import GradientBoostingClassifier\n",
    "from sklearn.ensemble import RandomForestClassifier\n",
    "from sklearn.neighbors import KNeighborsClassifier\n",
    "from sklearn.svm import LinearSVC\n",
    "from sklearn.naive_bayes import MultinomialNB\n",
    "from sklearn.decomposition import TruncatedSVD\n",
    "from sklearn.preprocessing import PolynomialFeatures\n",
    "\n",
    "# Create our dataset. NB: Witholding 1000 samples for future testing.\n",
    "X = df.iloc[:4000, 0]\n",
    "y = df.iloc[:4000, 1]\n",
    "\n",
    "# Separate into train_test split\n",
    "X_train, X_test, y_train, y_test = train_test_split(X, y, stratify = y,\n",
    "                                                    test_size = 0.2, \n",
    "                                                    random_state = 42)\n",
    "\n",
    "alphanumeric = '[A-Za-z0-9]+(?=\\\\s+)'\n",
    "\n",
    "# Create our pipeline. \n",
    "pipeline = Pipeline([('vectorizer', CountVectorizer(token_pattern = alphanumeric, \n",
    "                                                    stop_words = 'english')), \n",
    "                     ('transformer', TfidfTransformer()), \n",
    "                     # Remember that polynomialfeatures takes AGES, and requires a MASSIVE\n",
    "                     # amount of code.\n",
    "                     # ('interaction', PolynomialFeatures(degree = 2)),\n",
    "                     # ('dim_red', TruncatedSVD()),\n",
    "                     # ('clf', GradientBoostingClassifier(n_estimators = 100, learning_rate = 0.1, max_depth = 9))\n",
    "                     # ('clf', KNeighborsClassifier(n_neighbors = 15))\n",
    "                     # ('clf', RandomForestClassifier(max_features = 'log2', n_estimators = 1000))\n",
    "                     ('clf', LogisticRegression(C = 100, solver = 'newton-cg'))\n",
    "                     # ('clf', MultinomialNB(alpha = 0.9, fit_prior = False))\n",
    "                    ])\n",
    "\n",
    "pipeline.fit(X_train, y_train)\n",
    "\n",
    "# Sweet, even just using a very simple Logistic Regression tool, we have managed to achieve \n",
    "# an 82.8% accuracy on Sentiment Analysis, with a 0.484 log_loss. \n",
    "\n",
    "# With tuned hyperparameters, its gone up to 83.6% accuracy, 0.370 log_loss\n",
    "\n",
    "print(pipeline.score(X_test, y_test))\n",
    "\n",
    "# For reference, in a binary classification with 50-50 odds of either class, the log_loss\n",
    "# to beat is around 0.693.\n",
    "y_pred_probs = pipeline.predict_proba(X_test)\n",
    "print(log_loss(y_test, y_pred_probs))"
   ]
  },
  {
   "cell_type": "code",
   "execution_count": 37,
   "metadata": {},
   "outputs": [
    {
     "name": "stdout",
     "output_type": "stream",
     "text": [
      "0.3958225761121344\n"
     ]
    }
   ],
   "source": [
    "# How to fit new data to our model?\n",
    "X_holdout = df.iloc[4000:, 0]\n",
    "y_holdout = df.iloc[4000:, 1]\n",
    "\n",
    "# Pretty simple!\n",
    "from sklearn.metrics import accuracy_score\n",
    "y_pred = pipeline.predict_proba(X_holdout)\n",
    "print(log_loss(y_holdout, y_pred))"
   ]
  },
  {
   "cell_type": "code",
   "execution_count": 57,
   "metadata": {},
   "outputs": [
    {
     "name": "stdout",
     "output_type": "stream",
     "text": [
      "Fitting 3 folds for each of 12 candidates, totalling 36 fits\n"
     ]
    },
    {
     "name": "stderr",
     "output_type": "stream",
     "text": [
      "[Parallel(n_jobs=-1)]: Using backend LokyBackend with 4 concurrent workers.\n",
      "[Parallel(n_jobs=-1)]: Done  36 out of  36 | elapsed:   18.2s finished\n"
     ]
    },
    {
     "name": "stdout",
     "output_type": "stream",
     "text": [
      "Best parameter CV score=0.808:\n",
      "{'clf__alpha': 0.9, 'clf__fit_prior': False}\n"
     ]
    }
   ],
   "source": [
    "# GridSearchCV with the pipeline\n",
    "from sklearn.model_selection import GridSearchCV\n",
    "\n",
    "# Decent Resource for Hyperparameter tuning\n",
    "# https://machinelearningmastery.com/hyperparameters-for-classification-machine-learning-algorithms/\n",
    "\n",
    "\n",
    "# Parameters of pipelines can be set using ‘__’ separated parameter names:\n",
    "# param_grid = {\n",
    "#     'clf__C': [100, 10, 1.0, 0.1, 0.01],\n",
    "#     'clf__solver': ['newton-cg', 'lbfgs', 'liblinear'],\n",
    "#     'clf__penalty': ['l2']\n",
    "# }\n",
    "\n",
    "# param_grid = {\n",
    "#     'clf__n_neighbors': [5, 10, 15, 20]\n",
    "# }\n",
    "\n",
    "# param_grid = {\n",
    "#     'clf__max_features': ['sqrt', 'log2'],\n",
    "#     'clf__n_estimators': [10, 100, 1000]\n",
    "# }\n",
    "\n",
    "# param_grid = {\n",
    "#     'clf__n_estimators': [10, 100],\n",
    "#     'clf__learning_rate': [0.001, 0.01, 0.1],\n",
    "#     'clf__max_depth': [3, 7, 9]\n",
    "# }\n",
    "\n",
    "param_grid = {\n",
    "    'clf__alpha': np.linspace(0.5, 1.5, 6),\n",
    "    'clf__fit_prior': [True, False]\n",
    "}\n",
    "\n",
    "search = GridSearchCV(pipeline, param_grid, cv = 3, n_jobs=-1, verbose = 1)\n",
    "search.fit(X_train, y_train)\n",
    "print(\"Best parameter CV score={:.3f}:\".format(search.best_score_))\n",
    "print(search.best_params_)"
   ]
  },
  {
   "cell_type": "code",
   "execution_count": null,
   "metadata": {},
   "outputs": [],
   "source": [
    "# Testing different models\n",
    "\n",
    "# We can try several different models to see how they perform on the data. \n",
    "\n",
    "# Tuned LogisticRegression --> 83.6% acc, 0.370 log_loss\n",
    "# GradientBoosting --> 78.1% acc, 0.500 log_loss\n",
    "# Tuned GradientBoosting --> 78.1% acc, 0.472 log_loss\n",
    "# Tuned KNN --> 68.1% acc, 0.604 log_loss\n",
    "# Tuned RandomForest --> 83.1% acc, 0.577 log_loss\n",
    "# Tuned Multinomial NB --> 80.5% acc, 0.509 log_loss\n",
    "\n",
    "# Interesting to note that the randomforest has a high accuracy, but also has a bad log_loss\n",
    "# It looks like LogisticRegression is still the best!"
   ]
  }
 ],
 "metadata": {
  "kernelspec": {
   "display_name": "Python 3",
   "language": "python",
   "name": "python3"
  },
  "language_info": {
   "codemirror_mode": {
    "name": "ipython",
    "version": 3
   },
   "file_extension": ".py",
   "mimetype": "text/x-python",
   "name": "python",
   "nbconvert_exporter": "python",
   "pygments_lexer": "ipython3",
   "version": "3.7.6"
  },
  "varInspector": {
   "cols": {
    "lenName": 16,
    "lenType": 16,
    "lenVar": 40
   },
   "kernels_config": {
    "python": {
     "delete_cmd_postfix": "",
     "delete_cmd_prefix": "del ",
     "library": "var_list.py",
     "varRefreshCmd": "print(var_dic_list())"
    },
    "r": {
     "delete_cmd_postfix": ") ",
     "delete_cmd_prefix": "rm(",
     "library": "var_list.r",
     "varRefreshCmd": "cat(var_dic_list()) "
    }
   },
   "types_to_exclude": [
    "module",
    "function",
    "builtin_function_or_method",
    "instance",
    "_Feature"
   ],
   "window_display": false
  }
 },
 "nbformat": 4,
 "nbformat_minor": 4
}
