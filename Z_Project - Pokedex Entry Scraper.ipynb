{
 "cells": [
  {
   "cell_type": "code",
   "execution_count": 2,
   "metadata": {},
   "outputs": [],
   "source": [
    "import requests\n",
    "import lxml.html as lh\n",
    "url = 'https://pokemondb.net/pokedex/bulbasaur'\n",
    "\n",
    "#Create a handle, page, to handle the contents of the website\n",
    "page = requests.get(url)\n",
    "\n",
    "#Store the contents of the website under doc\n",
    "doc = lh.fromstring(page.content)\n",
    "\n",
    "#Parse data that are stored between <tr>..</tr> of the site's HTML code\n",
    "tr_elements = doc.xpath('//tr')\n",
    "  \n"
   ]
  },
  {
   "cell_type": "code",
   "execution_count": 14,
   "metadata": {},
   "outputs": [
    {
     "name": "stdout",
     "output_type": "stream",
     "text": [
      "<bound method HtmlMixin.text_content of <Element th at 0x75a7048>>\n",
      "<bound method HtmlMixin.text_content of <Element td at 0x75a0138>>\n"
     ]
    }
   ],
   "source": [
    "for t in tr_elements[-1]:\n",
    "    print(t.text_content)"
   ]
  },
  {
   "cell_type": "code",
   "execution_count": 59,
   "metadata": {},
   "outputs": [
    {
     "name": "stdout",
     "output_type": "stream",
     "text": [
      "\n"
     ]
    }
   ],
   "source": [
    "from bs4 import BeautifulSoup\n",
    "import requests\n",
    "url = 'https://pokemondb.net/pokedex/venusaur'\n",
    "# Make a GET request to fetch the raw HTML content\n",
    "\n",
    "\n",
    "html_content = requests.get(url).text\n",
    "\n",
    "# Parse the html content\n",
    "soup = BeautifulSoup(html_content, \"lxml\")\n",
    "# print(soup.prettify()) # print the parsed data of html\n",
    "\n",
    "# This is a list of all the tables with the class 'vitals-table' on the webpage\n",
    "tables = soup.find_all('table', attrs={'class':'vitals-table'})\n",
    "\n",
    "# The fourth table contains the pokedex data we need\n",
    "# We find all instances of the class of textbox we need\n",
    "flavor = tables[4].find_all('td', attrs = {'class': 'cell-med-text'})\n",
    "# We can access the raw text using its .text attribute\n",
    "# Here we access the last four pokedex entries.\n",
    "# for f in flavor[-4:]:\n",
    "#     print(f.text)\n",
    "    \n",
    "poketext = ' '.join([x.text for x in flavor[-4:]])\n",
    "\n",
    "print(poketext)"
   ]
  },
  {
   "cell_type": "code",
   "execution_count": 98,
   "metadata": {},
   "outputs": [
    {
     "name": "stdout",
     "output_type": "stream",
     "text": [
      "It looks just like a pinecone. Its shell protects it from bird Pokémon that peck it by mistake. Pineco hangs from a tree branch and patiently waits for prey to come along. If the Pokémon is disturbed while eating by someone shaking its tree, it drops down to the ground and explodes with no warning. Motionless, it hangs from trees, waiting for its bug Pokémon prey to come to it. Its favorite in Alola is Cutiefly. It sticks tree bark to itself with its saliva, making itself thicker and larger. Elderly Pineco are ridiculously huge.\n",
      "\n"
     ]
    }
   ],
   "source": [
    "# Attempt 1 at Generic Scraper\n",
    "# VERY close. Basically I need to figure out a way to get the specific table where the \n",
    "# pokedex data is.\n",
    "\n",
    "from bs4 import BeautifulSoup\n",
    "import requests\n",
    "url = 'https://pokemondb.net/pokedex/pineco'\n",
    "# Make a GET request to fetch the raw HTML content\n",
    "\n",
    "\n",
    "html_content = requests.get(url).text\n",
    "\n",
    "# Parse the html content\n",
    "soup = BeautifulSoup(html_content, \"lxml\")\n",
    "# print(soup.prettify()) # print the parsed data of html\n",
    "\n",
    "# This is a list of all the tables with the class 'vitals-table' on the webpage\n",
    "tables = soup.find_all('table', attrs={'class':'vitals-table'})\n",
    "\n",
    "for x in tables:\n",
    "    if len(x.find_all('span', {'class': 'igame ultra-sun'})) == 1:\n",
    "        flavor = x.find_all('td', attrs = {'class': 'cell-med-text'})\n",
    "        try:\n",
    "            poketext = ' '.join([x.text for x in flavor[-4:]])\n",
    "            print(poketext)\n",
    "        except:\n",
    "            pass"
   ]
  },
  {
   "cell_type": "code",
   "execution_count": 112,
   "metadata": {},
   "outputs": [
    {
     "name": "stdout",
     "output_type": "stream",
     "text": [
      "Once a year, this Pokémon molts, and its shed shell returns to the soil. This process creates enriched soil, so farmers collect the shells. When Golem grow old, they stop shedding their shells. Those that have lived a long, long time have shells green with moss. It detonates its own body. The power from that explosion can propel it up steep mountain paths with amazing speed. Once it sheds its skin, its body turns tender and whitish. Its hide hardens when it’s exposed to air.\n"
     ]
    }
   ],
   "source": [
    "# Attempt 2 - WORKS completely. Excellent.\n",
    "\n",
    "from bs4 import BeautifulSoup\n",
    "import requests\n",
    "url = 'https://pokemondb.net/pokedex/golem'\n",
    "# Make a GET request to fetch the raw HTML content\n",
    "\n",
    "\n",
    "html_content = requests.get(url).text\n",
    "\n",
    "# Parse the html content\n",
    "soup = BeautifulSoup(html_content, \"lxml\")\n",
    "# print(soup.prettify()) # print the parsed data of html\n",
    "\n",
    "# This finds the pokedex entries, then finds the table immediately after that.\n",
    "table = soup.find('h2', text='Pokédex entries').find_next('table')\n",
    "flavor = table.find_all('td', attrs = {'class': 'cell-med-text'})\n",
    "poketext = ' '.join([x.text for x in flavor[-4:]])\n",
    "\n",
    "print(poketext)"
   ]
  },
  {
   "cell_type": "code",
   "execution_count": 113,
   "metadata": {},
   "outputs": [],
   "source": [
    "import pandas as pd\n",
    "\n",
    "pokemon = pd.read_csv('Datacamp CSV/pokemon.csv', index_col = 'name')"
   ]
  },
  {
   "cell_type": "code",
   "execution_count": 130,
   "metadata": {},
   "outputs": [
    {
     "name": "stdout",
     "output_type": "stream",
     "text": [
      "Bulbasaur can be seen napping in bright sunlight. There is a seed on its back. By soaking up the sun’s rays, the seed grows progressively larger. It can go for days without eating a single morsel. In the bulb on its back, it stores energy. There is a plant seed on its back right from the day this Pokémon is born. The seed slowly grows larger. While it is young, it uses the nutrients that are stored in the seed on its back in order to grow.\n",
      "There is a bud on this Pokémon’s back. To support its weight, Ivysaur’s legs and trunk grow thick and strong. If it starts spending more time lying in the sunlight, it’s a sign that the bud will bloom into a large flower soon. The bud on its back grows by drawing energy. It gives off an aroma when it is ready to bloom. When the bulb on its back grows large, it appears to lose the ability to stand on its hind legs. Exposure to sunlight adds to its strength. Sunlight also makes the bud on its back grow larger.\n",
      "There is a large flower on Venusaur’s back. The flower is said to take on vivid colors if it gets plenty of nutrition and sunlight. The flower’s aroma soothes the emotions of people. The flower on its back catches the sun’s rays. The sunlight is then absorbed and used for energy. Its plant blooms when it is absorbing solar energy. It stays on the move to seek sunlight. A bewitching aroma wafts from its flower. The fragrance becalms those engaged in a battle.\n",
      "The flame that burns at the tip of its tail is an indication of its emotions. The flame wavers when Charmander is enjoying itself. If the Pokémon becomes enraged, the flame burns fiercely. The flame at the tip of its tail makes a sound as it burns. You can only hear it in quiet places. It has a preference for hot things. When it rains, steam is said to spout from the tip of its tail. From the time it is born, a flame burns at the tip of its tail. Its life would end if the flame were to go out.\n",
      "Charmeleon mercilessly destroys its foes using its sharp claws. If it encounters a strong foe, it turns aggressive. In this excited state, the flame at the tip of its tail flares with a bluish white color. Tough fights could excite this Pokémon. When excited, it may breathe out bluish-white flames. It has a barbaric nature. In battle, it whips its fiery tail around and slashes away with sharp claws. If it becomes agitated during battle, it spouts intense flames, incinerating its surroundings.\n",
      "Charizard flies around the sky in search of powerful opponents. It breathes fire of such great heat that it melts anything. However, it never turns its fiery breath on any opponent weaker than itself. When this Pokémon expels a blast of superhot fire, the red flame at the tip of its tails burns more intensely. It spits fire that is hot enough to melt boulders. It may cause forest fires by blowing flames. Its wings can carry this Pokémon close to an altitude of 4,600 feet. It blows out fire at very high temperatures.\n",
      "Squirtle’s shell is not merely used for protection. The shell’s rounded shape and the grooves on its surface help minimize resistance in water, enabling this Pokémon to swim at high speeds. Shoots water at prey while in the water. Withdraws into its shell when in danger. When it retracts its long neck into its shell, it squirts out water with vigorous force. When it feels threatened, it draws its limbs inside its shell and sprays water from its mouth.\n",
      "Its tail is large and covered with a rich, thick fur. The tail becomes increasingly deeper in color as Wartortle ages. The scratches on its shell are evidence of this Pokémon’s toughness as a battler. When tapped on its head, this Pokémon will pull it in, but its tail will stick out a little bit. It is recognized as a symbol of longevity. If its shell has algae on it, that Wartortle is very old. It cleverly controls its furry ears and tail to maintain its balance while swimming.\n",
      "Blastoise has water spouts that protrude from its shell. The water spouts are very accurate. They can shoot bullets of water with enough accuracy to strike empty cans from a distance of over 160 feet. Once it takes aim at its enemy, it blasts out water with even more force than a fire hose. It crushes its foe under its heavy body to cause fainting. In a pinch, it will withdraw inside its shell. The rocket cannons on its shell fire jets of water capable of punching holes through thick steel.\n",
      "Its body is soft and weak. In nature, its perpetual fate is to be seen by others as food. If you touch the feeler on top of its head, it will release a horrible stink to protect itself. For protection, it releases a horrible stench from the antenna on its head to drive away enemies. Its short feet are tipped with suction pads that enable it to tirelessly climb slopes and walls.\n",
      "Its hard shell doesn’t crack a bit even if Pikipek pecks at it, but it will tip over, spilling out its insides. Hardens its shell to protect itself. However, a large impact may cause it to pop out of its shell. It is waiting for the moment to evolve. At this stage, it can only harden, so it remains motionless to avoid attack. Even though it is encased in a sturdy shell, the body inside is tender. It can’t withstand a harsh attack.\n",
      "Nectar from pretty flowers is its favorite food. In fields of flowers, it has heated battles with Cutiefly for territory. Its wings, covered with poisonous powder, repel water. This allows it to fly in the rain. In battle, it flaps its wings at great speed to release highly toxic dust into the air. It collects honey every day. It rubs honey onto the hairs on its legs to carry it back to its nest.\n",
      "Often found in forests and grasslands. It has a sharp, toxic barb of around two inches on top of its head. Its poison stinger is very powerful. Its bright-colored body is intended to warn off its enemies. Weedle has an extremely acute sense of smell. It is capable of distinguishing its favorite kinds of leaves from those it dislikes just by sniffing with its big red proboscis (nose). Beware of the sharp stinger on its head. It hides in grass and bushes where it eats leaves.\n",
      "Almost incapable of moving, this Pokémon can only harden its shell to protect itself when it is in danger. While awaiting evolution, it hides from predators under leaves and in nooks of branches. Kakuna remains virtually immobile as it clings to a tree. However, on the inside, it is extremely busy as it prepares for its coming evolution. This is evident from how hot the shell becomes to the touch. Able to move only slightly. When endangered, it may stick out its stinger and poison its enemy.\n",
      "It has three poisonous stingers on its forelegs and its tail. They are used to jab its enemy repeatedly. May appear in a swarm. Flies at violent speeds, all the while stabbing with the toxic stinger on its rear. Beedrill is extremely territorial. No one should ever approach its nest—this is for their own safety. If angered, they will attack in a furious swarm. It has three poisonous stingers on its forelegs and its tail. They are used to jab its enemy repeatedly.\n",
      "A common sight in forests and woods. It flaps its wings at ground level to kick up blinding sand. It is docile and prefers to avoid conflict. If disturbed, however, it can ferociously strike back. Pidgey has an extremely sharp sense of direction. It is capable of unerringly returning home to its nest, however far it may be removed from its familiar surroundings. Very docile. If attacked, it will often kick up sand to protect itself rather than fight back.\n",
      "The claws on its feet are well developed. It can carry prey such as an Exeggcute to its nest over 60 miles away. Very protective of its sprawling territorial area, this Pokémon will fiercely peck at any intruder. Pidgeotto claims a large area as its own territory. This Pokémon flies around, patrolling its living space. If its territory is violated, it shows no mercy in thoroughly punishing the foe with its sharp claws. This Pokémon is full of vitality. It constantly flies around its large territory in search of prey.\n",
      "When hunting, it skims the surface of water at high speed to pick off unwary prey such as Magikarp. It spreads its gorgeous wings widely to intimidate enemies. It races through the skies at Mach-2 speed. This Pokémon has a dazzling plumage of beautifully glossy feathers. Many Trainers are captivated by the striking beauty of the feathers on its head, compelling them to choose Pidgeot as their Pokémon. This Pokémon flies at Mach 2 speed, seeking prey. Its large talons are feared as wicked weapons.\n"
     ]
    },
    {
     "name": "stdout",
     "output_type": "stream",
     "text": [
      "With their strong capacity for survival, they can live in dirty places without concern. Left unchecked, their numbers multiply rapidly. Its incisors grow continuously throughout its life. If its incisors get too long, this Pokémon becomes unable to eat, and it starves to death. This Pokémon is common but hazardous. Its sharp incisors can easily cut right through hard wood. Will chew on anything with its fangs. If you see one, you can be certain that 40 more live in the area.\n",
      "Its disposition is far more violent than its looks would suggest. Don’t let your hand get too close to its face, as it could bite your hand clean off. People say that it fled from its enemies by using its small webbed hind feet to swim from island to island in Alola. Its whiskers are essential for maintaining its balance. No matter how friendly you are, it will get angry and bite you if you touch its whiskers. Its hind feet are webbed. They act as flippers, so it can swim in rivers and hunt for prey.\n",
      "Farmers whose fields are troubled by bug Pokémon appreciate Spearow for its vigorous appetite and look after it. Its reckless nature leads it to stand up to others—even large Pokémon—if it has to protect its territory. Due to its short wings, it can’t fly long distances. It wanders about restlessly and pecks at bug Pokémon. Inept at flying high. However, it can fly around very fast to protect its territory.\n",
      "Drawings of a Pokémon resembling Fearow can be seen in murals from deep in ancient history. Carrying food through Fearow’s territory is dangerous. It will snatch the food away from you in a flash! In Alola, fish Pokémon are its prey. It can be seen circling above the ocean searching for food. A Pokémon that dates back many years. If it senses danger, it flies high and away, instantly.\n",
      "Ekans curls itself up in a spiral while it rests. Assuming this position allows it to quickly respond to a threat from any direction with a glare from its upraised head. By dislocating its jaw, it can swallow prey larger than itself. After a meal, it curls up and rests. The eggs of bird Pokémon are its favorite food. It swallows eggs whole, so sometimes an egg gets stuck, and Ekans faints. The older it gets, the longer it grows. At night, it wraps its long body around tree branches to rest.\n",
      "This Pokémon is terrifically strong in order to constrict things with its body. It can even flatten steel oil drums. Once Arbok wraps its body around its foe, escaping its crunching embrace is impossible. The latest research has determined that there are over 20 possible arrangements of the patterns on its stomach. After stunning its opponents with the pattern on its stomach, it quickly wraps them up in its body and waits for them to stop moving. The frightening patterns on its belly have been studied. Six variations have been confirmed.\n",
      "While sleeping, it generates electricity in the sacs in its cheeks. If it’s not getting enough sleep, it will be able to use only weak electricity. This forest-dwelling Pokémon stores electricity in its cheeks, so you’ll feel a tingly shock if you touch it. Pikachu that can generate powerful electricity have cheek sacs that are extra soft and super stretchy. When Pikachu meet, they’ll touch their tails together and exchange electricity through them as a form of greeting.\n",
      "Because so many Trainers like the way Pikachu looks, you don’t see this Pokémon very often. When electricity builds up inside its body, it becomes feisty. It also glows in the dark. Its long tail serves as a ground to protect itself from its own high-voltage power. If its electric pouches run empty, it raises its tail to gather electricity from the atmosphere.\n",
      "When its skin gets wrinkled from moisture, it heads for a volcano. It lies flat on a spot with a lot of geothermal heat and dries itself out. Its body is dry. When it gets cold at night, its hide is said to become coated with a fine dew. It loves to bathe in the grit of dry, sandy areas. By sand bathing, the Pokémon rids itself of dirt and moisture clinging to its body. It burrows into the ground to create its nest. If hard stones impede its tunneling, it uses its sharp claws to shatter them and then carries on digging.\n",
      "Thanks to its thick claws, it’s good at climbing trees. There are plenty of Sandslash that park themselves in trees and go right to sleep. It is skilled at slashing enemies with its claws. If broken, they start to grow back in a day. The drier the area Sandslash lives in, the harder and smoother the Pokémon’s spikes will feel when touched. It climbs trees by hooking on with its sharp claws. Sandslash shares the berries it gathers, dropping them down to Sandshrew waiting below the tree.\n",
      "When Nidorina are with their friends or family, they keep their barbs tucked away to prevent hurting each other. This Pokémon appears to become nervous if separated from the others. When resting deep in its burrow, its barbs always retract. This is proof that it is relaxed. The horn on its head has atrophied. It’s thought that this happens so Nidorina’s children won’t get poked while their mother is feeding them. If the group is threatened, these Pokémon will band together to assault enemies with a chorus of ultrasonic waves.\n",
      "Nidoqueen’s body is encased in extremely hard scales. It is adept at sending foes flying with harsh tackles. This Pokémon is at its strongest when it is defending its young. Tough scales cover the sturdy body of this Pokémon. It appears that the scales grow in cycles. Nidoqueen is better at defense than offense. With scales like armor, this Pokémon will shield its children from any kind of attack. It pacifies offspring by placing them in the gaps between the spines on its back. The spines will never secrete poison while young are present.\n",
      "Nidorino has a horn that is harder than a diamond. If it senses a hostile presence, all the barbs on its back bristle up at once, and it challenges the foe with all its might. Its horn contains venom. If it stabs an enemy with the horn, the impact makes the poison leak out. With a horn that’s harder than diamond, this Pokémon goes around shattering boulders as it searches for a moon stone. It’s nervous and quick to act aggressively. The potency of its poison increases along with the level of adrenaline present in its body.\n",
      "Nidoking’s thick tail packs enormously destructive power. With one swing, it can topple a metal transmission tower. Once this Pokémon goes on a rampage, there is no stopping it. Its steel-like hide adds to its powerful tackle. Its horns are so hard, they can pierce a diamond. When it goes on a rampage, it’s impossible to control. But in the presence of a Nidoqueen it’s lived with for a long time, Nidoking calms down. Nidoking prides itself on its strength. It’s forceful and spirited in battle, making use of its thick tail and diamond-crushing horn.\n",
      "Bathed in moonlight, its wings glow faintly. Without even flapping, Clefairy rises into the air, where it dances around. Adored for their cute looks and playfulness. They are thought to be rare, as they do not appear often. It is said that happiness will come to those who see a gathering of Clefairy dancing under a full moon. Its adorable behavior and cry make it highly popular. However, this cute Pokémon is rarely found.\n",
      "Some scientists believe that it gazes intently at the sky on nights with a full moon because it’s homesick. They appear to be very protective of their own world. It is a kind of fairy, rarely seen by people. A timid fairy Pokémon that is rarely seen, it will run and hide the moment it senses people. Their ears are sensitive enough to hear a pin drop from over a mile away, so they’re usually found in quiet places.\n",
      "It manipulates balls of fire to catch its prey. If you raise one from when it’s young, it will grow close to you like a puppy Pokémon. Both its fur and its tails are beautiful. As it grows, the tails split and form more tails. While young, it has six gorgeous tails. When it grows, several new tails are sprouted. As each tail grows, its fur becomes more lustrous. When held, it feels slightly warm.\n",
      "The flickering flames it spews from its mouth leave its opponents hypnotized. Then, this extremely intelligent Pokémon attacks. According to an enduring legend, nine noble saints were united and reincarnated as this Pokémon. It is said to live 1,000 years, and each of its tails is loaded with supernatural powers. Very smart and very vengeful. Grabbing one of its many tails could result in a 1,000-year curse.\n"
     ]
    },
    {
     "name": "stdout",
     "output_type": "stream",
     "text": [
      "The songs they sing are totally different depending on the region they live in. Some even sound like they’re shouting! Uses its cute round eyes to enrapture its foe. It then sings a pleasing melody that lulls the foe to sleep. Jigglypuff has top-notch lung capacity, even by comparison to other Pokémon. It won’t stop singing its lullabies until its foes fall asleep. By freely changing the wavelength of its voice, Jigglypuff sings a mysterious melody sure to make any listener sleepy.\n",
      "When it gets angry, it inhales with all its might, and its body gradually inflates. Sometimes they can grow 20 times larger! Its body is very elastic. By inhaling deeply, it can continue to inflate itself without limit. The more air it takes in, the more it inflates. If opponents catch it in a bad mood, it will inflate itself to an enormous size to intimidate them. It’s proud of its fur, which is fine and delicate. In particular, the curl on its forehead has a texture that’s perfectly heavenly.\n",
      "Their skin is so thin that they’ll be burned if sunlight hits them. When it gets cold out, they gather together to warm one another’s bodies. Emits ultrasonic cries while it flies. They act as a sonar used to check for objects in its way. It emits ultrasonic waves from its mouth to check its surroundings. Even in tight caves, Zubat flies around with skill. Zubat live in caves, down where the sun’s light won’t reach. In the morning, they gather together to keep each other warm as they sleep.\n",
      "They can suck down over 10 ounces of blood in one go. They have been known to drink so much blood that they can no longer fly. It attacks in a stealthy manner, without warning. Its sharp fangs are used to bite and to suck blood. It loves to drink other creatures’ blood. It’s said that if it finds others of its kind going hungry, it sometimes shares the blood it’s gathered. Its feet are tiny, but this Pokémon walks skillfully. It sneaks up on sleeping prey before sinking in its fangs and slurping up blood.\n",
      "Oddish searches for fertile, nutrient-rich soil, then plants itself. During the daytime, while it is planted, this Pokémon’s feet are thought to change shape and become similar to the roots of trees. It may be mistaken for a clump of weeds. If you try to yank it out of the ground, it shrieks horribly. If exposed to moonlight, it starts to move. It roams far and wide at night to scatter its seeds. During the day, it stays in the cold underground to avoid the sun. It grows by bathing in moonlight.\n",
      "From its mouth Gloom drips honey that smells absolutely horrible. Apparently, it loves the horrid stench. It sniffs the noxious fumes and then drools even more of its honey. Smells incredibly foul! However, around one out of a thousand people enjoy sniffing its nose-bending stink. Its pistils exude an incredibly foul odor. The horrid stench can cause fainting at a distance of 1.25 miles. What appears to be drool is actually sweet honey. It is very sticky and clings stubbornly if touched.\n",
      "Vileplume has the world’s largest petals. They are used to attract prey that are then doused with toxic spores. Once the prey are immobilized, this Pokémon catches and devours them. Flaps its broad flower petals to scatter its poisonous pollen. The flapping sound is very loud. It has the world’s largest petals. With every step, the petals shake out heavy clouds of toxic pollen. The larger its petals, the more toxic pollen it contains. Its big head is heavy and hard to hold up.\n",
      "Mushrooms called tochukaso sprout from its back. They can be dried and powdered to make a medicine used to extend life. Whether it’s due to a lack of moisture or a lack of nutrients, in Alola the mushrooms on Paras don’t grow up quite right. The mushrooms, known as tochukaso, are controlling the bug. Even if the bug bugs the mushrooms, they tell it to bug off. Burrows under the ground to gnaw on tree roots. The mushrooms on its back absorb most of the nutrition.\n",
      "It scatters toxic spores from its mushroom cap. Once harvested, these spores can be steeped and boiled down to prepare herbal medicines. The bug is mostly dead, with the mushroom on its back having become the main body. If the mushroom comes off, the bug stops moving. Its poisonous spores are also used in traditional medicine. Apparently, spores produced in Alola are not of very good quality. The bug host is drained of energy by the mushrooms on its back. The mushroom appears to do all the thinking.\n",
      "Its big eyes are actually clusters of tiny eyes. At night, its kind is drawn by light. Lives in the shadows of tall trees where it eats bugs. It is attracted by light at night. Venonat is said to have evolved with a coat of thin, stiff hair that covers its entire body for protection. It possesses large eyes that never fail to spot even minuscule prey. Its large eyes act as a radar. In a bright place, you can see that they are clusters of many tiny eyes.\n",
      "The scales it scatters will paralyze anyone who touches them, making that person unable to stand. The wings are covered with dustlike scales. Every time it flaps its wings, it looses highly toxic dust. Venomoth is nocturnal—it is a Pokémon that only becomes active at night. Its favorite prey are small insects that gather around streetlights, attracted by the light in the darkness. The powdery scales on its wings are hard to remove from skin. They also contain poison that leaks out on contact.\n",
      "Around their crops, farmers plant the kind of tree that Diglett like to eat as a way of getting Diglett to plow the fields for them. It prefers dark places. It spends most of its time underground, though it may pop up in caves. If a Diglett digs through a field, it leaves the soil perfectly tilled and ideal for planting crops. It burrows through the ground at a shallow depth. It leaves raised earth in its wake, making it easy to spot.\n",
      "Dugtrio’s heads are sleek and smooth and incredibly hard. It can dig through any soil with its headbutts. A team of triplets that can burrow to a depth of 60 miles. It’s reported that this triggers an earthquake. A team of Diglett triplets. It triggers huge earthquakes by burrowing 60 miles underground. These Diglett triplets dig over 60 miles below sea level. No one knows what it’s like underground.\n",
      "It loves coins, so if you give it one, you can make friends with Meowth easily. But it’s fickle, so you can’t count on that friendship lasting. Appears to be more active at night. It loves round and shiny things. It can’t stop itself from picking them up. It loves to collect shiny things. If it’s in a good mood, it might even let its Trainer have a look at its hoard of treasures. It washes its face regularly to keep the coin on its forehead spotless. It doesn’t get along with Galarian Meowth.\n",
      "This Pokémon is popular with rich people. It’s also targeted by hunters who are after the jewel in its forehead. The gem in its forehead glows on its own! It walks with all the grace and elegance of a proud queen. Getting this prideful Pokémon to warm up to you takes a lot of effort, and it will claw at you the moment it gets annoyed. Its elegant and refined behavior clashes with that of the barbaric Perrserker. The relationship between the two is one of mutual disdain.\n",
      "It has been found that its brain cells are 10 times more active when Psyduck is experiencing a headache. Always tormented by headaches. It uses psychic powers, but whether it intends to do so is not known. Psyduck is constantly beset by headaches. If the Pokémon lets its strange power erupt, apparently the pain subsides for a while. As Psyduck gets stressed out, its headache gets progressively worse. It uses intense psychic energy to overwhelm those around it.\n",
      "A professional swimmer, it can continue swimming for two days straight by waving its long tail skillfully. Its long, slim limbs end in broad flippers. They are used for swimming gracefully in lakes. This Pokémon lives in gently flowing rivers. It paddles through the water with its long limbs, putting its graceful swimming skills on display. Old tales tell of Golduck punishing those that defiled its river. The guilty were dragged into the water and taken away.\n",
      "Its raging tires it out and causes it to fall asleep, but the anger resonating in its dreams causes it to wake up—which infuriates it all over again. The smallest of things could cause it to lose its temper. Because it doesn’t hold in its stress, this Pokémon can live a long time. If one gets angry, all the others around it will get angry, so silence is a rare visitor in a troop of Mankey. An agile Pokémon that lives in trees. It angers easily and will not hesitate to attack anything.\n"
     ]
    },
    {
     "name": "stdout",
     "output_type": "stream",
     "text": [
      "Some researchers theorize that Primeape remains angry even when inside a Poké Ball. It will never forgive opponents who have angered it. Even after it has beaten them down until they can’t move, it never ever forgives. The blood vessels in its brain are sturdier than those of other Pokémon, so it can stay healthy despite its constant raging. It stops being angry only when nobody else is around. To view this moment is very difficult.\n",
      "It has lived alongside humans since ages ago. Its bones have been found in excavations of ruins from the Stone Age. A Pokémon with a friendly nature. However, it will bark fiercely at anything invading its territory. It has a brave and trustworthy nature. It fearlessly stands up to bigger and stronger foes. Extremely loyal, it will fearlessly bark at any opponent to protect its own Trainer from harm.\n",
      "There are so many old tales about them that they’re called legendary Pokémon, but there are way more of them around than you’d expect. A legendary Pokémon in the East. Many people are charmed by the grace and beauty of its running. The sight of it running over 6,200 miles in a single day and night has captivated many people. A Pokémon that has long been admired for its beauty. It runs agilely as if on wings.\n",
      "The direction of the swirl on their stomachs differs depending on where they live. Poliwag aficionados can tell them apart at a glance. The direction of the spiral on the belly differs by area. It is more adept at swimming than walking. For Poliwag, swimming is easier than walking. The swirl pattern on its belly is actually part of the Pokémon’s innards showing through the skin. In rivers with fast-flowing water, this Pokémon will cling to a rock by using its thick lips, which act like a suction cup.\n",
      "Its health suffers when its skin dries out, so be sure to moisturize it diligently. Under attack, it uses its belly spiral to put the foe to sleep. It then makes its escape. Staring at the swirl on its belly causes drowsiness. This trait of Poliwhirl’s has been used in place of lullabies to get children to go to sleep. This Pokémon’s sweat is a slimy mucus. When captured, Poliwhirl can slither from its enemies’ grasp and escape.\n",
      "The muscles it has developed through swimming are thick and powerful. When it lands a square punch, it can turn huge boulders to dust. Swims powerfully using all the muscles in its body. It can even overtake world-class swimmers. Its body is solid muscle. When swimming through cold seas, Poliwrath uses its impressive arms to smash through drift ice and plow forward. Poliwrath is skilled at both swimming and martial arts. It uses its well-trained arms to dish out powerful punches.\n",
      "It can read others’ minds and will teleport away when danger approaches. You must clear your mind if you want to catch it. Sleeps 18 hours a day. If it senses danger, it will teleport itself to safety even as it sleeps. This Pokémon uses its psychic powers while it sleeps. The contents of Abra’s dreams affect the powers that the Pokémon wields. Abra can teleport in its sleep. Apparently the more deeply Abra sleeps, the farther its teleportations go.\n",
      "It possesses strong mental capabilities, but its psychic powers are halved when it’s not holding a silver spoon. Many odd things happen if this Pokémon is close by. For example, it makes clocks run backward. Using its psychic power, Kadabra levitates as it sleeps. It uses its springy tail as a pillow. This Pokémon’s telekinesis is immensely powerful. To prepare for evolution, Kadabra stores up psychic energy in the star on its forehead.\n",
      "If it trusts someone deeply, it will let them have one of its spoons. Anything you eat with that spoon is apparently delicious. A Pokémon that can memorize anything. It never forgets what it learns—that’s why this Pokémon is smart. It has an incredibly high level of intelligence. Some say that Alakazam remembers everything that ever happens to it, from birth till death. Alakazam wields potent psychic powers. It’s said that this Pokémon used these powers to create the spoons it holds.\n",
      "It likes food that’s highly nutritious because its instincts drive it to build muscle efficiently. Very powerful in spite of its small size. Its mastery of many types of martial arts makes it very tough. Its whole body is composed of muscles. Even though it’s the size of a human child, it can hurl 100 grown-ups. Always brimming with power, it passes time by lifting boulders. Doing so makes it even stronger.\n",
      "A popular motif for sculptures, its incredibly well-developed muscles have captured the imagination of many an artist. The belt around its waist holds back its energy. Without it, this Pokémon would be unstoppable. Its muscular body is so powerful, it must wear a power-save belt to be able to regulate its motions. Its formidable body never gets tired. It helps people by doing work such as the moving of heavy goods.\n",
      "With four arms, it can attack and defend simultaneously. It’s said to have mastered every martial art in the world. One arm alone can move mountains. Using all four arms, this Pokémon fires off awesome punches. It quickly swings its four arms to rock its opponents with ceaseless punches and chops from all angles. With four arms that react more quickly than it can think, it can execute many punches at once.\n",
      "Even though its body is extremely skinny, it is blindingly fast when catching its prey. Its bud looks like a human face. Because of the bud, it is rumored to be a type of legendary mandrake plant. Bellsprout’s thin and flexible body lets it bend and sway to avoid any attack, however strong it may be. From its mouth, this Pokémon spits a corrosive fluid that melts even iron. Prefers hot and humid places. It ensnares tiny bugs with its vines and devours them.\n",
      "The leafy parts act as cutters for slashing foes. It spits a fluid that dissolves everything. It spits out Poison Powder to immobilize the enemy and then finishes it with a spray of Acid. Weepinbell has a large hook on its rear end. At night, the Pokémon hooks on to a tree branch and goes to sleep. If it moves around in its sleep, it may wake up to find itself on the ground. When hungry, it swallows anything that moves. Its hapless prey is dissolved by strong acids.\n",
      "Said to live in huge colonies deep in jungles, although no one has ever returned from there. Once ingested into this Pokémon’s body, even the hardest object will melt into nothing. Victreebel has a long vine that extends from its head. This vine is waved and flicked about as if it were an animal to attract prey. When an unsuspecting prey draws near, this Pokémon swallows it whole. Lures prey with the sweet aroma of honey. Swallowed whole, the prey is dissolved in a day, bones and all.\n",
      "Its body is 99% water. The remaining 1% contains the organ that makes its poison. It can sometimes be found all dry and shriveled up on a beach. Toss it back into the sea to revive it. Tentacool is not a particularly strong swimmer. It drifts across the surface of shallow seas as it searches for prey. This Pokémon is mostly made of water. A Tentacool out in the ocean is very hard to spot, because its body blends in with the sea.\n",
      "It communicates with others of its kind by lighting up the red orbs on its head. When the orbs are blinking, it’s a warning sign. Its 80 tentacles can stretch and contract freely. They wrap around prey and weaken it with poison. When the red orbs on Tentacruel’s head glow brightly, watch out. The Pokémon is about to fire off a burst of ultrasonic waves. Its 80 tentacles can stretch and shrink freely. Tentacruel ensnares prey in a net of spread-out tentacles, delivering venomous stings to its catch.\n",
      "There are plenty of them to be found along any road. A scholar with too much free time once counted a hundred of them along a single route. Geodude that have lived a long life have had all their edges smoothed out until they’re totally round. They also have a calm, quiet disposition. It uses both hands to climb precipitous cliffs. People who see it in action have been known to take up bouldering. Commonly found near mountain trails and the like. If you step on one by accident, it gets angry.\n",
      "This slow-footed Pokémon moves by curling up and rolling instead of walking. With enough momentum, its speed can exceed 60 mph. It climbs up cliffs as it heads toward the peak of a mountain. As soon as it reaches the summit, it rolls back down the way it came. It travels by rolling down cliffs. If it falls into a river, it will explode with its last gasp. Often seen rolling down mountain trails. Obstacles are just things to roll straight over, not avoid.\n"
     ]
    },
    {
     "name": "stdout",
     "output_type": "stream",
     "text": [
      "Once a year, this Pokémon molts, and its shed shell returns to the soil. This process creates enriched soil, so farmers collect the shells. When Golem grow old, they stop shedding their shells. Those that have lived a long, long time have shells green with moss. It detonates its own body. The power from that explosion can propel it up steep mountain paths with amazing speed. Once it sheds its skin, its body turns tender and whitish. Its hide hardens when it’s exposed to air.\n",
      "Ponyta is very weak at birth. It can barely stand up. This Pokémon becomes stronger by stumbling and falling to keep up with its parent. Capable of jumping incredibly high. Its hooves and sturdy legs absorb the impact of a hard landing. It can’t run properly when it’s newly born. As it races around with others of its kind, its legs grow stronger. If you’ve been accepted by Ponyta, its burning mane is mysteriously no longer hot to the touch.\n",
      "Rapidash usually can be seen casually cantering in the fields and plains. However, when this Pokémon turns serious, its fiery manes flare and blaze as it gallops its way up to 150 mph. Just loves to run. If it sees something faster than itself, it will give chase at top speed. This Pokémon can be seen galloping through fields at speeds of up to 150 mph, its fiery mane fluttering in the wind. The fastest runner becomes the leader, and it decides the herd’s pace and direction of travel.\n",
      "Although their tails, which fall off naturally, can easily be found lying around, they’re a precious ingredient for cooking. Incredibly slow and sluggish. It is quite content to loll about without worrying about the time. Slow-witted and oblivious, this Pokémon won’t feel any pain if its tail gets eaten. It won’t notice when its tail grows back, either. When this Pokémon’s tail is soaked in water, sweetness seeps from it. Slowpoke uses this trait to lure in and fish up other Pokémon.\n",
      "Shellder, in its greed to suck out more and more sweetness from Slowbro’s tail, has metamorphosed into a spiral-shaped shell. Lives lazily by the sea. If the Shellder on its tail comes off, it becomes a Slowpoke again. Slowpoke became Slowbro when a Shellder bit on to its tail. Sweet flavors seeping from the tail make the Shellder feel as if its life is a dream. Being bitten by a Shellder shocked this Pokémon into standing on two legs. If the Shellder lets go, it seems Slowbro will turn back into a Slowpoke.\n",
      "Perhaps because electrical lines are often buried these days, the number of Magnemite attacks on power plants has increased. It is hatched with the ability to defy gravity. It floats while emitting powerful electromagnetic waves. At times, Magnemite runs out of electricity and ends up on the ground. If you give batteries to a grounded Magnemite, it’ll start moving again. It subsists on electricity. As Magnemite flies, it emits electromagnetic waves from the units on each side of its body.\n",
      "When rain clouds form, many Magneton gather in high places to wait for lightning to strike. Generates strange radio signals. It raises the temperature by 3.6 degrees Fahrenheit within 3,300 feet. This Pokémon is three Magnemite that have linked together. Magneton sends out powerful radio waves to study its surroundings. This Pokémon is constantly putting out a powerful magnetic force. Most computers go haywire when a Magneton approaches.\n",
      "The brains in its two heads appear to communicate emotions to each other with a telepathic power. Doduo’s two heads never sleep at the same time. Its two heads take turns sleeping, so one head can always keep watch for enemies while the other one sleeps. Doduo’s two heads contain completely identical brains. A scientific study reported that on rare occasions, there will be examples of this Pokémon possessing different sets of brains. Its short wings make flying difficult. Instead, this Pokémon runs at high speed on developed legs.\n",
      "An odd species that is rarely found. The three heads respectively represent joy, sadness, and anger. Watch out if Dodrio’s three heads are looking in three separate directions. It’s a sure sign that it is on its guard. Don’t go near this Pokémon if it’s being wary—it may decide to peck you. Apparently, the heads aren’t the only parts of the body that Dodrio has three of. It has three sets of hearts and lungs as well, so it is capable of running long distances without rest. One of Doduo’s two heads splits to form a unique species. It runs close to 40 mph in prairies.\n",
      "Seel hunts for prey in the frigid sea underneath sheets of ice. When it needs to breathe, it punches a hole through the ice with the sharply protruding section of its head. It has always been supposed that Seel live only in cold seas. Their having shown up in Alola is a mystery. Thanks to its thick fat, cold seas don’t bother it at all, but it gets tired pretty easily in warm waters. Loves freezing-cold conditions. Relishes swimming in a frigid climate of around 14 degrees Fahrenheit.\n",
      "Dewgong loves to snooze on bitterly cold ice. The sight of this Pokémon sleeping on a glacier was mistakenly thought to be a mermaid by a mariner long ago. It swims through the ocean at a speed of eight knots, searching for Pokémon that will become its prey. It’s especially fond of Wishiwashi. It sunbathes on the beach after meals. The rise in its body temperature helps its digestion. Its entire body is a snowy white. Unharmed by even intense cold, it swims powerfully in icy waters.\n",
      "It was born from sludge transformed by exposure to X-rays from the moon. When its internal load of germs decreases, it dies. It was born from sludge on the ocean floor. In a sterile environment, the germs within its body can’t multiply, and it dies. The wastewater coming from factories is clean these days, so Grimer have nothing to eat. They’re said to be on the verge of extinction. Made of congealed sludge. It smells too putrid to touch. Even weeds won’t grow in its path.\n",
      "After recent environmental improvements, this Pokémon is now hardly seen at all. People speculate that it may go extinct at some point. Their food sources have decreased, and their numbers have declined sharply. Sludge ponds are being built to prevent their extinction. Because they scatter germs everywhere, they’ve long been targeted for extermination, leading to a steep decline in their population. Smells so awful, it can cause fainting. Through degeneration of its nose, it lost its sense of smell.\n",
      "Even when its shell is closed, its tongue still hangs out. If you give its tongue a good yank, the shock will cause Shellder to open its shell. The shell can withstand any attack. However, when it is open, the tender body is exposed. It swims facing backward by opening and closing its two-piece shell. It is surprisingly fast. Its hard shell repels any kind of attack. It is vulnerable only when its shell is open.\n",
      "Slowpoke tails are its favorite food. It has even been known to come up on land to look for Slowpoke from time to time. For protection, it uses its harder-than-diamonds shell. It also shoots spikes from the shell. Its shell is extremely hard. It cannot be shattered, even with a bomb. The shell opens only when it is attacking. Once it slams its shell shut, it is impossible to open, even by those with superior strength.\n",
      "Poisonous gas comprises 95% of its body. It’s said that the remaining 5% is made up of the souls of those who died from the gas. Said to appear in decrepit, deserted buildings. It has no real shape, as it appears to be made of a gas. Born from gases, anyone would faint if engulfed by its gaseous body, which contains poison. With its gas-like body, it can sneak into any place it desires. However, it can be blown away by wind.\n",
      "It’s dangerous to go outside alone on nights when you’re feeling sad. Haunter will catch you, and you won’t be able to go back home. By licking, it saps the victim’s life. It causes shaking that won’t stop until the victim’s demise. Its tongue is made of gas. If licked, its victim starts shaking constantly until death eventually comes. If you get the feeling of being watched in darkness when nobody is around, Haunter is there.\n",
      "Even your home isn’t safe. Gengar will lurk in whatever dark corner of a room it can find and wait for its chance to catch its prey. A Gengar is close by if you feel a sudden chill. It may be trying to lay a curse on you. On the night of a full moon, if shadows move on their own and laugh, it must be Gengar’s doing. It is said to emerge from darkness to steal the lives of those who become lost in mountains.\n"
     ]
    },
    {
     "name": "stdout",
     "output_type": "stream",
     "text": [
      "Onix has a magnet in its brain. It acts as a compass so that this Pokémon does not lose direction while it is tunneling. As it grows older, its body becomes increasingly rounder and smoother. Burrows at high speed in search of food. The tunnels it leaves are used as homes by Diglett. As it digs through the ground, it absorbs many hard objects. This is what makes its body so solid. It rapidly bores through the ground at 50 mph by squirming and twisting its massive, rugged body.\n",
      "It finds really fun dreams tasty. When it makes friends with people, it may show them the most delicious dreams it’s ever eaten. It can be spotted near recreational facilities, intending to eat the pleasant dreams of children who enjoyed themselves there that day. It puts its prey to sleep and devours their dreams. It seems that bad dreams taste sour, so Drowzee doesn’t particularly like eating them. If you sleep by it all the time, it will sometimes show you dreams it had eaten in the past.\n",
      "As a matter of course, it makes anyone it meets fall asleep and has a taste of their dreams. Anyone having a good dream, it carries off. In Alola, Komala is Hypno’s main target. It rarely harms people. There are some Hypno that assist doctors with patients who can’t sleep at night in hospitals. Avoid eye contact if you come across one. It will try to put you to sleep by using its pendulum.\n",
      "Krabby live on beaches, burrowed inside holes dug into the sand. On sandy beaches with little in the way of food, these Pokémon can be seen squabbling with each other over territory. Its pincers are superb weapons. They sometimes break off during battle, but they grow back fast. It can be found near the sea. The large pincers grow back if they are torn out of their sockets. If it senses danger approaching, it cloaks itself with bubbles from its mouth so it will look bigger.\n",
      "Kingler has an enormous, oversized claw. It waves this huge claw in the air to communicate with others. However, because the claw is so heavy, the Pokémon quickly tires. One claw grew massively and is as hard as steel. It has 10,000-horsepower strength. However, it is too heavy. Its large and hard pincer has 10,000-horsepower strength. However, being so big, it is unwieldy to move. Its oversized claw is very powerful, but when it’s not in battle, the claw just gets in the way.\n",
      "Usually found in power plants. Easily mistaken for a Poké Ball, it has zapped many people. Voltorb was first sighted at a company that manufactures Poké Balls. The link between that sighting and the fact that this Pokémon looks very similar to a Poké Ball remains a mystery. Voltorb is extremely sensitive—it explodes at the slightest of shocks. It is rumored that it was first created when a Poké Ball was exposed to a powerful pulse of energy. It is said to camouflage itself as a Poké Ball. It will self-destruct with very little stimulus.\n",
      "It stores an overflowing amount of electric energy inside its body. Even a small shock makes it explode. Electrode eats electricity in the atmosphere. On days when lightning strikes, you can see this Pokémon exploding all over the place from eating too much electricity. One of Electrode’s characteristics is its attraction to electricity. It is a problematical Pokémon that congregates mostly at electrical power plants to feed on electricity that has just been generated. Stores electrical energy inside its body. Even the slightest shock could trigger a huge explosion.\n",
      "Although they are the same size as other Exeggcute, the ones produced in Alola are quite heavy. Their shells are packed full. The heads attract each other and spin around. There must be six heads for it to maintain balance. Though it may look like it’s just a bunch of eggs, it’s a proper Pokémon. Exeggcute communicates with others of its kind via telepathy, apparently. These Pokémon get nervous when they’re not in a group of six. The minute even one member of the group goes missing, Exeggcute become cowardly.\n",
      "Each of its three heads has its own thoughts. When they want to go in different directions, Exeggutor becomes unable to move. Its cries are very noisy. This is because each of the three heads thinks about whatever it likes. Each of Exeggutor’s three heads is thinking different thoughts. The three don’t seem to be very interested in one another. When they work together, Exeggutor’s three heads can put out powerful psychic energy. Cloudy days make this Pokémon sluggish.\n",
      "It wears its mother’s skull on its head, so no one knows what its bare face looks like. However, it’s clear that it’s always crying. Wears the skull of its deceased mother. Its cries echo inside the skull and come out as a sad melody. When the memory of its departed mother brings it to tears, its cries echo mournfully within the skull it wears on its head. This Pokémon wears the skull of its deceased mother. Sometimes Cubone’s dreams make it cry, but each tear Cubone sheds makes it stronger.\n",
      "They thump their bones rhythmically to communicate among themselves. There are nearly 50 different rhythmic patterns. Small and weak, this Pokémon is adept with its bone club. It has grown more vicious over the ages. This Pokémon overcame its sorrow to evolve a sturdy new body. Marowak faces its opponents bravely, using a bone as a weapon. When this Pokémon evolved, the skull of its mother fused to it. Marowak’s temperament also turned vicious at the same time.\n",
      "Hitmonlee’s legs freely contract and stretch. Using these springlike legs, it bowls over foes with devastating kicks. After battle, it rubs down its legs and loosens the muscles to overcome fatigue. When kicking, the sole of its foot turns as hard as a diamond on impact and destroys its enemy. This amazing Pokémon has an awesome sense of balance. It can kick in succession from any position. The legs freely contract and stretch. The stretchy legs allow it to hit a distant foe with a rising kick.\n",
      "Hitmonchan is said to possess the spirit of a boxer who had been working toward a world championship. This Pokémon has an indomitable spirit and will never give up in the face of adversity. Punches in corkscrew fashion. It can punch its way through a concrete wall like a drill. Its punches slice the air. They are launched at such high speed, even a slight graze could cause a burn. Its punches slice the air. However, it seems to need a short break after fighting for three minutes.\n",
      "It licks filth clean with its tongue. Whatever it licks always stinks afterward, so whether it’s really clean is...questionable. Its tongue spans almost seven feet and moves more freely than its forelegs. Its licks can cause paralysis. If this Pokémon’s sticky saliva gets on you and you don’t clean it off, an intense itch will set in. The itch won’t go away, either. Bug Pokémon are Lickitung’s main food source. This Pokémon paralyzes its prey with a lick from its long tongue, then swallows the prey whole.\n",
      "Koffing embodies toxic substances. It mixes the toxins with raw garbage to set off a chemical reaction that results in a terribly powerful poison gas. The higher the temperature, the more gas is concocted by this Pokémon. In hot places, its internal gases could expand and explode without any warning. Be very careful! Its body is full of poisonous gas. It floats into garbage dumps, seeking out the fumes of raw, rotting trash. It adores polluted air. Some claim that Koffing used to be more plentiful in the Galar region than they are now.\n",
      "Weezing alternately shrinks and inflates its twin bodies to mix together toxic gases inside. The more the gases are mixed, the more powerful the toxins become. The Pokémon also becomes more putrid. This Pokémon lives and grows by absorbing poison gas, dust, and germs that exist inside garbage. It mixes gases between its two bodies. It’s said that these Pokémon were seen all over the Galar region back in the day. It can’t suck in air quite as well as a Galarian Weezing, but the toxins it creates are more potent than those of its counterpart.\n",
      "Rhyhorn’s brain is very small. It is so dense, while on a run it forgets why it started running in the first place. It apparently remembers sometimes if it demolishes something. A Pokémon with a one-track mind. Once it charges, it won’t stop running until it falls asleep. Strong, but not too bright, this Pokémon can shatter even a skyscraper with its charging tackles. It can remember only one thing at a time. Once it starts rushing, it forgets why it started.\n"
     ]
    },
    {
     "name": "stdout",
     "output_type": "stream",
     "text": [
      "Rhydon has a horn that serves as a drill. It is used for destroying rocks and boulders. This Pokémon occasionally rams into streams of magma, but the armor-like hide prevents it from feeling the heat. Its brain developed when it began walking on its hind legs. Its armor-like hide even repels molten lava. It begins walking on its hind legs after evolution. It can punch holes through boulders with its horn. Protected by an armor-like hide, it is capable of living in molten lava of 3,600 degrees Fahrenheit.\n",
      "Because the eggs on their bellies have been overharvested by people in the past, the Chansey population remains very small. A gentle and kindhearted Pokémon that shares its nutritious eggs if it sees an injured Pokémon. The egg Chansey carries is not only delicious but also packed with nutrition. It’s used as a high-class cooking ingredient. This species was once very slow. To protect their eggs from other creatures, these Pokémon became able to flee quickly.\n",
      "Tangela’s vines snap off easily if they are grabbed. This happens without pain, allowing it to make a quick getaway. The lost vines are replaced by newly grown vines the very next day. Its identity is obscured by masses of thick blue vines. The vines are said to never stop growing. Hidden beneath a tangle of vines that grows nonstop even if the vines are torn off, this Pokémon’s true appearance remains a mystery. The vines of a Tangela have a distinct scent. In some parts of Galar, Tangela vines are used as herbs.\n",
      "You shouldn’t get close to the child when it’s playing outside its mother’s pouch. Its mother is always nearby watching over it. Raises its young in its belly pouch. Won’t run from any fight to keep its young protected. Although it’s carrying its baby in a pouch on its belly, Kangaskhan is swift on its feet. It intimidates its opponents with quick jabs. There are records of a lost human child being raised by a childless Kangaskhan.\n",
      "If Horsea senses danger, it will reflexively spray a dense black ink from its mouth and try to escape. This Pokémon swims by cleverly flapping the fin on its back. If it senses any danger, it will vigorously spray water or a special type of ink from its mouth. Horsea makes its home in oceans with gentle currents. If this Pokémon is under attack, it spits out pitch-black ink and escapes. They swim with dance-like motions and cause whirlpools to form. Horsea compete to see which of them can generate the biggest whirlpool.\n",
      "Seadra generates whirlpools by spinning its body. The whirlpools are strong enough to swallow even fishing boats. This Pokémon weakens prey with these currents, then swallows it whole. Touching the back fin causes numbness. It hooks its tail to coral to stay in place while sleeping. It’s the males that raise the offspring. While Seadra are raising young, the spines on their backs secrete thicker and stronger poison. Seadra’s mouth is slender, but its suction power is strong. In an instant, Seadra can suck in food that’s larger than the opening of its mouth.\n",
      "The way it swims along fluttering its dress-like fins has earned it the name “princess of the water.” When it is time for them to lay eggs, they can be seen swimming up rivers and falls in large groups. Its dorsal, pectoral, and tail fins wave elegantly in water. That is why it is known as the Water Dancer. Its dorsal and pectoral fins are strongly developed like muscles. It can swim at a speed of five knots.\n",
      "To attract females, males dance on the river’s floor. The females gather around the male that dances most gracefully. It is the male’s job to make a nest by carving out boulders in a stream using the horn on its head. In autumn, its body becomes more fatty in preparing to propose to a mate. It takes on beautiful colors. Using its horn, it bores holes in riverbed boulders, making nests to prevent its eggs from washing away.\n",
      "No number of injuries can bother Staryu. Its amazing regenerative powers return it to its previous state in half a day! As long as the center section is unharmed, this Pokémon can grow back fully even if it is chopped to bits. If you visit a beach at the end of summer, you’ll be able to see groups of Staryu lighting up in a steady rhythm. Fish Pokémon nibble at it, but Staryu isn’t bothered. Its body regenerates quickly, even if part of it is completely torn off.\n",
      "It rotates its geometrically shaped body to swim through the water. It always seems to be sending out mysterious radio waves. The center section is named the core. People think it is communicating when it glows in seven colors. This Pokémon has an organ known as its core. The organ glows in seven colors when Starmie is unleashing its potent psychic powers. Starmie swims by spinning its body at high speed. As this Pokémon cruises through the ocean, it absorbs tiny plankton.\n",
      "Some call it a ninja. Its movements— imperceptibly quick—are sufficient to cleave the air in two. It’s very popular in Alola. Leaps out of tall grass and slices prey with its scythes. The movement looks like that of a ninja. As Scyther fights more and more battles, its scythes become sharper and sharper. With a single slice, Scyther can fell a massive tree. If you come across an area in a forest where a lot of the trees have been cut down, what you’ve found is a Scyther’s territory.\n",
      "Its strange cries sound like human language. There are some musicians who compose songs for Jynx to sing. Appears to move to a rhythm of its own, as if it were dancing. It wiggles its hips as it walks. In certain parts of Galar, Jynx was once feared and worshiped as the Queen of Ice. The Jynx of Galar often have beautiful and delicate voices. Some of these Pokémon have even gathered a fan base.\n",
      "While it’s often blamed for power outages, the truth is the cause of outages is more often an error on the part of the electric company. If a major power outage occurs, it is certain that this Pokémon has eaten electricity at a power plant. Many power plants keep Ground-type Pokémon around as a defense against Electabuzz that come seeking electricity. With the coming of a storm, many of these Pokémon will gather under tall trees and sit there waiting for lightning to strike.\n",
      "The hotter the place, the better they feel. Magmar in Alola are said to be hardier than those in other areas. Born in an active volcano. Its body is always cloaked in flames, so it looks like a big ball of fire. Magmar dispatches its prey with fire. But it regrets this habit once it realizes that it has burned its intended prey to a charred crisp. These Pokémon’s bodies are constantly burning. Magmar are feared as one of the causes behind fires.\n",
      "Although it’s tough, it can’t handle cold well. When night falls, it buries itself in leafage and sleeps. Grips its prey in its pincers and squeezes hard! It can’t move if it’s cold, so it lives in warm places. These Pokémon judge one another based on pincers. Thicker, more impressive pincers make for more popularity with the opposite gender. This Pokémon clamps its pincers down on its prey and then either splits the prey in half or flings it away.\n",
      "The climate seems to be related to the reason Tauros in Alola are a little calmer than those in other regions. A rowdy Pokémon with a lot of stamina. Once running, it won’t stop until it hits something. When Tauros begins whipping itself with its tails, it’s a warning that the Pokémon is about to charge with astounding speed. The Tauros of the Galar region are volatile in nature, and they won’t allow people to ride on their backs.\n",
      "Thanks to their strong hold on life, dirty water doesn’t bother them at all. They live in waters all over the world! Famous for being very unreliable. It can be found swimming in seas, lakes, rivers and shallow puddles. It is virtually worthless in terms of both power and speed. It is the most weak and pathetic Pokémon in the world. This weak and pathetic Pokémon gets easily pushed along rivers when there are strong currents.\n",
      "The energy from evolution stimulated its brain cells strongly, causing it to become very ferocious. Brutally vicious and enormously destructive. Known for totally destroying cities in ancient times. It has an extremely aggressive nature. The Hyper Beam it shoots from its mouth totally incinerates all targets. Once it begins to rampage, a Gyarados will burn everything down, even in a harsh storm.\n"
     ]
    },
    {
     "name": "stdout",
     "output_type": "stream",
     "text": [
      "They’ve been so cherished that there’s now an overabundance. The fish Pokémon population has declined in waters with too many Lapras. A gentle soul that can understand human speech. It can ferry people across the sea on its back. A smart and kindhearted Pokémon, it glides across the surface of the sea while its beautiful song echoes around it. Crossing icy seas is no issue for this cold-resistant Pokémon. Its smooth skin is a little cool to the touch.\n",
      "It transforms into whatever it sees. If the thing it’s transforming into isn’t right in front of it, Ditto relies on its memory—so sometimes it fails. When it spots an enemy, its body transfigures into an almost-perfect copy of its opponent. It can reconstitute its entire cellular structure to change into what it sees, but it returns to normal when it relaxes. When it encounters another Ditto, it will move faster than normal to duplicate that opponent exactly.\n",
      "Its genes are easily influenced by its surroundings. Even its face starts to look like that of its Trainer. It can evolve into a variety of forms. Eevee’s genes are the key to solving the mysteries of Pokémon evolution. It has the ability to alter the composition of its body to suit its surrounding environment. Thanks to its unstable genetic makeup, this special Pokémon conceals many different possible evolutions.\n",
      "It detects nearby moisture with its fin. When its fin begins trembling rapidly, that means rain will fall in a few hours. Its cell structure is similar to water molecules. It melts into the water and becomes invisible. When Vaporeon’s fins begin to vibrate, it is a sign that rain will come within a few hours. Its body’s cellular structure is similar to the molecular composition of water. It can melt invisibly in water.\n",
      "Its fur stands on end, becoming like needles it fires at enemies. Once they’re weakened, it finishes them off with a 10,000 volt shock. A sensitive Pokémon that easily becomes sad or angry. Every time its mood changes, it charges power. If it is angered or startled, the fur all over its body bristles like sharp needles that pierce foes. It accumulates negative ions in the atmosphere to blast out 10,000-volt lightning bolts.\n",
      "The flame chamber inside its body ignites when Flareon gets agitated, reaching temperatures of up to 1,650 degrees Fahrenheit. It has a flame chamber inside its body. It inhales, then breathes out fire that is over 3,000 degrees Fahrenheit. Once it has stored up enough heat, this Pokémon’s body temperature can reach up to 1,700 degrees Fahrenheit. It stores some of the air it inhales in its internal flame pouch, which heats it to over 3,000 degrees Fahrenheit.\n",
      "It was built 20 years ago by scientists who dreamed of exploring space. Their dreams have yet to come true. The only Pokémon that people anticipate can fly into space. None has managed the feat yet, however. State-of-the-art technology was used to create Porygon. It was the first artificial Pokémon to be created via computer programming. In recent years, this species has been very helpful in cyberspace. These Pokémon will go around checking to make sure no suspicious data exists.\n",
      "It was restored from an ancient fossil. Those Helix Fossils are excavated from areas that were once oceans long, long ago. An ancient Pokémon that was recovered from a fossil. It swam by cleverly twisting its 10 tentacles about. Because some Omanyte manage to escape after being restored or are released into the wild by people, this species is becoming a problem. This Pokémon is a member of an ancient, extinct species. Omanyte paddles through water with its 10 tentacles, looking like it’s just drifting along.\n",
      "It wraps its prey in its tentacles to immobilize them and then finishes them off with its sharp fangs. Its sharp beak rings its mouth. Its shell was too big for it to move freely, so it became extinct. Weighed down by a large and heavy shell, Omastar couldn’t move very fast. Some say it went extinct because it was unable to catch food. Omastar’s sharp fangs could crush rock, but the Pokémon can attack only the prey that come within reach of its tentacles.\n",
      "This Pokémon became extinct everywhere, except in a few areas. It protects itself with its hard shell. A Pokémon that was recovered from a fossil. It used the eyes on its back while hiding on the seafloor. This species is almost entirely extinct. Kabuto molt every three days, making their shells harder and harder. While some say this species has gone extinct, Kabuto sightings are apparently fairly common in some places.\n",
      "It swims at speeds of roughly 29 knots, quickly closing in on its prey and slashing into them with its scythes to finish them off. A slim and fast swimmer. It sliced its prey with its sharp sickles and drank the body fluids. Kabutops slices its prey apart and sucks out the fluids. The discarded body parts become food for other Pokémon. The cause behind the extinction of this species is unknown. Kabutops were aggressive Pokémon that inhabited warm seas.\n",
      "It flew through the open skies over the ancient continent as if they were its own. When it touched ground, its walk was weak and slow. A savage Pokémon that died out in ancient times. It was resurrected using DNA taken from amber. This is a ferocious Pokémon from ancient times. Apparently even modern technology is incapable of producing a perfectly restored specimen. Aerodactyl’s sawlike fangs can shred skin to tatters—even the skin of Steel-type Pokémon.\n",
      "It has no interest in anything other than eating. Even if you climb up on its stomach while it’s napping, it doesn’t seem to mind at all! Will eat anything, even if the food happens to be a little moldy. It never gets an upset stomach. It is not satisfied unless it eats over 880 pounds of food every day. When it is done eating, it goes promptly to sleep. This Pokémon’s stomach is so strong, even eating moldy or rotten food will not affect it.\n",
      "Articuno is a legendary bird Pokémon that can control ice. The flapping of its wings chills the air. As a result, it is said that when this Pokémon flies, snow will fall. A legendary bird Pokémon. It freezes water that is contained in winter air and makes it snow. It’s said that this Pokémon’s beautiful blue wings are made of ice. Articuno flies over snowy mountains, its long tail fluttering along behind it. This Pokémon can control ice at will. Articuno is said to live in snowy mountains riddled with permafrost.\n",
      "Zapdos is a legendary bird Pokémon that has the ability to control electricity. It usually lives in thunderclouds. The Pokémon gains power if it is stricken by lightning bolts. This legendary bird Pokémon is said to appear when the sky turns dark and lightning showers down. This Pokémon has complete control over electricity. There are tales of Zapdos nesting in the dark depths of pitch-black thunderclouds. Zapdos is a legendary bird Pokémon. It’s said that when Zapdos rubs its feathers together, lightning will fall immediately after.\n",
      "Moltres is a legendary bird Pokémon that has the ability to control fire. If this Pokémon is injured, it is said to dip its body in the molten magma of a volcano to burn and heal itself. A legendary bird Pokémon. As it flaps its flaming wings, even the night sky will turn red. It’s one of the legendary bird Pokémon. When Moltres flaps its flaming wings, they glimmer with a dazzling red glow. There are stories of this Pokémon using its radiant, flame-cloaked wings to light up paths for those lost in the mountains.\n",
      "It sheds its skin—almost on a daily basis—and grows larger. Its skin is soft just after it’s been shed. Long thought to be a myth, this Pokémon’s existence was only recently confirmed by a fisherman who caught one. Dratini dwells near bodies of rapidly flowing water, such as the plunge pools of waterfalls. As it grows, Dratini will shed its skin many times. This Pokémon was long considered to be no more than a myth. The small lump on a Dratini’s forehead is actually a horn that’s still coming in.\n",
      "Some say that if you see it at the start of the year, flying through the sky and twisting its body, you’ll be healthy all year long. According to a witness, its body was surrounded by a strange aura that gave it a mystical look. This Pokémon lives in pristine oceans and lakes. It can control the weather, and it uses this power to fly into the sky, riding on the wind. This Pokémon gathers power in the orbs on its tail and controls the weather. When enshrouded by an aura, Dragonair has a mystical appearance.\n"
     ]
    },
    {
     "name": "stdout",
     "output_type": "stream",
     "text": [
      "You’ll often hear tales of this kindhearted Pokémon rescuing people or Pokémon that are drowning. It is said that this Pokémon lives somewhere in the sea and that it flies. However, these are only rumors. It’s a kindhearted Pokémon. If it spots a drowning person or Pokémon, Dragonite simply must help them. This Pokémon is known as the Sea Incarnate. Figureheads that resemble Dragonite decorate the bows of many ships.\n",
      "Mewtwo is a Pokémon that was created by genetic manipulation. However, even though the scientific power of humans created this Pokémon’s body, they failed to endow Mewtwo with a compassionate heart. Its DNA is almost the same as Mew’s. However, its size and disposition are vastly different. Created from the DNA of Mew, this Pokémon is a dangerous combination of overwhelming power and a savage heart. The research efforts of a certain scientist ultimately resulted in this Pokémon. Its powers are dedicated to battling.\n",
      "Mew is said to possess the genetic composition of all Pokémon. It is capable of making itself invisible at will, so it entirely avoids notice even if it approaches people. When viewed through a microscope, this Pokémon’s short, fine, delicate hair can be seen. It’s very intelligent and can use an incredible variety of moves. Many believe that all other Pokémon are descendants of this one. This mythical Pokémon is said to be extinct, but sightings of it are still being reported to this day.\n",
      "It uses the leaf on its head to determine the temperature and humidity. It loves to sunbathe. A sweet aroma gently wafts from the leaf on its head. It is docile and loves to soak up sun rays. It uses the leaf on its head to determine the temperature and humidity. It loves to sunbathe. In battle, Chikorita waves its leaf around to keep the foe at bay. However, a sweet fragrance also wafts from the leaf, becalming the battling Pokémon and creating a cozy, friendly atmosphere all around.\n",
      "The buds that ring its neck give off a spicy aroma that perks people up. A spicy aroma emanates from around its neck. The aroma acts as a stimulant to restore health. The buds that ring its neck give off a spicy aroma that perks people up. Bayleef’s neck is ringed by curled-up leaves. Inside each tubular leaf is a small shoot of a tree. The fragrance of this shoot makes people peppy.\n",
      "Its breath has the fantastic ability to revive dead plants and flowers. The aroma that rises from its petals contains a substance that calms aggressive feelings. Meganium’s breath has the power to revive dead grass and plants. It can make them healthy again. The fragrance of Meganium’s flower soothes and calms emotions. In battle, this Pokémon gives off more of its becalming scent to blunt the foe’s fighting spirit.\n",
      "It has a timid nature. If it is startled, the flames on its back burn more vigorously. It is timid and always curls itself up in a ball. If attacked, it flares up its back for protection. It has a timid nature. If it is startled, the flames on its back burn more vigorously. Cyndaquil protects itself by flaring up the flames on its back. The flames are vigorous if the Pokémon is angry. However, if it is tired, the flames splutter fitfully with incomplete combustion.\n",
      "It intimidates foes with the heat of its flames. The fire burns more strongly when it readies to fight. Before battle, it turns its back on its opponent to demonstrate how ferociously its fire blazes. Be careful if it turns its back during battle. It means that it will attack with the fire on its back. Quilava keeps its foes at bay with the intensity of its flames and gusts of superheated air. This Pokémon applies its outstanding nimbleness to dodge attacks even while scorching the foe with flames.\n",
      "It attacks using blasts of fire. It creates heat shimmers with intense fire to hide itself. If its rage peaks, it becomes so hot that anything that touches it will instantly go up in flames. It has a secret, devastating move. It rubs its blazing fur together to cause huge explosions. Typhlosion obscures itself behind a shimmering heat haze that it creates using its intensely hot flames. This Pokémon creates blazing explosive blasts that burn everything to cinders.\n",
      "It has the habit of biting anything with its developed jaws. Even its Trainer needs to be careful. It is small but rough and tough. It won’t hesitate to take a bite out of anything that moves. Its powerful, well-developed jaws are capable of crushing anything. Even its Trainer must be careful. Despite the smallness of its body, Totodile’s jaws are very powerful. While the Pokémon may think it is just playfully nipping, its bite has enough power to cause serious injury.\n",
      "Once it bites down, it won’t let go until it loses its fangs. New fangs quickly grow into place. If it loses a fang, a new one grows back in its place. There are always 48 fangs lining its mouth. Once it bites down, it won’t let go until it loses its fangs. New fangs quickly grow into place. Once Croconaw has clamped its jaws on its foe, it will absolutely not let go. Because the tips of its fangs are forked back like barbed fishhooks, they become impossible to remove when they have sunk in.\n",
      "It usually moves slowly, but it goes at blinding speed when it attacks and bites prey. It usually moves slowly, but it goes at blinding speed when it attacks and bites prey. When it bites with its massive and powerful jaws, it shakes its head and savagely tears its victim up. Feraligatr intimidates its foes by opening its huge mouth. In battle, it will kick the ground hard with its thick and powerful hind legs to charge at the foe at an incredible speed.\n",
      "It has a very nervous nature. It stands up high on its tail so it can scan wide areas. When acting as a lookout, it warns others of danger by screeching and hitting the ground with its tail. It stands on its tail so it can see a long way. If it spots an enemy, it cries loudly to warn its kind. When Sentret sleeps, it does so while another stands guard. The sentry wakes the others at the first sign of danger. When this Pokémon becomes separated from its pack, it becomes incapable of sleep due to fear.\n",
      "The mother puts its offspring to sleep by curling up around them. It corners foes with speed. The mother puts its offspring to sleep by curling up around them. It corners foes with speed. It makes a nest to suit its long and skinny body. The nest is impossible for other Pokémon to enter. Furret has a very slim build. When under attack, it can slickly squirm through narrow spaces and get away. In spite of its short limbs, this Pokémon is very nimble and fleet.\n",
      "Every day, it tilts its head in the same rhythm. A long time ago, people raised these Pokémon to serve as clocks. It cries out at the same time every day. A long time ago, people cherished it and considered it a divine messenger sent to tell the time. It always stands on one foot. It changes feet so fast, the movement can rarely be seen. It begins to hoot at the same time every day. Some Trainers use them in place of clocks.\n",
      "With eyes that can see in pitch-darkness, it never lets its prey escape. Some even call it “the emperor of dark nights.” When it turns its head entirely upside down, you know it’s troubled by something. If you don’t leave it be, it will peck you. Its eyes are specially developed to enable it to see clearly even in murky darkness and minimal light. When it needs to think, it rotates its head 180 degrees to sharpen its intellectual power.\n",
      "They are timid and grow uneasy when not in a swarm with others of their kind. The pattern on their backs differs slightly from one to another. They communicate with one another using bodily fluids that give off odors. When they’re angry, their odor smells sour. This Pokémon is very sensitive to cold. In the warmth of Alola, it appears quite lively. These very cowardly Pokémon join together and use Reflect to protect their nest.\n",
      "While it’s believed that starlight provides it with energy, this Pokémon also loves to eat berries. In the daytime, it curls up in the grass to sleep. In battle, it throws punches with all four arms. The power of each individual blow is piddly, so it aims to win by quantity rather than quality. It’s said that the patterns on its back are related to the stars in the night sky, but the details of that relationship remain unclear. It flies through the night sky, sprinkling sparkly dust. According to some, if that dust sticks to you, good things will happen to you.\n"
     ]
    },
    {
     "name": "stdout",
     "output_type": "stream",
     "text": [
      "It waits intently until its preferred prey, Cutiefly, gets caught in its web. In fact, it’s quite a patient Pokémon. Some fishermen weave its sturdy thread into nets to catch fish Pokémon. With threads from its mouth, it fashions sturdy webs that won’t break even if you set a rock on them. Although the poison from its fangs isn’t that strong, it’s potent enough to weaken prey that gets caught in its web.\n",
      "There are some areas where people use the string Ariados spins for their own weaving. The resulting cloth is popular for its strength. It spins thread from both its rear and its mouth. Then it wraps its prey up in thread and sips their bodily fluids at its leisure. Every night, it wanders around in search of prey, whose movements it restrains by spewing threads before it bites into them with its fangs. It spews threads from its mouth to catch its prey. When night falls, it leaves its web to go hunt aggressively.\n",
      "Its fangs are so sharp, if it bites you in the dark and sucks your blood, you won’t notice any pain or realize you’ve been bitten. It feeds on the blood of living people and Pokémon. If it can’t drink any blood for even a short while, it becomes weak and unable to fly. Both of its legs have turned into wings. Without a sound, Crobat flies swiftly toward its prey and sinks its fangs into the nape of its target’s neck. This Pokémon flaps its four wings skillfully. Crobat can fly through cramped caves without needing to slow down.\n",
      "Its two antennae glow softly to lure in prey, making it a useful Pokémon for night fishing. Chinchou blink their shining antennae at one another to claim their respective turf. Its antennae, which evolved from a fin, have both positive and negative charges flowing through them. On the dark ocean floor, its only means of communication is its constantly flashing lights.\n",
      "When the bacteria living inside its antennae absorb Lanturn’s bodily fluids, a strong luminescent effect is produced. It lives far down in the depths of the ocean. It blinds its prey with light, using the moment they’re dazzled to swallow them whole. The light it emits is so bright that it can illuminate the sea’s surface from a depth of over three miles. This Pokémon flashes a bright light that blinds its prey. This creates an opening for it to deliver an electrical attack.\n",
      "It still can’t use electricity well. When it’s surprised or excited, it discharges electricity unintentionally. It has electric sacs in its cheeks. When they’re fully charged, Pichu plays very energetically. Despite its small size, it can zap even adult humans. However, if it does so, it also surprises itself. The electric sacs in its cheeks are small. If even a little electricity leaks, it becomes shocked.\n",
      "On nights with many shooting stars, they gather in packs and dance in circles. If you should see them, something good will happen! Said to have ridden here on a shooting star, Cleffa seem to appear in places where meteorites have struck in the past. According to local rumors, Cleffa are often seen in places where shooting stars have fallen. Because of its unusual, starlike silhouette, people believe that it came here on a meteor.\n",
      "It’s always practicing its singing because it wants to improve. Even when it’s asleep, it keeps singing in its dreams! Left to its own devices, it will constantly practice singing. You should make it take a break so it doesn’t hurt its throat. Igglybuff loves to sing. Its marshmallow-like body gives off a faint sweet smell. Taking advantage of the softness of its body, Igglybuff moves as if bouncing. Its body turns a deep pink when its temperature rises.\n",
      "A proverb claims that happiness will come to anyone who can make a sleeping Togepi stand up. As its energy, Togepi uses the positive emotions of compassion and pleasure exuded by people and Pokémon. This Pokémon stores up feelings of happiness inside its shell, then shares them with others. The shell seems to be filled with joy. It is said that it will share good luck when treated kindly. It is considered to be a symbol of good luck. Its shell is said to be filled with happiness.\n",
      "They say that it will appear before kindhearted, caring people and shower them with happiness. Togetic is said to be a Pokémon that brings good fortune. When the Pokémon spots someone who is pure of heart, it is said to appear and share its happiness with that person. They say that it will appear before kindhearted, caring people and shower them with happiness. It grows dispirited if it is not with kind people. It can float in midair without moving its wings.\n",
      "Although it still can’t fly, its jumping power is outstanding. It jumps way up into trees and plucks the buds from the branches. The look in its eyes gives the impression that it’s carefully observing you. If you approach it, Natu will hop away. It is extremely good at climbing tree trunks and likes to eat the new sprouts on the trees. Because its wings aren’t yet fully grown, it has to hop to get around. It is always staring at something.\n",
      "It’s said that while this Pokémon has the power to predict the future, it’s not powerful enough to change the future it sees. While it can see the future, it has no desire to change it, which is probably why it remains motionless at all times. They say that it stays still and quiet because it is seeing both the past and future at the same time. This odd Pokémon can see both the past and the future. It eyes the sun’s movement all day.\n",
      "It stores lots of air in its soft fur, allowing it to stay cool in summer and warm in winter. Mareep’s fluffy coat of wool rubs together and builds a static charge. The more static electricity is charged, the more brightly the lightbulb at the tip of its tail glows. Clothing made from Mareep’s fleece is easily charged with static electricity, so a special process is used on it. Rubbing its fleece generates electricity. You’ll want to pet it because it’s cute, but if you use your bare hand, you’ll get a painful shock.\n",
      "If its coat becomes fully charged with electricity, its tail lights up. It fires hair that zaps on impact. Flaaffy’s wool quality changes so that it can generate a high amount of static electricity with a small amount of wool. The bare and slick parts of its hide are shielded against electricity. In the places on its body where fleece doesn’t grow, its skin is rubbery and doesn’t conduct electricity. Those spots are safe to touch. It stores electricity in its fluffy fleece. If it stores up too much, it will start to go bald in those patches.\n",
      "The tail’s tip shines brightly and can be seen from far away. It acts as a beacon for lost people. Ampharos gives off so much light that it can be seen even from space. People in the old days used the light of this Pokémon to send signals back and forth with others far away. The light from its tail can be seen from space. This is why you can always tell exactly where it is, which is why it usually keeps the light off. Its tail shines bright and strong. It has been prized since long ago as a beacon for sailors.\n",
      "When Bellossom gets exposed to plenty of sunlight, the leaves ringing its body begin to spin around. This Pokémon’s dancing is renowned in the southern lands. A Bellossom grows flowers more beautifully if it has evolved from a smelly Gloom—the more stinky the better. At night, this Pokémon closes its petals and goes to sleep. Plentiful in the tropics. When it dances, its petals rub together and make a pleasant ringing sound. Bellossom gather at times and appear to dance. They say that the dance is a ritual to summon the sun.\n",
      "Marill’s oil-filled tail acts much like a life preserver. If you see just its tail bobbing on the water’s surface, it’s a sure indication that this Pokémon is diving beneath the water to feed on aquatic plants. When fishing for food at the edge of a fast-running stream, Marill wraps its tail around the trunk of a tree. This Pokémon’s tail is flexible and configured to stretch. This Pokémon uses its round tail as a float. The ball of Marill’s tail is filled with nutrients that have been turned into an oil. Even after Marill swims in a cold sea, its water- repellent fur dries almost as soon as Marill leaves the water. That’s why this Pokémon is never cold.\n"
     ]
    },
    {
     "name": "stdout",
     "output_type": "stream",
     "text": [
      "Azumarill’s long ears are indispensable sensors. By focusing its hearing, this Pokémon can identify what kinds of prey are around, even in rough and fast-running rivers. Azumarill can make balloons out of air. It makes these air balloons if it spots a drowning Pokémon. The air balloons enable the Pokémon in trouble to breathe. It spends most of its time in the water. On sunny days, Azumarill floats on the surface of the water and sunbathes. These Pokémon create air-filled bubbles. When Azurill play in rivers, Azumarill will cover them with these bubbles.\n",
      "It’s so popular with the elderly that there’s a magazine devoted to this Pokémon. Fans obsess over the particular length and angle of its arms. The result of its holding the same pose all the time is arms that have become supple yet strong. If a tree branch shakes when there is no wind, it’s a Sudowoodo, not a tree. It hides from the rain. It disguises itself as a tree to avoid attack. It hates water, so it will disappear if it starts raining.\n",
      "Although its cries sound like screams, a composer created a beautiful ballad that was influenced by the sounds. The longer and more luxurious the curled hair on its head, the greater the number of Poliwag and Poliwhirl that will obey it. At nightfall, these Pokémon appear on the shores of lakes. They announce their territorial claims by letting out cries that sound like shouting. The cry of a male is louder than that of a female. Male Politoed with deep, menacing voices find more popularity with the opposite gender.\n",
      "It drifts on winds. It is said that when Hoppip gather in fields and mountains, spring is on the way. Its body is so light, it must grip the ground firmly with its feet to keep from being blown away. It drifts on winds. It is said that when Hoppip gather in fields and mountains, spring is on the way. This Pokémon drifts and floats with the wind. If it senses the approach of strong winds, Hoppip links its leaves with other Hoppip to prepare against being blown away.\n",
      "It blooms when the weather warms. It floats in the sky to soak up as much sunlight as possible. The bloom on top of its head opens and closes as the temperature fluctuates up and down. It spreads its petals to absorb sunlight. It also floats in the air to get closer to the sun. Skiploom’s flower blossoms when the temperature rises above 64 degrees Fahrenheit. How much the flower opens depends on the temperature. For that reason, this Pokémon is sometimes used as a thermometer.\n",
      "Blown by seasonal winds, it circles the globe, scattering cotton spores as it goes. Blown by seasonal winds, it circles the globe, scattering cotton spores as it goes. Even in the fiercest wind, it can control its fluff to make its way to any place in the world it wants. Jumpluff rides warm southern winds to cross the sea and fly to foreign lands. The Pokémon descends to the ground when it encounters cold air while it is floating.\n",
      "Its tail is so powerful that it can use it to grab a tree branch and hold itself up in the air. Aipom’s tail ends in a hand-like appendage that can be cleverly manipulated. However, because the Pokémon uses its tail so much, its real hands have become rather clumsy. As it did more and more with its tail, its hands became clumsy. It makes its nest high in the treetops. It searches for prey from the tops of trees. When it spots its favorite food, Bounsweet, Aipom gets excited and pounces.\n",
      "It suddenly falls out of the sky in the morning. Knowing it’s weak, it simply feeds until it evolves. It may plummet from the sky. If attacked by a Spearow, it will violently shake its leaves. It lives by drinking only dewdrops from under the leaves of plants. It is said that it eats nothing else. Sunkern tries to move as little as it possibly can. It does so because it tries to conserve all the nutrients it has stored in its body for its evolution. It will not eat a thing, subsisting only on morning dew.\n",
      "Since it converts sunlight into energy, it is always looking in the direction of the sun. As the hot season approaches, the petals on this Pokémon’s face become more vivid and lively. It gets energy from warm sunlight and is known for its habit of moving in pursuit of it. Sunflora converts solar energy into nutrition. It moves around actively in the daytime when it is warm. It stops moving as soon as the sun goes down for the night.\n",
      "By flapping its wings at high speed, it can fly freely through the air. Even sudden stops are no problem. Its eyes can see 360 degrees without moving its head. It won’t miss prey--even those behind it. If it flaps its wings really fast, it can generate shock waves that will shatter windows in the area. Yanma is capable of seeing 360 degrees without having to move its eyes. It is a great flier that is adept at making sudden stops and turning midair. This Pokémon uses its flying ability to quickly chase down targeted prey.\n",
      "When the temperature cools in the evening, they emerge from water to seek food along the shore. Wooper usually lives in water. However, it occasionally comes out onto land in search of food. On land, it coats its body with a gooey, toxic film. This Pokémon lives in cold water. It will leave the water to search for food when it gets cold outside. When walking on land, it covers its body with a poisonous film that keeps its skin from dehydrating.\n",
      "This carefree Pokémon has an easygoing nature. While swimming, it always bumps into boat hulls. Quagsire hunts for food by leaving its mouth wide open in water and waiting for its prey to blunder in unaware. Because the Pokémon does not move, it does not get very hungry. It has an easygoing nature. It doesn’t care if it bumps its head on boats and boulders while swimming. Its body is always slimy. It often bangs its head on the river bottom as it swims but seems not to care.\n",
      "Although it originally had no powers at all, people say its precognitive faculties were awakened by its need to protect itself. Psychic power builds up in the orb on its forehead as it bathes in the sunshine. Espeon is not good at battling at night. By reading air currents, it can predict things such as the weather or its foe’s next move. It unleashes psychic power from the orb on its forehead. When its power is exhausted, the orb grows dull and dark.\n",
      "This Pokémon is nocturnal. Even in total darkness, its large eyes can spot its prey clearly! It lurks in the dark of night looking for prey. At the moment it pounces, the rings on its body glow dimly but ominously. When this Pokémon becomes angry, its pores secrete a poisonous sweat, which it sprays at its opponent’s eyes. On the night of a full moon, or when it gets excited, the ring patterns on its body glow yellow.\n",
      "They awaken at dusk and take wing in the twilight, leading to the expression, “Get home before the Murkrow fly.” Seen as a symbol of bad luck, it’s generally disliked. Yet it gives presents—objects that sparkle or shine—to Trainers it’s close to. It has a weakness for shiny things. It’s been known to sneak into the nests of Gabite—noted collectors of jewels—in search of treasure. It searches for shiny things for its boss. Murkrow’s presence is said to be unlucky, so many people detest it.\n",
      "It’s constantly coming up with new ideas that would change the world, but as soon as it hits upon a new idea, it forgets it. It’s called “the sage of the sea.” It engages in battles of wits with Oranguru, but the result is usually a draw. Miraculously, this former Slowpoke’s latent intelligence was drawn out when Shellder poison raced through its brain. Slowking can solve any problem presented to it, but no one can understand a thing Slowking says.\n",
      "It will use any means necessary to frighten people and absorb their life energy. It practices constantly to hone its skill in causing fear. If you hear a sobbing sound emanating from a vacant room, it’s undoubtedly a bit of mischief from Misdreavus. What gives meaning to its life is surprising others. If you set your ear against the red orbs around its neck, you can hear shrieking. What makes it happy is imitating the voices of weeping people and scaring everyone. It doesn’t deal well with folks who aren’t easily frightened.\n",
      "When alone, nothing happens. However, if there are two or more, an odd power is said to emerge. Its flat, thin body is always stuck on walls. Its shape appears to have some meaning. Shaped like ancient writing, it is a huge mystery whether language or Unown came first. This Pokémon is shaped like ancient writing. It is a mystery as to which came first, the ancient writings or the various Unown. Research into this topic is ongoing but nothing is known.\n"
     ]
    },
    {
     "name": "stdout",
     "output_type": "stream",
     "text": [
      "If two or more Wobbuffet meet, they will turn competitive and try to outdo each other’s endurance. However, they may try to see which one can endure the longest without food. Trainers need to beware of this habit. Wobbuffet does nothing but endure attacks—it won’t attack on its own. However, it won’t endure an attack on its tail. When that happens, the Pokémon will try to take the foe with it using Destiny Bond. It hates light and shock. If attacked, it inflates its body to pump up its counterstrike. To keep its pitch-black tail hidden, it lives quietly in the darkness. It is never first to attack.\n",
      "While it sleeps, the head on its tail keeps watch. The tail doesn’t need to sleep. Its tail has a small brain of its own. Beware! If you get close, it may react to your scent by biting. Girafarig’s rear head also has a brain, but it is small. The rear head attacks in response to smells and sounds. Approaching this Pokémon from behind can cause the rear head to suddenly lash out and bite. Girafarig’s rear head contains a tiny brain that is too small for thinking. However, the rear head doesn’t need to sleep, so it can keep watch over its surroundings 24 hours a day.\n",
      "It looks just like a pinecone. Its shell protects it from bird Pokémon that peck it by mistake. Pineco hangs from a tree branch and patiently waits for prey to come along. If the Pokémon is disturbed while eating by someone shaking its tree, it drops down to the ground and explodes with no warning. Motionless, it hangs from trees, waiting for its bug Pokémon prey to come to it. Its favorite in Alola is Cutiefly. It sticks tree bark to itself with its saliva, making itself thicker and larger. Elderly Pineco are ridiculously huge.\n",
      "It remains immovably rooted to its tree. It scatters pieces of its hard shell to drive its enemies away. Forretress conceals itself inside its hardened steel shell. The shell is opened when the Pokémon is catching prey, but it does so at such a quick pace that the shell’s inside cannot be seen. When something approaches it, it fires off fragments of its steel shell in attack. This is not a conscious action but a conditioned reflex. In the moment that it gulps down its prey, the inside of its shell is exposed, but to this day, no one has ever seen that sight.\n",
      "It travels by digging through the ground. Diglett and Dunsparce share one another’s tunnels happily. When it sees a person, it digs a hole with its tail to make its escape. If you happen to find one, consider yourself lucky. This Pokémon’s tiny wings have some scientists saying that Dunsparce used to fly through the sky in ancient times. The nests Dunsparce live in are mazes of tunnels. They never get lost in their own nests—they can tell where they are by the scent of the dirt.\n",
      "It clamps on to its chosen prey then jabs the stinger on its tail into the prey while it’s stunned with surprise. It usually clings to cliffs. When it spots its prey, it spreads its wings and glides down to attack. It flies straight at its target’s face, then clamps down on the startled victim to inject poison. Gligar glides through the air without a sound as if it were sliding. This Pokémon hangs on to the face of its foe using its clawed hind legs and the large pincers on its forelegs, then injects the prey with its poison barb.\n",
      "It chews its way through boulders with its sturdy jaws. Its eyes can see in the darkness underground. Steelix lives even further underground than Onix. This Pokémon is known to dig toward the earth’s core. There are records of this Pokémon reaching a depth of over six-tenths of a mile underground. It is said that if an Onix lives for over 100 years, its composition changes to become diamond-like. It is thought its body transformed as a result of iron accumulating internally from swallowing soil.\n",
      "Despite its intimidating face, it’s quite cowardly. Its desperate attempts to appear threatening make it popular with people. Its growls make its opponents uneasy. This laid-back Pokémon tends to sleep half the day. It grows close to others easily and is also easily spoiled. The disparity between its face and its actions makes many young people wild about it. In contrast to its appearance, it’s quite timid. When playing with other puppy Pokémon, it sometimes gets bullied.\n",
      "Its well-developed lower jaw and heavy fangs are its weapons. As long as it’s not provoked, it rarely bites. More timid than Snubbull, this Pokémon is doted on by young people amused at the contrast between its looks and its attitude. While it has powerful jaws, it doesn’t care for disputes, so it rarely has a chance to display their might. Although it’s popular with young people, Granbull is timid and sensitive, so it’s totally incompetent as a watchdog.\n",
      "The small spikes covering its body developed from scales. They inject a toxin that causes fainting. Qwilfish sucks in water, inflating itself. This Pokémon uses the pressure of the water it swallowed to shoot toxic quills all at once from all over its body. It finds swimming somewhat challenging. When faced with a larger opponent, it swallows as much water as it can to match the opponent’s size. The small spikes covering its body developed from scales. They inject a toxin that causes fainting.\n",
      "Its body is like steel. Its tough, heavy pincers are more suited to smashing enemies than grabbing them. Once it has identified something as an enemy, it will continue beating them with its steel-hard pincers until there’s nothing left but scraps. Bulky pincers account for one third of Scizor’s body weight. A single swing of one of these pincers will crush a boulder completely. Though its body is slim, Scizor has tremendous attacking power. Even Scizor’s muscles are made of metal.\n",
      "It stores berries inside its shell. To avoid attacks, it hides beneath rocks and remains completely still. Shuckle quietly hides itself under rocks, keeping its body concealed inside its hard shell while eating berries it has stored away. The berries mix with its body fluids to become a juice. It stores berries inside its shell. To avoid attacks, it hides beneath rocks and remains completely still. The berries stored in its vaselike shell eventually become a thick, pulpy juice.\n",
      "It’s proud of its thick horn. In Alola, its biggest rival is Vikavolt, which it’s always fighting with. It roams through forests searching for sweet nectar. Although it boasts fantastic physical strength, it’s not that good at flying. Heracross loves sweet sap and will go looking through forests for it. The Pokémon uses its two antennae to pick up scents as it searches. This Pokémon takes pride in its strength, which allows it to lift things 100 times heavier than itself with no trouble at all.\n",
      "They will cooperate to steal eggs from the nests of bird Pokémon, but fights break out to determine which one gets to eat the eggs. It blends into the dark of night to ambush its prey. Sneasel will attack Sandshrew, but its hard skin can cause Sneasel’s claws to snap off. Its paws conceal sharp claws. If attacked, it suddenly extends the claws and startles its enemy. It has a cunning yet savage disposition. It waits for parents to leave their nests, and then it sneaks in to steal their eggs.\n",
      "It lets honey soak into its paws so it can lick them all the time. Every set of paws tastes unique. If it finds honey, its crescent mark glows. It always licks its paws because they’re soaked with honey. Before food becomes scarce in wintertime, its habit is to hoard food in many hidden locations. This Pokémon likes to lick its palms that are sweetened by being soaked in honey. Teddiursa concocts its own honey by blending fruits and pollen collected by Beedrill.\n",
      "In its territory, it leaves scratches on trees that bear delicious berries or fruits. With its ability to distinguish any aroma, it unfailingly finds all food buried deep underground. Although it has a large body, it is quite skilled at climbing trees. It eats and sleeps in the treetops. In the forests inhabited by Ursaring, it is said that there are many streams and towering trees where they gather food. This Pokémon walks through its forest gathering food every day.\n",
      "A common sight in volcanic areas, it slowly slithers around in a constant search for warm places. Its body is made of magma. If it doesn’t keep moving, its body will cool and harden. Molten magma courses throughout Slugma’s circulatory system. If this Pokémon is chilled, the magma cools and hardens. Its body turns brittle and chunks fall off, reducing its size. Slugma does not have any blood in its body. Instead, intensely hot magma circulates throughout this Pokémon’s body, carrying essential nutrients and oxygen to its organs.\n"
     ]
    },
    {
     "name": "stdout",
     "output_type": "stream",
     "text": [
      "Its brittle shell occasionally spouts intense flames that circulate throughout its body. Its body is as hot as lava and is always billowing. Flames will occasionally burst from its shell. Magcargo’s shell is actually its skin that hardened as a result of cooling. Its shell is very brittle and fragile—just touching it causes it to crumble apart. This Pokémon returns to its original size by dipping itself in magma. Magcargo’s body temperature is approximately 18,000 degrees Fahrenheit. Water is vaporized on contact. If this Pokémon is caught in the rain, the raindrops instantly turn into steam, cloaking the area in a thick fog.\n",
      "If it smells something enticing, it dashes off headlong to find the source of the aroma. Swinub roots for food by rubbing its snout against the ground. Its favorite food is a mushroom that grows under the cover of dead grass. This Pokémon occasionally roots out hot springs. It rubs its snout on the ground to find and dig up food. It sometimes discovers hot springs. If it smells something enticing, it dashes off headlong to find the source of the aroma.\n",
      "Because the long hair all over its body obscures its sight, it just keeps charging repeatedly. Piloswine is covered by a thick coat of long hair that enables it to endure the freezing cold. This Pokémon uses its tusks to dig up food that has been buried under ice. If it charges at an enemy, the hairs on its back stand up straight. It is very sensitive to sound. Although its legs are short, its rugged hooves prevent it from slipping, even on icy ground.\n",
      "The pink of Corsola that live in Alola is deep and vibrant, thanks to seas filled with nutrition. In Alola, where their natural enemies Mareanie are plentiful, many Corsola have stubby branches on their heads. It will regrow any branches that break off its head. People keep particularly beautiful Corsola branches as charms to promote safe childbirth. These Pokémon live in warm seas. In prehistoric times, many lived in the oceans around the Galar region as well.\n",
      "This Pokémon clings to Mantine and shares in its prosperity. When its Mantine is attacked, Remoraid will fight alongside it! Also known as the “sniper of the seas,” its water gun can hit prey without fail from over 300 feet away. The water they shoot from their mouths can hit moving prey from more than 300 feet away. Using its dorsal fin as a suction pad, it clings to a Mantine’s underside to scavenge for leftovers.\n",
      "The ink it spits when escaping is special. It contains a substance that dulls the sense of smell, so Pokémon with keen noses get lost. It usually sleeps in caves. The pitch-black ink that Octillery spits is also used for cooking. It has a tendency to want to be in holes. It prefers rock crags or pots and sprays ink from them before attacking. It traps enemies with its suction-cupped tentacles, then smashes them with its rock-hard head.\n",
      "It shares its food with people who are stranded. Because Delibird is omnivorous, sometimes it gives those people bug Pokémon. It wraps food in its tail to carry it around. The Delibird with the biggest tail is the boss of the flock! It carries food all day long. There are tales about lost people who were saved by the food it had. It has a generous habit of sharing its food with people and Pokémon, so it’s always scrounging around for more food.\n",
      "Postcards and posters featuring Mantine leaping elegantly above the waves are popular souvenirs of Alola. Many people have taken up surfing because they admire how magnificently Mantine swims. If it builds up enough speed swimming, it can jump out above the waves and glide for over 300 feet. As it majestically swims, it doesn’t care if Remoraid attach to it to scavenge for its leftovers.\n",
      "The wing feathers it sheds can be processed and made into knives whose sharpness is recognized by the finest chefs. Its body is draped in steel armor. It looks heavy, but it can fly at speeds of up to 185 miles an hour! The pointed feathers of these Pokémon are sharper than swords. Skarmory and Corviknight fight viciously over territory. People fashion swords from Skarmory’s shed feathers, so this Pokémon is a popular element in heraldic designs.\n",
      "To corner prey, they check each other’s location using barks that only they can understand. Houndour hunt as a coordinated pack. They communicate with each other using a variety of cries to corner their prey. This Pokémon’s remarkable teamwork is unparalleled. It cooperates with others skillfully. When it becomes your partner, it’s very loyal to you as its Trainer and will obey your orders. They make repeated eerie howls before dawn to call attention to their pack.\n",
      "The flames it breathes when angry contain toxins. If they cause a burn, it will hurt forever. In a Houndoom pack, the one with its horns raked sharply toward the back serves a leadership role. These Pokémon choose their leader by fighting among themselves. They spew flames mixed with poison to finish off their opponents. They divvy up their prey evenly among the members of their pack. Identifiable by its eerie howls, people a long time ago thought it was the grim reaper and feared it.\n",
      "Kingdra lives at extreme ocean depths that are otherwise uninhabited. It has long been believed that the yawning of this Pokémon creates spiraling ocean currents. Kingdra sleeps on the seafloor where it is otherwise devoid of life. When a storm arrives, the Pokémon is said to awaken and wander about in search of prey. With the arrival of a storm at sea, this Pokémon will show itself on the surface. When a Kingdra and a Dragonite meet, a fierce battle ensues. Scales shed by this Pokémon have such a splendorous gleam to them that they’ve been given to royalty as gifts.\n",
      "As a sign of affection, it bumps with its snout. However, it is so strong, it may send you flying. It is strong despite its compact size. It can easily pick up and carry an adult human on its back. For its nest, Phanpy digs a vertical pit in the ground at the edge of a river. It marks the area around its nest with its trunk to let the others know that the area has been claimed. Phanpy uses its long nose to shower itself. When others gather around, they thoroughly douse each other with water. These Pokémon can be seen drying their soaking-wet bodies at the edge of water.\n",
      "It has sharp, hard tusks and a rugged hide. Its Tackle is strong enough to knock down a house. The longer and bigger its tusks, the higher its rank in its herd. The tusks take long to grow. Donphan’s favorite attack is curling its body into a ball, then charging at its foe while rolling at high speed. Once it starts rolling, this Pokémon can’t stop very easily. If Donphan were to tackle with its hard body, even a house could be destroyed. Using its massive strength, the Pokémon helps clear rock and mud slides that block mountain trails.\n",
      "AI has been installed in it. It learns various things all on its own, but it even remembers things it doesn’t need to know. Even though it doesn’t die in the vacuum of space, it can’t move around very well in zero gravity. This is a Porygon that was updated with special data. Porygon2 develops itself by learning about many different subjects all on its own. After artificial intelligence was implemented in Porygon2, the Pokémon began using a strange language that only other Porygon2 understand.\n",
      "Staring at its antlers creates an odd sensation as if one were being drawn into their centers. Staring at its antlers creates an odd sensation as if one were being drawn into their centers. The curved antlers subtly change the flow of air to create a strange space where reality is distorted. Stantler’s magnificent antlers were traded at high prices as works of art. As a result, this Pokémon was hunted close to extinction by those who were after the priceless antlers.\n",
      "The unique creations produced by each Smeargle are painted using the fluid that oozes from its tail. This is how it marks its territory. It draws symbols all over the place to mark its territory. In towns with many Smeargle, the walls are covered in graffiti. The fluid of Smeargle’s tail secretions changes in the intensity of its hue as the Pokémon’s emotions change. It draws symbols with the fluid that oozes from the tip of its tail. Depending on the symbol, Smeargle fanatics will pay big money for them.\n"
     ]
    },
    {
     "name": "stdout",
     "output_type": "stream",
     "text": [
      "To brush up on its fighting skills, it will challenge anyone. It has a very strong competitive spirit. Tyrogue becomes stressed out if it does not get to train every day. When raising this Pokémon, the Trainer must establish and uphold various training methods. It is always bursting with energy. To make itself stronger, it keeps on fighting even if it loses. Even though it is small, it can’t be ignored because it will slug any handy target without warning.\n",
      "If you are enchanted by its smooth, dance-like kicks, you may get a closer experience with one than you’d like. Hitmontop spins on its head at high speed, all the while delivering kicks. This technique is a remarkable mix of both offense and defense at the same time. The Pokémon travels faster spinning than it does walking. It launches kicks while spinning. If it spins at high speed, it may bore its way into the ground. After doing a handstand to throw off the opponent’s timing, it presents its fancy kick moves.\n",
      "When it examines things, before touching them with its hands, it makes lip contact and then diligently licks all the dirt off its lips. Highly perceptive sensors, Smoochum’s lips are kept moist by its daily application of tree sap. If its face gets even slightly dirty, Smoochum will bathe immediately. But if its body gets dirty, Smoochum doesn’t really seem to care. This is a very curious Pokémon. Smoochum decides what it likes and dislikes by touching things with its lips.\n",
      "When it hears the crash of thunder, Elekid’s mood improves. It can be useful to record that sound and play it when Elekid’s feeling down. When its horns shine a bluish white, that’s the sign it’s fully charged. You’ll get a shocking jolt if you touch it! When a storm approaches, this Pokémon gets restless. Once Elekid hears the sound of thunder, it gets full-on rowdy. It’s not good at storing electricity yet. This Pokémon sneaks into people’s homes, looking for electrical outlets to eat electricity from.\n",
      "When flames drip from its nose, that means it has a cold. Have it lie down for a nice rest in some magma. Its body temperature is always around 1,100 degrees Fahrenheit. If Magby falls into a small- enough pond, the whole thing will dry up. This Pokémon is still small and timid. Whenever Magby gets excited or surprised, flames leak from its mouth and its nose. This Pokémon makes its home near volcanoes. At the end of the day, Magby soaks in magma, resting and recovering from the day’s fatigue.\n",
      "It produces over five gallons of milk a day. The higher the quality of the pastures it lives in, the richer and tastier its milk becomes. Its milk is delicious and chock-full of nutrients. However, if you drink too much, it could make your stomach hurt, so be careful. Miltank produces highly nutritious milk, so it’s been supporting the lives of people and other Pokémon since ancient times. This Pokémon needs to be milked every day, or else it will fall ill. The flavor of Miltank milk changes with the seasons.\n",
      "Their eggs are such a delicacy that some say eating one will bring you happiness. These eggs fetch the highest prices on the market. This Pokémon is overflowing with love. Only Chansey that share a strong bond with their Trainer can evolve, so people say. Whenever a Blissey finds a weakened Pokémon, it will share its egg and offer its care until the other Pokémon is all better. Blissey lays mysterious eggs that are filled with happiness. It’s said that anyone who eats a Blissey egg will start acting kindly to all others.\n",
      "It is said to have fallen with lightning. It can fire thunderbolts from the rain clouds on its back. The rain clouds it carries let it fire thunderbolts at will. They say that it descended with lightning. This rough Pokémon stores energy inside its body, then sweeps across the land, shooting off electricity. Raikou embodies the speed of lightning. The roars of this Pokémon send shock waves shuddering through the air and shake the ground as if lightning bolts had come crashing down.\n",
      "It is said that when it roars, a volcano erupts somewhere around the globe. A Pokémon that races across the land. It is said that one is born every time a new volcano appears. It is said that when it roars, a volcano erupts somewhere around the globe. Entei embodies the passion of magma. This Pokémon is thought to have been born in the eruption of a volcano. It sends up massive bursts of fire that utterly consume all that they touch.\n",
      "It races around the world to purify fouled water. It dashes away with the north wind. It races around the world to purify fouled water. It dashes away with the north wind. Said to be the embodiment of north winds, it can instantly purify filthy, murky water. Suicune embodies the compassion of a pure spring of water. It runs across the land with gracefulness. This Pokémon has the power to purify dirty water.\n",
      "Born underground, it eats its way through dirt to the surface, where its parents are. It doesn’t deal well with the bright light it finds there. Raised on nutrients it finds in the dirt, it eats roughly a mountain’s worth of dirt before it becomes a pupa. Born deep underground, it comes aboveground and becomes a pupa once it has finished eating the surrounding soil. It feeds on soil. After it has eaten a large mountain, it will fall asleep so it can grow.\n",
      "This troublesome Pokémon can’t wait to evolve, so it relieves its stress by wildly propelling itself around using compressed gas. This dangerous pupa thrashes about. Its shell is as hard as bedrock, containing its gradually forming new body within. Even sealed in its shell, it can move freely. Hard and fast, it has outstanding destructive power. It will not stay still, even while it’s a pupa. It already has arms and legs under its solid shell.\n",
      "It wanders through the mountains seeking opponents to fight. If it finds an opponent that’s not worthy, Tyranitar ignores it and wanders on. This Pokémon is a mobile disaster, leaving mountains crumbled and houses destroyed in its wake. Its body can’t be harmed by any sort of attack, so it is very eager to make challenges against enemies. The quakes caused when it walks make even great mountains crumble and change the surrounding terrain.\n",
      "It sleeps in a deep-sea trench. If it flaps its wings, it is said to cause a 40-day storm. It sleeps in a deep-sea trench. If it flaps its wings, it is said to cause a 40-day storm. It is said to be the guardian of the seas. It is rumored to have been seen on the night of a storm. Lugia’s wings pack devastating power—a light fluttering of its wings can blow apart regular houses. As a result, this Pokémon chooses to live out of sight deep under the sea.\n",
      "Its feathers are in seven colors. It is said that anyone seeing it is promised eternal happiness. A legend says that its body glows in seven colors. A rainbow is said to form behind it when it flies. It will reveal itself before a pure-hearted Trainer by shining its bright, rainbow-colored wings. Ho-Oh’s feathers glow in seven colors depending on the angle at which they are struck by light. These feathers are said to bring happiness to the bearers. This Pokémon is said to live at the foot of a rainbow.\n",
      "It has the power to travel across time, but it is said to appear only in peaceful times. This Pokémon came from the future by crossing over time. It is thought that so long as Celebi appears, a bright and shining future awaits us. This Pokémon has the ability to move through time. Records describing it as a forest deity can be found from many different eras. This Pokémon traveled through time to come from the future. It bolsters grass and trees with its own strength, and it can heal wounds, too.\n",
      "It quickly scales even vertical walls. It senses humidity with its tail to predict the next day’s weather. Small hooks on the bottom of its feet catch on walls and ceilings. That is how it can hang from above. Treecko has small hooks on the bottom of its feet that enable it to scale vertical walls. This Pokémon attacks by slamming foes with its thick tail. Treecko is cool, calm, and collected—it never panics under any situation. If a bigger foe were to glare at this Pokémon, it would glare right back without conceding an inch of ground.\n"
     ]
    },
    {
     "name": "stdout",
     "output_type": "stream",
     "text": [
      "Its strongly developed thigh muscles give it astounding agility and jumping performance. It lives in dense jungles. While closing in on its prey, it leaps from branch to branch. The leaves growing out of Grovyle’s body are convenient for camouflaging it from enemies in the forest. This Pokémon is a master at climbing trees in jungles. This Pokémon adeptly flies from branch to branch in trees. In a forest, no Pokémon can ever hope to catch a fleeing Grovyle however fast they may be.\n",
      "The leaves that grow on its arms can slice down thick trees. It is without peer in jungle combat. It agilely leaps about the jungle and uses the sharp leaves on its arms to strike its prey. The leaves growing on Sceptile’s body are very sharp edged. This Pokémon is very agile—it leaps all over the branches of trees and jumps on its foe from above or behind. Sceptile has seeds growing on its back. They are said to be bursting with nutrients that revitalize trees. This Pokémon raises the trees in a forest with loving care.\n",
      "It has a flame sac inside its belly that perpetually burns. It feels warm if it is hugged. A fire burns inside, so it feels very warm to hug. It launches fireballs of 1,800 degrees Fahrenheit. Torchic sticks with its Trainer, following behind with unsteady steps. This Pokémon breathes fire of over 1,800 degrees Fahrenheit, including fireballs that leave the foe scorched black. Torchic has a place inside its body where it keeps its flame. Give it a hug—it will be glowing with warmth. This Pokémon is covered all over by a fluffy coat of down.\n",
      "Its kicking mastery lets it loose 10 kicks per second. It emits sharp cries to intimidate foes. During a battle, the hot flame in its body increases. Its kicks have outstanding destructive power. Combusken toughens up its legs and thighs by running through fields and mountains. This Pokémon’s legs possess both speed and power, enabling it to dole out 10 kicks in one second. Combusken battles with the intensely hot flames it spews from its beak and with outstandingly destructive kicks. This Pokémon’s cry is very loud and distracting.\n",
      "It can clear a 30-story building in a leap. Its fiery punches scorch its foes. When facing a tough foe, it looses flames from its wrists. Its powerful legs let it jump clear over buildings. In battle, Blaziken blows out intense flames from its wrists and attacks foes courageously. The stronger the foe, the more intensely this Pokémon’s wrists burn. Blaziken has incredibly strong legs—it can easily clear a 30-story building in one leap. This Pokémon’s blazing punches leave its foes scorched and blackened.\n",
      "Its large tail fin propels it through water with powerful acceleration. It is strong in spite of its size. To alert it, the fin on its head senses the flow of water. It has the strength to heft boulders. The fin on Mudkip’s head acts as highly sensitive radar. Using this fin to sense movements of water and air, this Pokémon can determine what is taking place around it without using its eyes. In water, Mudkip breathes using the gills on its cheeks. If it is faced with a tight situation in battle, this Pokémon will unleash its amazing power—it can crush rocks bigger than itself.\n",
      "Its sturdy legs give it sure footing, even in mud. It burrows into dirt to sleep. Living on muddy ground that provides poor footing has made its legs sturdy. The surface of Marshtomp’s body is enveloped by a thin, sticky film that enables it to live on land. This Pokémon plays in mud on beaches when the ocean tide is low. Marshtomp is much faster at traveling through mud than it is at swimming. This Pokémon’s hindquarters exhibit obvious development, giving it the ability to walk on just its hind legs.\n",
      "Its arms are hard as rock. With one swing, it can break a boulder into pieces. It can swim while towing a large ship. It bashes down foes with a swing of its thick arms. Swampert is very strong. It has enough power to easily drag a boulder weighing more than a ton. This Pokémon also has powerful vision that lets it see even in murky water. Swampert predicts storms by sensing subtle differences in the sounds of waves and tidal winds with its fins. If a storm is approaching, it piles up boulders to protect itself.\n",
      "A Pokémon with a persistent nature, it chases its chosen prey until the prey becomes exhausted. It has a very tenacious nature. Its acute sense of smell lets it chase a chosen prey without ever losing track. At first sight, Poochyena takes a bite at anything that moves. This Pokémon chases after prey until the victim becomes exhausted. However, it may turn tail if the prey strikes back. Poochyena is an omnivore—it will eat anything. A distinguishing feature is how large its fangs are compared to its body. This Pokémon tries to intimidate its foes by making the hair on its tail bristle out.\n",
      "It will always obey the commands of a skilled Trainer. Its behavior arises from its living in packs in ancient times. It chases down prey in a pack of around ten. They defeat foes with perfectly coordinated teamwork. Mightyena gives obvious signals when it is preparing to attack. It starts to growl deeply and then flattens its body. This Pokémon will bite savagely with its sharply pointed fangs. Mightyena travel and act as a pack in the wild. The memory of its life in the wild compels the Pokémon to obey only those Trainers that it recognizes to possess superior skill.\n",
      "Zigzagoon restlessly wanders everywhere at all times. This Pokémon does so because it is very curious. It becomes interested in anything that it happens to see. The hair on Zigzagoon’s back is bristly. It rubs the hard back hair against trees to leave its territorial markings. This Pokémon may play dead to fool foes in battle. It marks its territory by rubbing its bristly fur on trees. This variety of Zigzagoon is friendlier and calmer than the kind native to Galar. Zigzagoon that adapted to regions outside Galar acquired this appearance. If you’ve lost something, this Pokémon can likely find it.\n",
      "Linoone always runs full speed and only in straight lines. If facing an obstacle, it makes a right-angle turn to evade it. This Pokémon is very challenged by gently curving roads. When hunting, Linoone will make a beeline straight for the prey at a full run. While this Pokémon is capable of topping 60 mph, it has to come to a screeching halt before it can turn. Its fur is strong and supple. Shaving brushes made with shed Linoone hairs are highly prized. It uses its explosive speed and razor-sharp claws to bring down prey. Running along winding paths is not its strong suit.\n",
      "It loves to eat leaves. If it is attacked by a Starly, it will defend itself with its spiked rear. It lives among the tall grass and in forests. It repels attacks by raising up the spikes on its rear. Using the spikes on its rear end, Wurmple peels the bark off trees and feeds on the sap that oozes out. This Pokémon’s feet are tipped with suction pads that allow it to cling to glass without slipping. Wurmple is targeted by Swellow as prey. This Pokémon will try to resist by pointing the spikes on its rear at the attacking predator. It will weaken the foe by leaking poison from the spikes.\n",
      "It wraps silk around the branches of a tree. It drinks rainwater on its silk while awaiting evolution. It drinks dew that collects on its silk and waits for evolution. Its hard cocoon repels attacks. Silcoon tethers itself to a tree branch using silk to keep from falling. There, this Pokémon hangs quietly while it awaits evolution. It peers out of the silk cocoon through a small hole. Silcoon was thought to endure hunger and not consume anything before its evolution. However, it is now thought that this Pokémon slakes its thirst by drinking rainwater that collects on its silk.\n",
      "Vibrantly patterned wings are its prominent feature. It sucks sweet flower nectar with its long mouth. It has an aggressive nature. It stabs prey with its long, narrow mouth to drain the prey’s fluids. Beautifly’s favorite food is the sweet pollen of flowers. If you want to see this Pokémon, just leave a potted flower by an open window. Beautifly is sure to come looking for pollen. Beautifly has a long mouth like a coiled needle, which is very convenient for collecting pollen from flowers. This Pokémon rides the spring winds as it flits around gathering pollen.\n"
     ]
    },
    {
     "name": "stdout",
     "output_type": "stream",
     "text": [
      "Its body, which is made of soft silk, hardens over time. When cracks appear, evolution is near. It never forgets any attack it endured while in the cocoon. After evolution, it seeks payback. Cascoon makes its protective cocoon by wrapping its body entirely with a fine silk from its mouth. Once the silk goes around its body, it hardens. This Pokémon prepares for its evolution inside the cocoon. If it is attacked, Cascoon remains motionless however badly it may be hurt. It does so because if it were to move, its body would be weak upon evolution. This Pokémon will also not forget the pain it endured.\n",
      "A nocturnal Pokémon. Drawn by streetlights, they messily eat the leaves of trees lining boulevards. It violently flutters its wings to scatter toxic dust when attacked. It becomes active after sunset. Dustox is instinctively drawn to light. Swarms of this Pokémon are attracted by the bright lights of cities, where they wreak havoc by stripping the leaves off roadside trees for food. When Dustox flaps its wings, a fine dust is scattered all over. This dust is actually a powerful poison that will even make a pro wrestler sick. This Pokémon searches for food using its antennae like radar.\n",
      "Lotad live in ponds and lakes, where they float on the surface. It grows weak if its broad leaf dies. On rare occasions, this Pokémon travels on land in search of clean water. Lotad is said to have dwelled on land before. However, this Pokémon is thought to have returned to water because the leaf on its head grew large and heavy. It now lives by floating atop the water. It searches about for clean water. If it does not drink water for too long, the leaf on its head wilts. Its leaf grew too large for it to live on land. That is how it began to live floating in the water.\n",
      "Lombre is nocturnal—it will get active after dusk. It is also a mischief maker. When this Pokémon spots anglers, it tugs on their fishing lines from beneath the surface and enjoys their consternation. Lombre’s entire body is covered by a slippery, slimy film. It feels horribly unpleasant to be touched by this Pokémon’s hands. Lombre is often mistaken for a human child. It is nocturnal and becomes active at nightfall. It feeds on aquatic mosses that grow in the riverbed. It lives at the water’s edge where it is sunny. It sleeps on a bed of water grass by day and becomes active at night.\n",
      "Ludicolo begins dancing as soon as it hears cheerful, festive music. This Pokémon is said to appear when it hears the singing of children on hiking outings. Upon hearing an upbeat and cheerful rhythm, the cells in Ludicolo’s body become very energetic and active. Even in battle, this Pokémon will exhibit an amazing amount of power. The rhythm of bright, festive music activates Ludicolo’s cells, making it more powerful. If it hears festive music, it begins moving in rhythm in order to amplify its power.\n",
      "Seedot attaches itself to a tree branch using the top of its head. It sucks moisture from the tree while hanging off the branch. The more water it drinks, the glossier this Pokémon’s body becomes. Seedot looks exactly like an acorn when it is dangling from a tree branch. It startles other Pokémon by suddenly moving. This Pokémon polishes its body once a day using leaves. If it remains still, it looks just like a real nut. It delights in surprising foraging Pokémon. It attaches itself to a tree branch using the top of its head. Strong winds can sometimes make it fall.\n",
      "Nuzleaf live in densely overgrown forests. They occasionally venture out of the forest to startle people. This Pokémon dislikes having its long nose pinched. This Pokémon pulls out the leaf on its head and makes a flute with it. The sound of Nuzleaf’s flute strikes fear and uncertainty in the hearts of people lost in a forest. It lives deep in forests. With the leaf on its head, it makes a flute whose song makes listeners uneasy. They live in holes bored in large trees. The sound of Nuzleaf’s grass flute fills listeners with dread.\n",
      "Shiftry is a mysterious Pokémon that is said to live atop towering trees dating back over a thousand years. It creates terrific windstorms with the fans it holds. Shiftry’s large fans generate awesome gusts of wind at a speed close to 100 feet per second. The whipped-up wind blows anything away. This Pokémon chooses to live quietly deep in forests. A Pokémon that was feared as a forest guardian. It can read the foe’s mind and take preemptive action. It lives quietly in the deep forest. It is said to create chilly winter winds with the fans it holds.\n",
      "It has a gutsy spirit that makes it bravely take on tough foes. It flies in search of warm climates. It dislikes cold seasons. They migrate to other lands in search of warmth, flying over 180 miles a day. Taillow courageously stands its ground against foes, however strong they may be. This gutsy Pokémon will remain defiant even after a loss. On the other hand, it cries loudly if it becomes hungry. Taillow is young—it has only just left its nest. As a result, it sometimes becomes lonesome and cries at night. This Pokémon feeds on Wurmple that live in forests.\n",
      "If its two tail feathers are standing at attention, it is proof of good health. It soars elegantly in the sky. It dives at a steep angle as soon as it spots its prey. It catches its prey with sharp claws. Swellow flies high above our heads, making graceful arcs in the sky. This Pokémon dives at a steep angle as soon as it spots its prey. The hapless prey is tightly grasped by Swellow’s clawed feet, preventing escape. Swellow is very conscientious about the upkeep of its glossy wings. Once two Swellow are gathered, they diligently take care of cleaning each other’s wings.\n",
      "With its long, thin wings, it catches updrafts and flies like a glider high up into the sky. It builds nests in cliffs by the sea. It circles the skies above the ocean looking for its favorite food—Wishiwashi. It makes its nest on sheer cliffs. Riding the sea breeze, it glides up into the expansive skies. It soars on updrafts without flapping its wings. It makes a nest on sheer cliffs at the sea’s edge.\n",
      "It places small Pokémon into its spacious beak and carries them around. No one knows where it’s taking them. It scoops up Wishiwashi in its huge beak and swallows them whole. It can devour more than 30 at one go! It is a messenger of the skies, carrying small Pokémon and eggs to safety in its bill. Skimming the water’s surface, it dips its large bill in the sea, scoops up food and water, and carries it.\n",
      "Ralts senses the emotions of people using the horns on its head. This Pokémon rarely appears before people. But when it does, it draws closer if it senses that the person has a positive disposition. Ralts has the ability to sense the emotions of people. If its Trainer is in a cheerful mood, this Pokémon grows cheerful and joyous in the same way. It is highly attuned to the emotions of people and Pokémon. It hides if it senses hostility. If its horns capture the warm feelings of people or Pokémon, its body warms up slightly.\n",
      "It is said that a Kirlia that is exposed to the positive emotions of its Trainer grows beautiful. This Pokémon controls psychokinetic powers with its highly developed brain. Kirlia uses the horns on its head to amplify its psychokinetic power. When the Pokémon uses its power, the air around it becomes distorted, creating mirages of nonexistent scenery. If its Trainer becomes happy, it overflows with energy, dancing joyously while spinning about. It has a psychic power that enables it to distort the space around it and see into the future.\n",
      "Gardevoir has the ability to read the future. If it senses impending danger to its Trainer, this Pokémon is said to unleash its psychokinetic energy at full power. Gardevoir has the psychokinetic power to distort the dimensions and create a small black hole. This Pokémon will try to protect its Trainer even at the risk of its own life. It has the power to predict the future. Its power peaks when it is protecting its Trainer. To protect its Trainer, it will expend all its psychic power to create a small black hole.\n",
      "It moves as if skating on the surface of the water. It often fights with Dewpider over food. When this Pokémon senses danger, a sweet fluid oozes from the tip of its head. The taste of it disgusts bird Pokémon. If it’s in a pinch, it will secrete a sweet liquid from the tip of its head. Syrup made from gathering that liquid is tasty on bread. It lives in ponds and marshes that feature lots of plant life. It often fights with Dewpider, whose habitat and diet are similar.\n"
     ]
    },
    {
     "name": "stdout",
     "output_type": "stream",
     "text": [
      "It intimidates enemies with the eye-like patterns on its antennae. Its four wings allow it to fly in any direction. Its wings and antennae don’t cope well with moisture. After a rain, it faces sunward to dry off. Masquerain intimidates enemies with the eyelike patterns of its eyespots. If that doesn’t work, it deftly makes its escape on its set of four wings. Its thin, winglike antennae are highly absorbent. It waits out rainy days in tree hollows.\n",
      "It prefers damp places. By day it remains still in the forest shade. It releases toxic powder from its head. It spouts poison spores from the top of its head. These spores cause pain all over if inhaled. Shroomish live in damp soil in the dark depths of forests. They are often found keeping still under fallen leaves. This Pokémon feeds on compost that is made up of fallen, rotted leaves. If Shroomish senses danger, it shakes its body and scatters spores from the top of its head. This Pokémon’s spores are so toxic, they make trees and weeds wilt.\n",
      "Its short arms stretch when it throws punches. Its technique is equal to that of pro boxers. It scatters poisonous spores and throws powerful punches while its foe is hampered by inhaled spores. Breloom closes in on its foe with light and sprightly footwork, then throws punches with its stretchy arms. This Pokémon’s fighting technique puts boxers to shame. The seeds ringing Breloom’s tail are made of hardened toxic spores. It is horrible to eat the seeds. Just taking a bite of this Pokémon’s seed will cause your stomach to rumble.\n",
      "The way Slakoth lolls around makes anyone who watches it feel like doing the same. If it eats just three leaves in a day, it is satisfied. Other than that, it sleeps for 20 hours a day. Slakoth lolls around for over 20 hours every day. Because it moves so little, it does not need much food. This Pokémon’s sole daily meal consists of just three leaves. Slakoth’s heart beats just once a minute. Whatever happens, it is content to loaf around motionless. It is rare to see this Pokémon in motion.\n",
      "Its heartbeat is fast and its blood so agitated that it can’t sit still for one second. Its stress level rises if it cannot keep moving constantly. Too much stress makes it feel sick. Vigoroth is always itching and agitated to go on a wild rampage. It simply can’t tolerate sitting still for even a minute. This Pokémon’s stress level rises if it can’t be moving constantly. Vigoroth is simply incapable of remaining still. Even when it tries to sleep, the blood in its veins grows agitated, compelling this Pokémon to run wild throughout the jungle before it can settle down.\n",
      "The world’s laziest Pokémon. It moves to another spot when there’s no food left within its reach. It is the world’s most slothful Pokémon. However, it can exert horrifying power by releasing pent-up energy all at once. Slaking spends all day lying down and lolling about. It eats grass growing within its reach. If it eats all the grass it can reach, this Pokémon reluctantly moves to another spot. Wherever Slaking live, rings of over a yard in diameter appear in grassy fields. They are made by the Pokémon as it eats all the grass within reach while lying prone on the ground.\n",
      "Nincada lives underground for many years in complete darkness. This Pokémon absorbs nutrients from the roots of trees. It stays motionless as it waits for evolution. Nincada lives underground. It uses its sharp claws to carve the roots of trees and absorb moisture and nutrients. This Pokémon can’t withstand bright sunlight so avoids it. Because it lived almost entirely underground, it is nearly blind. It uses its antennae instead. It can sometimes live underground for more than 10 years. It absorbs nutrients from the roots of trees.\n",
      "Ninjask moves around at such a high speed that it cannot be seen, even while its crying can be clearly heard. For that reason, this Pokémon was long believed to be invisible. If Ninjask is not trained properly, it will refuse to obey the Trainer and cry loudly continuously. Because of this quality, this Pokémon is said to be one that puts the Trainer’s abilities to the test. Its cry leaves a lasting headache if heard for too long. It moves so quickly that it is almost invisible. This Pokémon is so quick, it is said to be able to avoid any attack. It loves to feed on tree sap.\n",
      "Shedinja’s hard body doesn’t move—not even a twitch. In fact, its body appears to be merely a hollow shell. It is believed that this Pokémon will steal the spirit of anyone peering into its hollow body from its back. Shedinja is a peculiar Pokémon. It seems to appear unsought in a Poké Ball after a Nincada evolves. This bizarre Pokémon is entirely immobile—it doesn’t even breathe. A most peculiar Pokémon that somehow appears in a Poké Ball when a Nincada evolves. A strange Pokémon—it flies without moving its wings, has a hollow shell for a body, and does not breathe.\n",
      "Normally, Whismur’s voice is very quiet—it is barely audible even if one is paying close attention. However, if this Pokémon senses danger, it starts crying at an earsplitting volume. Whismur is very timid. If it starts to cry loudly, it becomes startled by its own crying and cries even harder. When it finally stops crying, the Pokémon goes to sleep, all tired out. The cry of a Whismur is over 100 decibels. If you’re close to a Whismur when it lets out a cry, you’ll be stuck with an all-day headache. When Whismur cries, the sound of its own voice startles it, making the Pokémon cry even louder. It cries until it’s exhausted, then it falls asleep.\n",
      "Loudred’s bellowing can completely decimate a wood-frame house. It uses its voice to punish its foes. This Pokémon’s round ears serve as loudspeakers. Loudred shouts while stamping its feet. After it finishes shouting, this Pokémon becomes incapable of hearing anything for a while. This is considered to be a weak point. Loudred’s ears serve as speakers, and they can put out sound waves powerful enough to blow away a house. The force of this Pokémon’s loud voice isn’t just the sound—it’s also the wave of air pressure that blows opponents away and damages them.\n",
      "Exploud triggers earthquakes with the tremors it creates by bellowing. If this Pokémon violently inhales from the ports on its body, it’s a sign that it is preparing to let loose a huge bellow. Exploud communicates its feelings to the others by emitting whistle-like sounds from the tubes on its body. This Pokémon only raises its voice when it is in battle. In the past, people would use the loud voices of these Pokémon as a means of communication between distant cities. This Pokémon can do more than just shout. To communicate with others of its kind, it’ll emit all sorts of sounds from the holes in its body.\n",
      "It was originally brought in from another region, but now Makuhita from Alola are more famous. Their daily routine consists of training together first thing in the morning, eating and napping in the afternoon, and then more training afterward. It practices its slaps by repeatedly slapping tree trunks. It has been known to slap an Exeggutor and get flung away. There’s a rumor of a traditional recipe for stew that Trainers can use to raise strong Makuhita.\n",
      "It is known for its fantastic strength, but as it grows older, it focuses more on training Makuhita. They love to compare their freakish strength— strength enough to send a truck flying with a single slap. Although they enjoy comparing their strength, they’re also kind. They value etiquette, praising opponents they battle. Hariyama that are big and fat aren’t necessarily strong. There are some small ones that move nimbly and use moves skillfully.\n",
      "Azurill spins its tail as if it were a lasso, then hurls it far. The momentum of the throw sends its body flying, too. Using this unique action, one of these Pokémon managed to hurl itself a record 33 feet. Azurill’s tail is large and bouncy. It is packed full of the nutrients this Pokémon needs to grow. Azurill can be seen bouncing and playing on its big, rubbery tail. The ball on Azurill’s tail bounces like a rubber ball, and it’s full of the nutrients the Pokémon needs to grow. Although Azurill are normally docile, an angry one will swing around the big ball on its tail and try to smash its opponents.\n"
     ]
    },
    {
     "name": "stdout",
     "output_type": "stream",
     "text": [
      "The magnet in Nosepass’s nose provides an unerring compass, making it an excellent partner for Trainers going on a journey. It uses powerful magnetism to drag its prey toward it. It’s also been known to pull in metal, which it collects and uses to protect itself. It moves less than an inch a year, but when it’s in a jam, it will spin and drill down into the ground in a split second. It hunts without twitching a muscle by pulling in its prey with powerful magnetism. But sometimes it pulls natural enemies in close.\n",
      "It can’t stop itself from chasing moving things, and it runs in a circle, chasing its own tail. It shows its cute side by chasing its own tail until it gets dizzy. Skitty has the habit of becoming fascinated by moving objects and chasing them around. This Pokémon is known to chase after its own tail and become dizzy. Skitty is known to chase around playfully after its own tail. In the wild, this Pokémon lives in holes in the trees of forests. It is very popular as a pet because of its adorable looks.\n",
      "It dislikes dirty places. It often searches for a comfortable place in which to groom itself. It is highly popular among female Trainers for its sublime fur. It does not keep a nest. Delcatty prefers to live an unfettered existence in which it can do as it pleases at its own pace. Because this Pokémon eats and sleeps whenever it decides, its daily routines are completely random. Delcatty sleeps anywhere it wants without keeping a permanent nest. If other Pokémon approach it as it sleeps, this Pokémon will never fight—it will just move away somewhere else.\n",
      "It digs through the ground with its hard claws and crunches down gems with its thick pointy teeth. Carbink is its favorite food. Materials from gems it has eaten float to the surface of its body and can form an infinite number of patterns among individuals. This Pokémon is feared. When its gemstone eyes begin to glow with a sinister shine, it’s believed that Sableye will steal people’s spirits away. It feeds on gemstone crystals. In darkness, its eyes sparkle with the glitter of jewels.\n",
      "A cunning and terrifying Pokémon, its cuteness makes opponents let down their guard—and then it swallows them whole with its huge jaws. It has two mouths. The big jaws on the back of its head can’t taste anything, so that’s the mouth it uses to eat foods it doesn’t like. It uses its docile-looking face to lull foes into complacency, then bites with its huge, relentless jaws. It chomps with its gaping mouth. Its huge jaws are actually steel horns that have been transformed.\n",
      "This Pokémon has a body of steel. To make its body, Aron feeds on iron ore that it digs from mountains. Occasionally, it causes major trouble by eating bridges and rails. Aron has a body of steel. With one all-out charge, this Pokémon can demolish even a heavy dump truck. The destroyed dump truck then becomes a handy meal for the Pokémon. It eats iron ore—and sometimes railroad tracks—to build up the steel armor that protects its body. When Aron evolves, its steel armor peels off. In ancient times, people would collect Aron’s shed armor and make good use of it in their daily lives.\n",
      "Lairon tempers its steel body by drinking highly nutritious mineral springwater until it is bloated. This Pokémon makes its nest close to springs of delicious water. Lairon feeds on iron contained in rocks and water. It makes its nest on mountains where iron ore is buried. As a result, the Pokémon often clashes with humans mining the iron ore. Lairon live in mountains brimming with spring water and iron ore, so these Pokémon often came into conflict with humans in the past. During territorial disputes, Lairon fight by slamming into each other. Close inspection of their steel armor reveals scratches and dents.\n",
      "Aggron claims an entire mountain as its own territory. It mercilessly beats up anything that violates its environment. This Pokémon vigilantly patrols its territory at all times. Aggron is protective of its environment. If its mountain is ravaged by a landslide or a fire, this Pokémon will haul topsoil to the area, plant trees, and beautifully restore its own territory. Aggron has a horn sharp enough to perforate thick iron sheets. It brings down its opponents by ramming into them horn first. Long ago, there was a king who wore a helmet meant to resemble the head of an Aggron. He was trying to channel the Pokémon’s strength.\n",
      "It always trains deep in mountains. It levitates when it heightens its spiritual power through meditation. It eats just one berry a day. By enduring hunger, its spirit is tempered and made sharper. Meditite undertakes rigorous mental training deep in the mountains. However, whenever it meditates, this Pokémon always loses its concentration and focus. As a result, its training never ends. Meditite heightens its inner energy through meditation. It survives on just one berry a day. Minimal eating is another aspect of this Pokémon’s training.\n",
      "It elegantly avoids attacks with dance-like steps, then launches a devastating blow in the same motion. Through yoga training, it gained the psychic power to predict its foe’s next move. It is said that through meditation, Medicham heightens energy inside its body and sharpens its sixth sense. This Pokémon hides its presence by merging itself with fields and mountains. Through the power of meditation, Medicham developed its sixth sense. It gained the ability to use psychokinetic powers. This Pokémon is known to meditate for a whole month without eating.\n",
      "Friction between the air and its fur produces static electricity. When Electrike runs, it makes a crackling sound. Static electricity builds up all over its body as strands of its long fur rub together. This Pokémon boasts incredible speed. It stores static electricity in its fur for discharging. It gives off sparks if a storm approaches. It stores electricity in its fur. It gives off sparks from all over its body in seasons when the air is dry.\n",
      "Manectric can be found beneath unnatural thunderclouds. People say it can run at the same speed as lightning striking. It stimulates its own muscles with electricity, so it can move quickly. It eases its soreness with electricity, too, so it can recover quickly as well. It stimulates its own muscles with electricity, so it can move quickly. It eases its soreness with electricity, too, so it can recover quickly as well. It rarely appears before people. It is said to nest where lightning has fallen.\n",
      "It cheers on friends with pom-poms made of sparks. It drains power from telephone poles. It absorbs electricity from telephone poles. It shorts out its body to create crackling noises. Plusle always acts as a cheerleader for its partners. Whenever a teammate puts out a good effort in battle, this Pokémon shorts out its body to create the crackling noises of sparks to show its joy. When Plusle is cheering on its partner, it flashes with electric sparks from all over its body. If its partner loses, this Pokémon cries loudly.\n",
      "Exposure to electricity from Minun and Plusle promotes blood circulation and relaxes muscles. It cheers on friends. If its friends are losing, its body lets off more and more sparks. Minun is more concerned about cheering on its partners than its own safety. It shorts out the electricity in its body to create brilliant showers of sparks to cheer on its teammates. Minun loves to cheer on its partner in battle. It gives off sparks from its body while it is doing so. If its partner is in trouble, this Pokémon gives off increasing amounts of sparks.\n",
      "It communicates with others by lighting up its rear at night. It loves Illumise’s sweet aroma. It lives around clean ponds. At night, its rear lights up. It converses with others by flashing its light. With the arrival of night, Volbeat emits light from its tail. It communicates with others by adjusting the intensity and flashing of its light. This Pokémon is attracted by the sweet aroma of Illumise. Volbeat’s tail glows like a lightbulb. With other Volbeat, it uses its tail to draw geometric shapes in the night sky. This Pokémon loves the sweet aroma given off by Illumise.\n",
      "Its fragrance attracts a swarm of Volbeat, so they draw over 200 patterns in the night sky. With its sweet aroma, it guides Volbeat to draw signs with light in the night sky. Illumise attracts a swarm of Volbeat using a sweet fragrance. Once the Volbeat have gathered, this Pokémon leads the lit-up swarm in drawing geometric designs on the canvas of the night sky. Illumise leads a flight of illuminated Volbeat to draw signs in the night sky. This Pokémon is said to earn greater respect from its peers by composing more complex designs in the sky.\n"
     ]
    },
    {
     "name": "stdout",
     "output_type": "stream",
     "text": [
      "Roselia shoots sharp thorns as projectiles at any opponent that tries to steal the flowers on its arms. The aroma of this Pokémon brings serenity to living things. On extremely rare occasions, a Roselia is said to appear with its flowers in unusual colors. The thorns on this Pokémon’s head contain a vicious poison. Its flowers give off a relaxing fragrance. The stronger its aroma, the healthier the Roselia is. It uses the different poisons in each hand separately when it attacks. The stronger its aroma, the healthier it is.\n",
      "It has a small heart and brain. Its stomach comprises most of its body, with enzymes to dissolve anything. There is nothing its stomach can’t digest. While it is digesting, vile, overpowering gases are expelled. Virtually all of Gulpin’s body is its stomach. As a result, it can swallow something its own size. This Pokémon’s stomach contains a special fluid that digests anything. Most of Gulpin’s body is made up of its stomach—its heart and brain are very small in comparison. This Pokémon’s stomach contains special enzymes that dissolve anything.\n",
      "It swallows anything whole. It sweats toxic fluids from its follicles to douse foes. It gulps anything that fits in its mouth. Its special enzymes can dissolve anything. When Swalot spots prey, it spurts out a hideously toxic fluid from its pores and sprays the target. Once the prey has weakened, this Pokémon gulps it down whole with its cavernous mouth. Swalot has no teeth, so what it eats, it swallows whole, no matter what. Its cavernous mouth yawns widely. An automobile tire could easily fit inside this Pokémon’s mouth.\n",
      "They’re such cowards that they won’t hunt alone. When five or so of them get together, they suddenly turn ferocious! With its sturdy jaws and fangs, it can easily chomp wooden boats to splinters. It fights with Basculin over food. It won’t attack while it’s alone—not even if it spots prey. Instead, it waits for other Carvanha to join it, and then the Pokémon attack as a group. These Pokémon have sharp fangs and powerful jaws. Sailors avoid Carvanha dens at all costs.\n",
      "People believe that carrying one of its discarded fangs will prevent mishaps at sea, so the fangs are made into accessories. It drinks in seawater and jets it from its rear to propel itself. It’s very sensitive to the scent of blood. As soon as it catches the scent of prey, Sharpedo will jet seawater from its backside, hurtling toward the target to attack at 75 mph. This Pokémon is known as the Bully of the Sea. Any ship entering the waters Sharpedo calls home will be attacked—no exceptions.\n",
      "It swims along with its mouth open and swallows down seawater along with its food. It sprays excess water out of its nostrils. Due to their memories of when they once lived on land, pods of them will, very rarely, wash up on shore. It shows off by spraying jets of seawater from the nostrils above its eyes. It eats a solid ton of Wishiwashi every day. When it sucks in a large volume of seawater, it becomes like a big, bouncy ball. It eats a ton of food daily.\n",
      "They eat so many fish Pokémon that when Wailord become too numerous, fishermen have to chase them off. When a small Wailmer is attacked by Sharpedo or Dhelmise, its whole pod works together to protect it. It can sometimes knock out opponents with the shock created by breaching and crashing its big body onto the water. Its immense size is the reason for its popularity. Wailord watching is a favorite sightseeing activity in various parts of the world.\n",
      "Its humped back stores intensely hot magma. In rain, the magma cools, slowing its movement. The magma in its body reaches 2,200 degrees Fahrenheit. Its hump gets smaller when it uses Fire-type moves. Numel is extremely dull witted—it doesn’t notice being hit. However, it can’t stand hunger for even a second. This Pokémon’s body is a seething cauldron of boiling magma. Numel stores magma of almost 2,200 degrees Fahrenheit within its body. If it gets wet, the magma cools and hardens. In that event, the Pokémon’s body grows heavy and its movements become sluggish.\n",
      "The volcanoes on its back have a major eruption every 10 years--or whenever it becomes really angry. If angered, the humps on its back erupt in a shower of molten lava. It lives in the craters of volcanoes. Camerupt has a volcano inside its body. Magma of 18,000 degrees Fahrenheit courses through its body. Occasionally, the humps on this Pokémon’s back erupt, spewing the superheated magma. The humps on Camerupt’s back are formed by a transformation of its bones. They sometimes blast out molten magma. This Pokémon apparently erupts often when it is enraged.\n",
      "You can tell how it’s feeling by the smoke spouting from its shell. Tremendous velocity is a sign of good health. It burns coal to produce energy. When it has burned through all of its coal, it becomes unable to move. It burns coal inside its shell for energy. It blows out black soot if it is endangered. You find abandoned coal mines full of them. They dig tirelessly in search of coal.\n",
      "It bounces constantly, using its tail like a spring. The shock of bouncing keeps its heart beating. It bounces around on its tail to keep its heart pumping. It carries a pearl from Clamperl on its head. Spoink bounces around on its tail. The shock of its bouncing makes its heart pump. As a result, this Pokémon cannot afford to stop bouncing—if it stops, its heart will stop. Spoink keeps a pearl on top of its head. The pearl functions to amplify this Pokémon’s psychokinetic powers. It is therefore on a constant search for a bigger pearl.\n",
      "It uses black pearls to amplify its psychic power. It does a strange dance to control foes’ minds. It uses black pearls to amplify its psychic power. It does an odd dance to gain control over foes. Grumpig uses the black pearls on its body to amplify its psychic power waves for gaining total control over its foe. When this Pokémon uses its special power, its snorting breath grows labored. Grumpig uses the black pearls on its body to wield its fantastic powers. When it is doing so, it dances bizarrely. This Pokémon’s black pearls are valuable as works of art.\n",
      "Its steps are staggering and unsteady, but Spinda thinks it’s walking in a straight line. Each and every Spinda has a slightly different configuration of spots. There are collectors who enjoy the tiny differences in their spot patterns. Its steps are shaky and stumbling. Walking for a long time makes it feel sick. Each Spinda’s spot pattern is different. With its stumbling movements, it evades opponents’ attacks brilliantly!\n",
      "Its jaws are strong enough to crush rocks but so heavy that it can’t get up if it flips over. Sandile seize those moments as their chance. It builds nests that double as traps, lying in wait for its prey to get caught. When night falls, it digs itself a spot beneath the sand to sleep. Its nest is a sloped, bowl-like pit in the desert. Once something has fallen in, there is no escape. It makes an inescapable conical pit and lies in wait at the bottom for prey to come tumbling down.\n",
      "It vibrates its wings to generate ultrasonic waves, causing its prey to faint. Then it buries the prey alive in the sand to preserve it. It vibrates its wings to send out odd sound waves. Trainers who are with it need earplugs. The ultrasonic waves it generates by rubbing its two wings together cause severe headaches. To help make its wings grow, it dissolves quantities of prey in its digestive juices and guzzles them down every day.\n",
      "By flapping their wings, Flygon cause sandstorms that conceal Krookodile. The team then splits the prey they catch. People continue to have their hearts stolen by its enchanting songs and find themselves stranded in the desert. This Pokémon hides in the heart of sandstorms it creates and seldom appears where people can see it. It is nicknamed the Desert Spirit because the flapping of its wings sounds like a woman singing.\n",
      "It lives in arid locations. Its yellow flowers bloom once a year. It prefers harsh environments such as deserts. It can survive for 30 days on water stored in its body. Cacnea lives in arid locations such as deserts. It releases a strong aroma from its flower to attract prey. When prey comes near, this Pokémon shoots sharp thorns from its body to bring the victim down. The more arid and harsh the environment, the more pretty and fragrant a flower Cacnea grows. This Pokémon battles by wildly swinging its thorny arms.\n"
     ]
    },
    {
     "name": "stdout",
     "output_type": "stream",
     "text": [
      "It becomes active at night, seeking prey that is exhausted from the day’s desert heat. Packs of them follow travelers through the desert until the travelers can no longer move. During the daytime, Cacturne remains unmoving so that it does not lose any moisture to the harsh desert sun. This Pokémon becomes active at night when the temperature drops. If a traveler is going through a desert in the thick of night, Cacturne will follow in a ragtag group. The Pokémon are biding their time, waiting for the traveler to tire and become incapable of moving.\n",
      "Swablu has light and fluffy wings that are like cottony clouds. This Pokémon is not frightened of people. It lands on the heads of people and sits there like a cotton-fluff hat. Swablu loves to make things clean. If it spots something dirty, it will wipe and polish it with its cottony wings. If its wings become dirty, this Pokémon finds a stream and showers itself. Its cottony wings are full of air, making them light and fluffy to the touch. Swablu takes diligent care of its wings. Since Swablu looks like a cumulus cloud, foes can have a hard time finding it. Apparently its wings turned white over many generations.\n",
      "Altaria dances and wheels through the sky among billowing, cotton-like clouds. By singing melodies in its crystal-clear voice, this Pokémon makes its listeners experience dreamy wonderment. Altaria sings in a gorgeous soprano. Its wings are like cotton clouds. This Pokémon catches updrafts with its buoyant wings and soars way up into the wild blue yonder. As it flies in a calm and relaxed manner, Altaria performs a humming song that would enrapture any audience. This Pokémon has a kind disposition, but if it’s provoked, it will threaten opponents with shrill cries before attacking them without mercy.\n",
      "It has feuded with Seviper for many generations. Its sharp claws are its biggest weapons. Its fur would all stand on end if it smelled a Seviper nearby. Its sharp claws tear up its foes. Memories of battling its archrival Seviper are etched into every cell of Zangoose’s body. This Pokémon adroitly dodges attacks with incredible agility. Zangoose usually stays on all fours, but when angered, it gets up on its hind legs and extends its claws. This Pokémon shares a bitter rivalry with Seviper that dates back over generations.\n",
      "In battle, it uses its bladed tail to counter any Zangoose. It secretes a deadly venom in its tail. Constant polishing makes the edge of the blade on its tail extremely sharp. It’s Zangoose’s archrival. Seviper shares a generations-long feud with Zangoose. The scars on its body are evidence of vicious battles. This Pokémon attacks using its sword-edged tail. Seviper’s swordlike tail serves two purposes—it slashes foes and douses them with secreted poison. This Pokémon will not give up its long-running blood feud with Zangoose.\n",
      "Lunatone was discovered at a location where a meteoroid fell. As a result, some people theorize that this Pokémon came from space. However, no one has been able to prove this theory so far. Lunatone becomes active around the time of the full moon. Instead of walking, it moves by floating in midair. The Pokémon’s intimidating red eyes cause all those who see it to become transfixed with fear. The phase of the moon apparently has some effect on its power. It’s active on the night of a full moon. It was discovered at the site of a meteor strike 40 years ago. Its stare can lull its foes to sleep.\n",
      "Solrock is a new species of Pokémon that is said to have fallen from space. It floats in air and moves silently. In battle, this Pokémon releases intensely bright light. Sunlight is the source of Solrock’s power. It is said to possess the ability to read the emotions of others. This Pokémon gives off intense heat while rotating its body. When it rotates itself, it gives off light similar to the sun, thus blinding its foes. Solar energy is the source of its power, so it is strong during the daytime. When it spins, its body shines.\n",
      "Its entire body is gooey. When pecked at by bird Pokémon, it slips and slides its way to freedom. Its whiskers are filled with nerves. They can sense smells and flavors just as a person’s nose or tongue would. Its slimy body is hard to grasp. In one region, it is said to have been born from hardened mud. It probes muddy riverbeds with its two long whiskers. A slimy film protects its body.\n",
      "Whiscash shakes the ground at high intensities to intimidate its opponents. It swallows its prey whole—along with mud from the swamp floor. Its vision is not that good. It senses vibrations in the water with its whiskers to determine the location of its prey. It makes its nest at the bottom of swamps. It will eat anything—if it is alive, Whiscash will eat it. It claims a large swamp to itself. If a foe comes near it, it sets off tremors by thrashing around.\n",
      "Individuals that have been set free by Trainers who could no longer raise them have become common, and they can now be found in Alola. It can adapt very well to its environment. Feebas and Corphish are about the only Pokémon to live in stagnant ditches. No matter how dirty the water in the river, it will adapt and thrive. It has a strong will to survive. It was originally a Pokémon from afar that escaped to the wild. It can adapt to the dirtiest river.\n",
      "Its temperament is rough and it loves to fight, but as soon as its pincers break off, it turns cowardly. It stays timid until they grow back. Its pincers often fall off. Unlike with Crabrawler or Clauncher, the meat in its claws is utterly nasty and stinking. A rough customer that wildly flails its giant claws. It is said to be extremely hard to raise. A brutish Pokémon that loves to battle. It will crash itself into any foe that approaches its nest.\n",
      "Depictions of Pokémon similar to Baltoy have been found on the walls of caves where primitive humans lived. When they find others of their kind, they cry out loudly and gather together. Large numbers of them can be found in old graveyards. It moves while spinning around on its single foot. Some Baltoy have been seen spinning on their heads. It was discovered in ancient ruins. While moving, it constantly spins. It stands on one foot even when asleep.\n",
      "If it gets wet, its body melts. When rain starts to fall, it wraps its whole body up with its psychic powers to protect itself. The ancient people who made it apparently modeled it after something that descended from the sky. It fires beams from both arms. This mysterious Pokémon started life as an ancient clay figurine made over 20,000 years ago. It appears to have been born from clay dolls made by ancient people. It uses telekinesis to float and move.\n",
      "In ancient times, it lived in warm seas. It disguised itself as seaweed to ambush its prey and devoured them whole when they got close. It sticks to rocks with its powerful suckers and can’t be washed away no matter how rough the surf gets. This Pokémon was restored from a fossil. Lileep once lived in warm seas that existed approximately 100,000,000 years ago. Lileep clings to rocks on the seabed. When prey comes close, this Pokémon entangles it with petallike tentacles.\n",
      "Normally, it lived on shallow sea shoals. When the tide went out, this Pokémon came up on land to search for prey. This carnivorous Pokémon lived in primordial seas. It catches prey in its eight tentacles and dissolves them with digestive fluid as it eats. It has short legs and can’t walk very fast, but its neck and tentacles can extend to over three times their usual length to nab distant prey. Once Cradily catches prey in its tentacles, it digests them whole and absorbs their nutrients.\n",
      "When restored Anorith are released into the ocean, they don’t thrive, because the water composition has changed since their era. This is one kind of primeval bug Pokémon. With eight wings, it could apparently swim a lot faster than you’d expect. This Pokémon was restored from a fossil. Anorith lived in the ocean about 100,000,000 years ago, hunting with its pair of claws. Anorith can swim swiftly by pulling its eight wings through the water like oars on a boat. This Pokémon is an ancestor of modern bug Pokémon.\n",
      "It lived on land and went out into the sea to hunt for prey. Its sharp claws were its greatest weapon. Armaldo adapted from living in water to living on land. It has been determined that it is the ancestor of some bug Pokémon. After evolution, this Pokémon emerged onto land. Its lower body has become stronger, and blows from its tail are devastating. Though it lives on land, it’s also a good swimmer. It dives into the ocean in search of prey, using its sharp claws to take down its quarry.\n"
     ]
    },
    {
     "name": "stdout",
     "output_type": "stream",
     "text": [
      "They look ragged, so no one catches them. They look like they’d taste bad, so predators won’t eat them. And their numbers continue to grow. Because of its wretched appearance, most people pay it no attention, but there are some who collect Feebas—and Feebas alone! Although unattractive and unpopular, this Pokémon’s marvelous vitality has made it a subject of research. It is a shabby and ugly Pokémon. However, it is very hardy and can survive on little water.\n",
      "While Milotic is said to be the most beautiful Pokémon, Trainers who like Feebas and have raised it are seemingly disappointed by Milotic. Its dwelling place is the bottom of big lakes. Those who behold its loveliness are said to have their hearts purified. Milotic has provided inspiration to many artists. It has even been referred to as the most beautiful Pokémon of all. It’s said that a glimpse of a Milotic and its beauty will calm any hostile emotions you’re feeling.\n",
      "It changes its form depending on the weather. Changes in the temperature or humidity appear to affect its cellular structure. Its form changes on its own, due to its cells’ sensitive reactions to temperature and humidity. Although its form changes with the weather, that is apparently the result of a chemical reaction and not the result of its own free will. Its form changes depending on the weather. The rougher conditions get, the rougher Castform’s disposition!\n",
      "Kecleon is capable of changing its body colors at will to blend in with its surroundings. There is one exception—this Pokémon can’t change the zigzag pattern on its belly. Kecleon alters its body coloration to blend in with its surroundings, allowing it to sneak up on its prey unnoticed. Then it lashes out with its long, stretchy tongue to instantly ensnare the unsuspecting target. It changes its hue to blend into its surroundings. If no one takes notice of it for too long, it will pout and never reveal itself. Its color changes for concealment and also when its mood or health changes. The darker the color, the healthier it is.\n",
      "Shuppet is attracted by feelings of jealousy and vindictiveness. If someone develops strong feelings of vengeance, this Pokémon will appear in a swarm and line up beneath the eaves of that person’s home. Shuppet grows by feeding on dark emotions, such as vengefulness and envy, in the hearts of people. It roams through cities in search of grudges that taint people. It eats up emotions like malice, jealousy, and resentment, so some people are grateful for its presence. There’s a proverb that says, “Shun the house where Shuppet gather in the growing dusk.”\n",
      "Banette generates energy for laying strong curses by sticking pins into its own body. This Pokémon was originally a pitiful plush doll that was thrown away. A cursed energy permeated the stuffing of a discarded and forgotten plush doll, giving it new life as Banette. The Pokémon’s energy would escape if it were to ever open its mouth. It’s a stuffed toy that was thrown away and became possessed, ever searching for the one who threw it away so it can exact its revenge. Resentment at being cast off made it spring into being. Some say that treating it well will satisfy it, and it will once more become a stuffed toy.\n",
      "Duskull can pass through any wall no matter how thick it may be. Once this Pokémon chooses a target, it will doggedly pursue the intended victim until the break of dawn. Duskull wanders lost among the deep darkness of midnight. There is an oft-told admonishment given to misbehaving children that this Pokémon will spirit away bad children who earn scoldings from their mothers. If it finds bad children who won’t listen to their parents, it will spirit them away—or so it’s said. Making itself invisible, it silently sneaks up to prey. It has the ability to slip through thick walls.\n",
      "Dusclops’s body is completely hollow—there is nothing at all inside. It is said that its body is like a black hole. This Pokémon will absorb anything into its body, but nothing will ever come back out. Dusclops absorbs anything, however large the object may be. This Pokémon hypnotizes its foe by waving its hands in a macabre manner and by bringing its single eye to bear. The hypnotized foe is made to do Dusclops’s bidding. Its body is entirely hollow. When it opens its mouth, it sucks everything in as if it were a black hole. It seeks drifting will-o’-the-wisps and sucks them into its empty body. What happens inside is a mystery.\n",
      "The bunches of fruit around Tropius’s neck are very popular with children. This Pokémon loves fruit, and eats it continuously. Apparently, its love for fruit resulted in its own outgrowth of fruit. Children of the southern tropics eat as snacks the fruit that grows in bunches around the neck of Tropius. This Pokémon flies by flapping the leaves on its back as if they were wings. The bunches of fruit growing around the necks of Tropius in Alola are especially sweet compared to those in other regions. Bunches of delicious fruit grow around its neck. In warm areas, many ranches raise Tropius.\n",
      "It uses the sucker on its head to hang from a tree or from eaves. It can produce seven different tones. Emitting ultrasonic cries, it floats on winds to travel great distances. Chimecho makes its cries echo inside its hollow body. When this Pokémon becomes enraged, its cries result in ultrasonic waves that have the power to knock foes flying. In high winds, Chimecho cries as it hangs from a tree branch or the eaves of a building using a suction cup on its head. This Pokémon plucks berries with its long tail and eats them.\n",
      "The only thing unlucky about Absol is its appearance. It protects fields and warns people of disaster, so one ought to be grateful for it. The elderly call it the disaster Pokémon and detest it, but interest in its power to predict disasters is on the rise. Swift as the wind, Absol races through fields and mountains. Its curved, bow-like horn is acutely sensitive to the warning signs of natural disasters. Because of this Pokémon’s ability to detect danger, people mistook Absol as a bringer of doom.\n",
      "Wynaut can always be seen with a big, happy smile on its face. Look at its tail to determine if it is angry. When angered, this Pokémon will be slapping the ground with its tail. Wynaut gather on moonlit nights to play by squeezing up against each other. By being squeezed, this Pokémon gains endurance and is trained to dole out powerful counterattacks. It tends to move in a pack. Individuals squash against one another to toughen their spirits. It tends to move in a pack with others. They cluster in a tight group to sleep in a cave.\n",
      "It feeds mainly on ice and snow. It’s only able to survive in a limited number of places in the warm Alola region. Rich people from cold areas all share childhood memories of playing with Snorunt. It’s said that if they are seen at midnight, they’ll cause heavy snow. They eat snow and ice to survive. It can only survive in cold areas. It bounces happily around, even in environments as cold as −150 degrees Fahrenheit.\n",
      "It freezes its prey and chews them whole. However, it prefers to eat Pokémon like Vanillite that are already frozen. Its actual body is a rock that isn’t particularly hard. Glalie absorbs moisture from the air and drapes itself in an armor of ice. It has a body of ice that won’t melt, even with fire. It can instantly freeze moisture in the atmosphere. It can instantly freeze moisture in the atmosphere. It uses this power to freeze its foes.\n",
      "Spheal is much faster rolling than walking to get around. When groups of this Pokémon eat, they all clap at once to show their pleasure. Because of this, their mealtimes are noisy. Spheal always travels by rolling around on its ball-like body. When the season for ice floes arrives, this Pokémon can be seen rolling about on ice and crossing the sea. This Pokémon’s body is covered in blubber and impressively round. It’s faster for Spheal to roll around than walk. As it drifts among the waves, Spheal probes the sea. As soon as it spots prey, it informs the Walrein in its herd.\n",
      "Sealeo has the habit of always juggling on the tip of its nose anything it sees for the first time. This Pokémon occasionally entertains itself by balancing and rolling a Spheal on its nose. Sealeo often balances and rolls things on the tip of its nose. While the Pokémon is rolling something, it checks the object’s aroma and texture to determine whether it likes the object or not. Sealeo live on top of drift ice. They go swimming when they’re on the hunt, seeking out their prey by scent. This Pokémon has a habit of spinning round things on its nose, whether those things are Poké Balls or Spheal.\n"
     ]
    },
    {
     "name": "stdout",
     "output_type": "stream",
     "text": [
      "Walrein’s two massively developed tusks can totally shatter blocks of ice weighing 10 tons with one blow. This Pokémon’s thick coat of blubber insulates it from subzero temperatures. Walrein swims all over in frigid seawater while crushing icebergs with its grand, imposing tusks. Its thick layer of blubber makes enemy attacks bounce off harmlessly. Walrein form herds of 20 to 30 individuals. When a threat appears, the herd’s leader will protect the group with its life. Walrein’s tusks keep growing throughout its life. Tusks broken in battle will grow back to their usual impressive size in a year.\n",
      "Clamperl’s sturdy shell is not only good for protection—it is also used for clamping and catching prey. A fully grown Clamperl’s shell will be scored with nicks and scratches all over. Clamperl grows while being protected by its rock-hard shell. When its body becomes too large to fit inside the shell, it is sure evidence that this Pokémon is getting close to evolution. Despite its appearance, it’s carnivorous. It clamps down on its prey with both sides of its shell and doesn’t let go until they stop moving. Clamperl’s pearls are exceedingly precious. They can be more than 10 times as costly as Shellder’s pearls.\n",
      "Huntail’s presence went unnoticed by people for a long time because it lives at extreme depths in the sea. This Pokémon’s eyes can see clearly even in the murky dark depths of the ocean. Huntail’s tail is shaped like a fish. It uses the tail to attract prey, then swallows the prey whole with its large, gaping mouth. This Pokémon swims by wiggling its slender body like a snake. It’s not the strongest swimmer. It wags its tail to lure in its prey and then gulps them down as soon as they get close. Deep seas are their habitat. According to tradition, when Huntail wash up onshore, something unfortunate will happen.\n",
      "Gorebyss lives in the southern seas at extreme depths. Its body is built to withstand the enormous pressure of water at incredible depths. Because of this, this Pokémon’s body is unharmed by ordinary attacks. Although Gorebyss is the very picture of elegance and beauty while swimming, it is also cruel. When it spots prey, this Pokémon inserts its thin mouth into the prey’s body and drains the prey of its body fluids. The color of its body changes with the water temperature. The coloration of Gorebyss in Alola is almost blindingly vivid. It sucks bodily fluids out of its prey. The leftover meat sinks to the seafloor, where it becomes food for other Pokémon.\n",
      "Thought to have gone extinct, Relicanth was given a name that is a variation of the name of the person who discovered it. The reason it hasn’t changed at all in a hundred million years is that it’s apparently already a perfect life-form. Rock-hard scales and oil-filled swim bladders allow this Pokémon to survive the intense water pressure of the deep sea. This Pokémon was discovered during deep-sea exploration. Its appearance hasn’t changed in 100,000,000 years, so it’s called a living fossil.\n",
      "If a Luvdisc is left on its own, it becomes despondent, leaving itself open to attack. That is when Pelipper snatch them up. Loving couples have a soft spot for this Pokémon, so honeymoon hotels often release this Pokémon into their pools. There was an era when it was overfished due to the rumor that having one of its heart-shaped scales would enable you to find a sweetheart. Luvdisc makes its home in coral reefs in warm seas. It especially likes sleeping in the space between Corsola’s branches.\n",
      "Whenever it sees bird Pokémon flying through the sky, it becomes envious and smashes its surroundings to bits with headbutts. Some theories suggest that its behavior of forcefully bashing its head into things stimulates cells that affect its evolution. Bagon jumps off cliffs every day, trying to grow stronger so that someday it will be able to fly. Bagon is a solitary Pokémon that doesn’t form groups with others of its kind. It also has a head hard enough to cleave a boulder in one strike.\n",
      "The cells within its body are changing at a bewildering pace. Its hard shell is made from the same substance as bone. Shelgon lives deep within caves. It stays shut up in its hard shell, dreaming of the day it will be able to fly. This Pokémon has covered its body in a hard shell that has the same composition as bone. Shelgon stores energy for evolution. Shelgon ignores its hunger entirely, never eating any food. Apparently, Shelgon will evolve once all its energy stores are used up.\n",
      "Overjoyed at finally being able to fly, it flies all over the place and usually doesn’t land until it’s completely exhausted and needs to sleep. Thanks to its fervent wishes, the cells in its body finally mutated, and at last it has its heart’s desire—wings. Salamence is an unusual Pokémon in that it was able to evolve a body with wings just by constantly wishing to be able to fly. While basking in the joy of flight generally keeps this Pokémon in high spirits, Salamence turns into an uncontrollable menace if something angers it.\n",
      "Instead of blood, magnetism flows through its body. When it’s feeling bad, try giving it a magnet. If you anger it, it will do more than rampage. It will also burst out strong magnetism, causing nearby machines to break. From its rear, Beldum emits a magnetic force that rapidly pulls opponents in. They get skewered on Beldum’s sharp claws. The cells in this Pokémon’s body are composed of magnetic material. Instead of blood, magnetic forces flow through Beldum’s body.\n",
      "With its two brains, it fires powerful psychic energy to stop its prey in their tracks. It flies at high speeds around the skies. When it finds its prey, Metang takes a firm grip with its sharp claws and never lets go. Two Beldum have become stuck together via their own magnetic forces. With two brains, the resulting Metang has doubled psychic powers. Using magnetic forces to stay aloft, this Pokémon flies at high speeds, weaving through harsh mountain terrain in pursuit of prey.\n",
      "It boasts not only psychic powers but also fantastic strength. It grabs its prey with its four legs and holds them in place with its claws. It analyzes its opponents with more accuracy than a supercomputer, which enables it to calmly back them into a corner. Because the magnetic powers of these Pokémon get stronger in freezing temperatures, Metagross living on snowy mountains are full of energy. Metagross is the result of the fusion of two Metang. This Pokémon defeats its opponents through use of its supercomputer-level brain.\n",
      "Regirock was sealed away by people long ago. If this Pokémon’s body is damaged in battle, it is said to seek out suitable rocks on its own to repair itself. Regirock’s body is composed entirely of rocks. Recently, a study made the startling discovery that the rocks were all unearthed from different locations. Every bit of Regirock’s body is made of stone. As parts of its body erode, this Pokémon sticks rocks to itself to repair what’s been lost. Cutting-edge technology was used to study the internals of this Pokémon’s rock body, but nothing was found—not even a brain or a heart.\n",
      "Regice’s body was made during an ice age. The deep-frozen body can’t be melted, even by fire. This Pokémon controls frigid air of -328 degrees Fahrenheit. Regice cloaks itself with frigid air of -328 degrees Fahrenheit. Things will freeze solid just by going near this Pokémon. Its icy body is so cold, it will not melt even if it is immersed in magma. With cold air that can reach temperatures as low as −328 degrees Fahrenheit, Regice instantly freezes any creature that approaches it. This Pokémon’s body is made of solid ice. It’s said that Regice was born beneath thick ice in the ice age.\n",
      "Registeel has a body that is harder than any kind of metal. Its body is apparently hollow. No one has any idea what this Pokémon eats. Registeel was imprisoned by people in ancient times. The metal composing its body is thought to be a curious substance that is not of this earth. Registeel’s body is made of a strange material that is flexible enough to stretch and shrink but also more durable than any metal. It’s rumored that this Pokémon was born deep underground in the planet’s mantle and that it emerged onto the surface 10,000 years ago.\n"
     ]
    },
    {
     "name": "stdout",
     "output_type": "stream",
     "text": [
      "It communicates using telepathy. Its body is covered in down that refracts light to make it invisible. It can telepathically communicate with people. It changes its appearance using its down that refracts light. Latias is highly sensitive to the emotions of people. If it senses any hostility, this Pokémon ruffles the feathers all over its body and cries shrilly to intimidate the foe. Latias is highly intelligent and capable of understanding human speech. It is covered with a glass-like down. The Pokémon enfolds its body with its down and refracts light to alter its appearance.\n",
      "A highly intelligent Pokémon. By folding back its wings in flight, it can overtake jet planes. It understands human speech and is highly intelligent. It is a tender Pokémon that dislikes fighting. Latios has the ability to make others see an image of what it has seen or imagines in its head. This Pokémon is intelligent and understands human speech. Latios will only open its heart to a Trainer with a compassionate spirit. This Pokémon can fly faster than a jet plane by folding its forelegs to minimize air resistance.\n",
      "A mythical Pokémon said to have swelled the seas with rain and tidal waves. It battled with Groudon. It is said to have widened the seas by causing downpours. It had been asleep in a marine trench. Through Primal Reversion and with nature’s full power, it will take back its true form. It can summon storms that cause the sea levels to rise. Kyogre is said to be the personification of the sea itself. Legends tell of its many clashes against Groudon, as each sought to gain the power of nature.\n",
      "Said to have expanded the lands by evaporating water with raging heat. It battled titanically with Kyogre. This legendary Pokémon is said to represent the land. It went to sleep after dueling Kyogre. Groudon is said to be the personification of the land itself. Legends tell of its many clashes against Kyogre, as each sought to gain the power of nature. Through Primal Reversion and with nature’s full power, it will take back its true form. It can cause magma to erupt and expand the landmass of the world.\n",
      "It lives in the ozone layer far above the clouds and cannot be seen from the ground. It flies in the ozone layer, way up high in the sky. Until recently, no one had ever seen it. Rayquaza is said to have lived for hundreds of millions of years. Legends remain of how it put to rest the clash between Kyogre and Groudon. It flies forever through the ozone layer, consuming meteoroids for sustenance. The many meteoroids in its body provide the energy it needs to Mega Evolve.\n",
      "A legend states that Jirachi will make true any wish that is written on notes attached to its head when it awakens. If this Pokémon senses danger, it will fight without awakening. Jirachi will awaken from its sleep of a thousand years if you sing to it in a voice of purity. It is said to make true any wish that people desire. Once every 1,000 years, the singing of a pure voice will rouse this Pokémon from its near-perpetual slumber. It wakes for only seven days. It’s believed that when this Pokémon wakes from its 1,000-year slumber, it will grant any wishes written on the notes attached to its head.\n",
      "An alien virus that fell to earth on a meteor underwent a DNA mutation to become this Pokémon. DNA from a space virus mutated and became a Pokémon. It appears where auroras are seen. The DNA of a space virus underwent a sudden mutation upon exposure to a laser beam and resulted in Deoxys. The crystalline organ on this Pokémon’s chest appears to be its brain. Deoxys emerged from a virus that came from space. It is highly intelligent and wields psychokinetic powers. This Pokémon shoots lasers from the crystalline organ on its chest.\n",
      "Photosynthesis occurs across its body under the sun. The shell on its back is actually hardened soil. The shell on its back is made of soil. On a very healthy Turtwig, the shell should feel moist. Photosynthesis occurs across its body under the sun. The shell on its back is actually hardened soil. It undertakes photosynthesis with its body, making oxygen. The leaf on its head wilts if it is thirsty.\n",
      "A GROTLE that lives in the forest is said to have its own secret springwater. It knows where pure water wells up. It carries fellow Pokémon there on its back. It lives along water in forests. In the daytime, it leaves the forest to sunbathe its treed shell. It knows where pure water wells up. It carries fellow Pokémon there on its back.\n",
      "Ancient people imagined that beneath the ground, a gigantic TORTERRA dwelled. Some Pokémon are born on a Torterra’s back and spend their entire life there. Ancient people imagined that beneath the ground, a gigantic Torterra dwelled. Small Pokémon occasionally gather on its unmoving back to begin building their nests.\n",
      "The gas made in its belly burns from its rear end. The fire burns weakly when it feels sick. It is very agile. Before going to sleep, it extinguishes the flame on its tail to prevent fires. Its fiery rear end is fueled by gas made in its belly. Even rain can’t extinguish the fire. The gas made in its belly burns from its rear end. The fire burns weakly when it feels sick.\n",
      "A bigger fire on its tail and a brighter blue pattern on its face means its rank in its pack is higher. It skillfully controls the intensity of the fire on its tail to keep its foes at an ideal distance. It skillfully controls the intensity of the fire on its tail to keep its foes at an ideal distance. It uses ceilings and walls to launch aerial attacks. Its fiery tail is but one weapon.\n",
      "It tosses its enemies around with agility. It uses all its limbs to fight in its own unique style. It uses unique fighting moves with fire on its hands and feet. It will take on any opponent. Its crown of fire is indicative of its fiery nature. It is beaten by none in terms of quickness. It tosses its enemies around with agility. It uses all its limbs to fight in its own unique style.\n",
      "It doesn’t like to be taken care of. It’s difficult to bond with since it won’t listen to its Trainer. A poor walker, it often falls down. However, its strong pride makes it puff up its chest without a care. It doesn’t like to be taken care of. It’s difficult to bond with since it won’t listen to its Trainer. Because it is very proud, it hates accepting food from people. Its thick down guards it from cold.\n",
      "It lives a solitary life. Its wings deliver wicked blows that can snap even the thickest of trees. Because every Prinplup considers itself to be the most important, they can never form a group. It lives alone, away from others. Apparently, every one of them believes it is the most important. It lives a solitary life. Its wings deliver wicked blows that can snap even the thickest of trees.\n",
      "It avoids unnecessary disputes, but it will decimate anything that threatens its pride. If anyone were to hurt its pride, it would slash them with wings that can cleave through an ice floe. It swims as fast as a jet boat. The edges of its wings are sharp and can slice apart drifting ice. The three horns that extend from its beak attest to its power. The leader has the biggest horns.\n",
      "They flock around mountains and fields, chasing after bug Pokémon. Their singing is noisy and annoying. Because they are weak individually, they form groups. However, they bicker if the group grows too big. They flock in great numbers. Though small, they flap their wings with great power. They flock around mountains and fields, chasing after bug Pokémon. Their singing is noisy and annoying.\n",
      "They maintain huge flocks, although fierce scuffles break out between various flocks. Recognizing their own weakness, they always live in a group. When alone, a Staravia cries noisily. They maintain huge flocks, although fierce scuffles break out between various flocks. It lives in forests and fields. Squabbles over territory occur when flocks collide.\n",
      "When STARAVIA evolve into STARAPTOR, they leave the flock to live alone. They have sturdy wings. It never stops attacking even if it is injured. It fusses over the shape of its comb. The muscles in its wings and legs are strong. It can easily fly while gripping a small Pokémon. When Staravia evolve into Staraptor, they leave the flock to live alone. They have sturdy wings.\n"
     ]
    },
    {
     "name": "stdout",
     "output_type": "stream",
     "text": [
      "It lives in groups by the water. It chews up boulders and trees around its nest with its incisors. A comparison revealed that Bidoof’s front teeth grow at the same rate as Rattata’s. With nerves of steel, nothing can perturb it. It is more agile and active than it appears. It constantly gnaws on logs and rocks to whittle down its front teeth. It nests alongside water.\n",
      "It busily makes its nest with stacks of branches and roots it has cut up with its sharp incisors. A river dammed by Bibarel will never overflow its banks, which is appreciated by people nearby. It busily makes its nest with stacks of branches and roots it has cut up with its sharp incisors. It makes its nest by damming streams with bark and mud. It is known as an industrious worker.\n",
      "When its antennae hit each other, it sounds like the music of a xylophone. Its legs are short. Whenever it stumbles, its stiff antennae clack with a xylophone-like sound. It chats with others using the sounds of its colliding antennae. These sounds are fall hallmarks. When its antennae hit each other, it sounds like the music of a xylophone.\n",
      "By allowing its cry to resonate in the hollow of its belly, it produces a captivating sound. There is a village that hosts a contest based on the amazingly variable cries of this Pokémon. It crosses its knifelike arms in front of its chest when it cries. It can compose melodies ad lib. It signals its emotions with its melodies. Scientists are studying these melodic patterns.\n",
      "The extension and contraction of its muscles generates electricity. It glows when in trouble. All of its fur dazzles if danger is sensed. It flees while the foe is momentarily blinded. This Pokémon generates electricity by contracting its muscles. Excited trembling is a sign that Shinx is generating a tremendous amount of electricity. Electricity makes this Pokémon’s fur glow. Shinx sends signals to others of its kind by shaking the tip of its tail while the tail tip is shining brightly.\n",
      "Its claws loose electricity with enough amperage to cause fainting. They live in small groups. Strong electricity courses through the tips of its sharp claws. A light scratch causes fainting in foes. By joining its tail with that of another Luxio, this Pokémon can receive some of the other Luxio’s electricity and power up its own electric blasts. Upon encountering an opponent, this Pokémon prepares for battle by extending its claws, which can put out 1,000,000 volts of electricity.\n",
      "Luxray’s ability to see through objects comes in handy when it’s scouting for danger. When its eyes gleam gold, it can spot hiding prey—even those taking shelter behind a wall. Luxray can see through solid objects. It will instantly spot prey trying to hide behind walls, even if the walls are thick. Seeing through solid objects uses up a lot of Luxray’s electricity, so the Pokémon sleeps for long periods of time to store up energy.\n",
      "When it feels the sun’s warm touch, it opens its bud to release pollen. It lives alongside clear pools. Over the winter, it closes its bud and endures the cold. In spring, the bud opens and releases pollen. The pollen it releases contains poison. If this Pokémon is raised on clean water, the poison’s toxicity is increased. This Pokémon is highly sensitive to temperature changes. When its bud starts to open, that means spring is right around the corner.\n",
      "Luring prey with a sweet scent, it uses poison whips on its arms to poison, bind, and finish off the prey. With the movements of a dancer, it strikes with whips that are densely lined with poison thorns. After captivating opponents with its sweet scent, it lashes them with its thorny whips. The poison in its right hand is quick acting. The poison in its left hand is slow acting. Both are life threatening.\n",
      "It lived in jungles around a hundred million years ago. It used its skillful headbutts to combat Aerodactyl. In rock layers where Cranidos fossils are found, the fossilized trunks of trees snapped in two are also often found. A primeval Pokémon, it possesses a hard and sturdy skull, lacking any intelligence within. Its hard skull is its distinguishing feature. It snapped trees by headbutting them, and then it fed on their ripe berries.\n",
      "The result of repeated headbutts is a skull grown thick and hard. However, its brain has shrunk in size compared with Cranidos’s. Records exist of a revived fossil that evolved into Rampardos. It proceeded to escape and then destroy a skyscraper with a headbutt. In ancient times, people would dig up fossils of this Pokémon and use its skull, which is harder than steel, to make helmets. This ancient Pokémon used headbutts skillfully. Its brain was really small, so some theories suggest that its stupidity led to its extinction.\n",
      "Many fossils of this Pokémon have been found, but almost none have shown signs of damage to the face. This Pokémon lived in primeval jungles. Few enemies would have been willing to square off against its heavily armored face, so it’s thought. A mild-mannered, herbivorous Pokémon, it used its face to dig up tree roots to eat. The skin on its face was plenty tough. Although its fossils can be found in layers of primeval rock, nothing but its face has ever been discovered.\n",
      "While it can guard against any sort of attack from the front, it is left without recourse when attacked from behind. It lived in the same environments as Rampardos. Their fossils have been found together— seemingly from after they’d fought to the finish. The bones of its face are huge and hard, so they were mistaken for its spine until after this Pokémon was successfully restored. This Pokémon is from roughly 100 million years ago. Its terrifyingly tough face is harder than steel.\n",
      "It covers itself with a cloak to shelter from the cold. When it’s hot, its cloak is thinner. Even if it is born where there are no cocooning materials, it somehow always ends up with a cloak. To shelter itself from cold, wintry winds, it covers itself with a cloak made of twigs and leaves. If its cloak is broken in battle, it quickly remakes the cloak with materials nearby.\n",
      "It is said that a WORMADAM that evolves on a cold day will have a thicker cloak. When evolving, its body takes in surrounding materials. As a result, there are many body variations. Its appearance changes depending on where it evolved. The materials on hand become a part of its body. When Burmy evolved, its cloak became a part of this Pokémon’s body. The cloak is never shed.\n",
      "It flutters around at night and steals honey from the COMBEE hive. While it loves floral honey, it won’t gather any itself. Instead, it plots to steal some from Combee. It loves the honey of flowers and steals honey collected by Combee. It flutters around at night and steals honey from the Combee hive.\n",
      "The trio is together from birth. It constantly gathers honey from flowers to please Vespiquen. It collects and delivers honey to its colony. At night, they cluster to form a beehive and sleep. The members of the trio spend all their time together. Each one has a slightly different taste in nectar. It ceaselessly gathers nectar from sunrise to sundown, all for the sake of Vespiquen and the swarm.\n",
      "It houses its colony in cells in its body and releases various pheromones to make those grubs do its bidding. Its abdomen is a honeycomb for grubs. It raises its grubs on honey collected by Combee. It skillfully commands its grubs in battles with its enemies. The grubs are willing to risk their lives to defend Vespiquen. Vespiquen that give off more pheromones have larger swarms of Combee attendants.\n",
      "It’s one of the kinds of Pokémon with electric cheek pouches. It shoots charges from its tail. A pair may be seen rubbing their cheek pouches together in an effort to share stored electricity. It makes fur balls that crackle with static electricity. It stores them with berries in tree holes. A pair may be seen rubbing their cheek pouches together in an effort to share stored electricity.\n",
      "It spins its two tails like a screw to propel itself through water. The tails also slice clinging seaweed. It inflates the flotation sac around its neck and pokes its head out of the water to see what is going on. It swims by rotating its two tails like a screw. When it dives, its flotation sac collapses. It inflates the flotation sac around its neck and pokes its head out of the water to see what is going on.\n"
     ]
    },
    {
     "name": "stdout",
     "output_type": "stream",
     "text": [
      "With its flotation sac inflated, it can carry people on its back. It deflates the sac before it dives. It is a common sight around fishing ports. It is known to rescue people and carry off prey. It floats using its well-developed flotation sac. It assists in the rescues of drowning people. Its flotation sac developed as a result of pursuing aquatic prey. It can double as a rubber raft.\n",
      "Sunlight colors it red. When the small ball is drained of nutrients, it shrivels to herald evolution. It evolves by sucking the energy out of the small ball where it had been storing nutrients. It nimbly dashes about to avoid getting pecked by bird Pokémon that would love to make off with its small, nutrient-rich storage ball. The deeper a Cherubi’s red, the more nutrients it has stockpiled in its body. And the sweeter and tastier its small ball!\n",
      "During times of strong sunlight, its bud blooms, its petals open fully, and it becomes very active. If it senses strong sunlight, it opens its folded petals to absorb the sun’s rays with its whole body. During times of strong sunlight, its bud blooms, its petals open fully, and it becomes very active. If it senses strong sunlight, it opens its folded petals to absorb the sun’s rays with its whole body.\n",
      "Its shape and coloration vary, depending on its habitat. Beware of pushing strongly on its squishy body, as it makes a mysterious purple fluid ooze out. Beware of pushing strongly on its squishy body, as it makes a mysterious purple fluid ooze out. Its shape and coloration vary, depending on its habitat.\n",
      "When its natural enemy attacks, it oozes purple fluid and escapes. Long ago, its entire back was shielded with a sturdy shell. There are traces of it left in its cells. When its natural enemy attacks, it oozes purple fluid and escapes. It apparently had a huge shell for protection in ancient times. It lives in shallow tidal pools.\n",
      "They work in large colonies and make rings by linking their tails, apparently in friendship. To eat, it deftly shucks nuts with its two tails. It rarely uses its arms now. In their search for comfortable trees, they get into territorial disputes with groups of Passimian. They win about half the time. It uses its tails for everything. If it wraps both of its tails around you and gives you a squeeze, that’s proof it really likes you.\n",
      "Its round body is stuffed with souls and expands each time it leads someone away. Wandering souls gathered together to form this Pokémon. When trying to make friends with children, Drifloon grabs them by the hand. Perhaps seeking company, it approaches children. However, it often quickly runs away again when the children play too roughly with it. The gathering of many souls gave rise to this Pokémon. During humid seasons, they seem to appear in abundance.\n",
      "There’s a rumor that if you catch a Drifblim floating on the wind at dusk, you’ll be carried away to the afterlife. The raw material for the gas inside its body is souls. When its body starts to deflate, it’s thought to carry away people and Pokémon. Some say this Pokémon is a collection of souls burdened with regrets, silently drifting through the dusk. It grabs people and Pokémon and carries them off somewhere. Where do they go? Nobody knows.\n",
      "Its arms and legs are weak, but when it rolls its ears up tight and then unleashes them with its full force, it can smash boulders to dust. The reason it keeps one ear rolled up is so it can launch a swift counterattack if it’s attacked by an enemy. If both of Buneary’s ears are rolled up, something is wrong with its body or mind. It’s a sure sign the Pokémon is in need of care. Buneary can attack by rolling up their ears and then striking with the force created by unrolling them. This attack becomes stronger with training.\n",
      "Lopunny regrows its coat twice a year. Mufflers and hats made from its fur are really warm. It’s notably wary and has a dislike of fighting, but at the same time, it can deliver powerful kicks with its lithe legs. Lopunny is constantly monitoring its surroundings. If danger approaches, this Pokémon responds with superdestructive kicks. Once hot seasons are over, Lopunny’s coat will be replaced with fur that holds a lot of insulating air in preparation for colder weather.\n",
      "It appears as if from nowhere—muttering incantations, placing curses, and giving people terrifying visions. Mismagius have been known to cast spells to make people fall in love, so some people search for this Pokémon as if their life depended on it. Feared for its wrath and the curses it spreads, this Pokémon will also, on a whim, cast spells that help people. Its muttered curses can cause awful headaches or terrifying visions that torment others.\n",
      "A single cry from this nocturnal Pokémon, and more than a hundred of its Murkrow cronies will assemble. If its Murkrow cronies fail to catch food for it, or if it feels they have betrayed it, it will hunt them down wherever they are and punish them. It will absolutely not forgive failure from or betrayal by its goons. It has no choice in this if it wants to maintain the order of the flock. Its goons take care of most of the fighting for it. The only time it dirties its own hands is in delivering a final blow to finish off an opponent.\n",
      "When it’s happy, GLAMEOW demonstrates beautiful movements of its tail, like a dancing ribbon. It hides its spiteful tendency of hooking its claws into the nose of its Trainer if it isn’t fed. It claws if displeased and purrs when affectionate. Its fickleness is very popular among some. When it’s happy, Glameow demonstrates beautiful movements of its tail, like a dancing ribbon.\n",
      "It would claim another Pokémon’s nest as its own if it finds a nest sufficiently comfortable. It binds its body with its tails to make itself look bigger. If it locks eyes, it will glare ceaselessly. It would claim another Pokémon’s nest as its own if it finds a nest sufficiently comfortable. To make itself appear intimidatingly beefy, it tightly cinches its waist with its twin tails.\n",
      "It emits high-frequency cries that people can’t hear. Once it starts, it can cry for an awfully long time.  There is an orb inside its mouth. When it hops, the orb bounces all over and makes a ringing sound. Each time it hops, it makes a ringing sound. It deafens foes by emitting high-frequency cries. There is an orb inside its mouth. When it hops, the orb bounces all over and makes a ringing sound.\n",
      "It sprays a foul fluid from its rear. Its stench spreads over a mile radius, driving Pokémon away. It protects itself by spraying a noxious fluid from its rear. The stench lingers for 24 hours. From its rear, it sprays a foul-smelling liquid at opponents. It aims for their faces, and it can hit them from over 16 feet away. If it lifts its tail and points its rear at you, beware. It’s about to spray you with a fluid stinky enough to make you faint.\n",
      "It sprays a vile-smelling fluid from the tip of its tail to attack. Its range is over 160 feet. It sprays a stinky fluid from its tail. The fluid smells worse the longer it is allowed to fester. In its belly, it reserves stinky fluid that it shoots from its tail during battle. As this Pokémon’s diet varies, so does the stench of its fluid. It digs holes in the ground to make its nest. The stench of the fluid it lets fly from the tip of its tail is extremely potent.\n",
      "Ancient people believed that the pattern on Bronzor’s back contained a mysterious power. Implements shaped like it were discovered in ancient tombs. It is unknown if they are related. It appears in ancient ruins. The pattern on its body doesn’t come from any culture in the Galar region, so it remains shrouded in mystery. Polishing Bronzor to a shine makes its surface reflect the truth, according to common lore. Be that as it may, Bronzor hates being polished.\n",
      "In ages past, this Pokémon was revered as a bringer of rain. It was found buried in the ground. Ancient people believed that petitioning Bronzong for rain was the way to make crops grow. Some believe it to be a deity that summons rain clouds. When angered, it lets out a warning cry that rings out like the tolling of a bell. Many scientists suspect that this Pokémon originated outside the Galar region, based on the patterns on its body.\n"
     ]
    },
    {
     "name": "stdout",
     "output_type": "stream",
     "text": [
      "It discharges moisture from its eyes, making it look like it’s crying—apparently an effective way of getting enemies to let down their guard. If its body gets too damp, it will die. So, in a process reminiscent of sweating, its eyes expel moisture. It expels both sweat and tears from its eyes. The sweat is a little salty, while the tears have a slight bitterness. This Pokémon lives in dry, rocky areas. As its green spheres dry out, their dull luster increases.\n",
      "Usually it’s a well-behaved Pokémon, but if you take its round rock away, it will cry and fuss and throw a big old tantrum. When it sees something round and white, Happiny puts it into the pouch on its stomach. It sometimes becomes overloaded and can’t move. Mimicking Chansey, Happiny will place an egg- shaped stone in its belly pouch. Happiny will treasure this stone. Happiny’s willing to lend its precious round stone to those it’s friendly with, but if the stone isn’t returned, Happiny will cry and throw a tantrum.\n",
      "It mimics the cries of other Pokémon to trick them into thinking it’s one of them. This way they won’t attack it. Its tongue is just like a human’s. As a result, it can cleverly mimic human speech. It mimics the cries of other Pokémon to trick them into thinking it’s one of them. This way they won’t attack it. It can learn and speak human words. If they gather, they all learn the same saying.\n",
      "A Pokémon that was formed by 108 spirits. It is bound to a fissure in an odd keystone. It was bound to a fissure in an odd keystone as punishment for misdeeds 500 years ago. Exactly 108 spirits gathered to become this Pokémon. Apparently there are some ill-natured spirits in the mix. All Spiritomb’s mischief and misdeeds compelled a traveler to use a mysterious spell to bind Spiritomb to an odd keystone.\n",
      "It reacts to anything that moves—flies right at it and bites it. Sometimes it injures itself, but it doesn’t care too much. Its original home is an area much hotter than Alola. If you’re planning to live with one, your heating bill will soar. Gible prefers to stay in narrow holes in the sides of caves heated by geothermal energy. This way, Gible can stay warm even during a blizzard. Gible attacks anything that moves, and it drags whatever it catches into the crevice that is its lair. Despite the big mouth, Gible’s stomach is small.\n",
      "It loves shiny things. When it finds a Sableye trying to catch a Carbink, Gabite becomes furiously angry and attacks the Sableye. It sheds its skin and gradually grows larger. Its scales can be ground into a powder and used as raw materials for traditional medicine. This Pokémon emits ultrasonic waves from a protrusion on either side of its head to probe pitch-dark caves. Jewels are buried in the caves these Pokémon nest in, but you’ll be torn apart by claws and fangs the moment you enter one of these caves.\n",
      "It flies at the speed of sound while searching for prey, and it has midair battles with Salamence as the two compete for food. Its fine scales don’t just reduce wind resistance—their sharp edges also cause injury to any opponent who attacks it. Garchomp makes its home in volcanic mountains. It flies through the sky as fast as a jet airplane, hunting down as much prey as it can. Garchomp is fast both underground and above. It can bring down prey and return to its den before its body has chilled from being outside.\n",
      "It hides food under its long fur, but it sometimes forgets about it and causes a stinky disturbance. Anything that looks edible, Munchlax will go on and swallow whole. Its stomach is tough enough to handle it even if the food has gone rotten. Stuffing itself with vast amounts of food is its only concern. Whether the food is rotten or fresh, yummy or tasteless—it does not care. It stores food beneath its fur. It might share just one bite, but only if it really trusts you.\n",
      "It knows how people and Pokémon feel by looking at their auras. It doesn’t approach dangerous opponents. It uses waves called auras to communicate with others of its kind. It doesn’t make any noise during this time, so its enemies can’t detect it. It’s exceedingly energetic, with enough stamina to keep running all through the night. Taking it for walks can be a challenging experience. It can use waves called auras to gauge how others are feeling. These same waves can also tell this Pokémon about the state of the environment.\n",
      "It concentrates its mental energy and fires off mysterious waves called auras, which can crush boulders of large size to dust. Lucario reads its opponent’s feelings with its aura waves. It finds out things it would rather not know, so it gets stressed out easily. It controls waves known as auras, which are powerful enough to pulverize huge rocks. It uses these waves to take down its prey. It can tell what people are thinking. Only Trainers who have justice in their hearts can earn this Pokémon’s trust.\n",
      "It lives in arid places. Instead of perspiration, it expels grainy sand from its body. It enshrouds itself with sand to protect itself from germs. It does not enjoy getting wet. It moves through the sands with its mouth open, swallowing sand along with its prey. It gets rid of the sand by spouting it from its nose. This Pokémon is active during the day and passes the cold desert nights burrowed snugly into the sand.\n",
      "It brandishes its gaping mouth in a display of fearsome strength. It raises vast quantities of sand while attacking. It blasts internally stored sand from ports on its body to create a towering twister for attack. Stones can get stuck in the ports on their bodies. Dwebble help dislodge such stones, so Hippowdon look after these Pokémon. When roused to violence by its rage, it spews out the quantities of sand it has swallowed and whips up a sandstorm.\n",
      "It grips prey with its tail claws and injects poison. It tenaciously hangs on until the poison takes. It burrows under the sand to lie in wait for prey. Its tail claws can inject its prey with a savage poison. After burrowing into the sand, it waits patiently for prey to come near. This Pokémon and Sizzlipede share common descent. It attacks using the claws on its tail. Once locked in its grip, its prey is unable to move as this Pokémon’s poison seeps in.\n",
      "It takes pride in its strength. Even though it can tear foes apart, it finishes them off with powerful poison. It has the power in its clawed arms to make scrap of a car. The tips of its claws release poison. Its poison is potent, but it rarely sees use. This Pokémon prefers to use physical force instead, going on rampages with its car-crushing strength. It’s so vicious that it’s called the Sand Demon. Yet when confronted by Hippowdon, Drapion keeps a low profile and will never pick a fight.\n",
      "Its cheeks hold poison sacs. It tries to catch foes off guard to jab them with toxic fingers. Inflating its poison sacs, it fills the area with an odd sound and hits flinching opponents with a poison jab. It makes frightening noises with its poison-filled cheek sacs. When opponents flinch, Croagunk hits them with a poison jab. Once diluted, its poison becomes medicinal. This Pokémon came into popularity after a pharmaceutical company chose it as a mascot.\n",
      "It has a poison sac at its throat. When it croaks, the stored poison is churned for greater potency. Its knuckle claws secrete a toxin so vile that even a scratch could prove fatal. It bounces toward opponents and gouges them with poisonous claws. No more than a scratch is needed to knock out its adversaries. It booms out a victory croak when its prey goes down in defeat. This Pokémon and Seismitoad are related species.\n",
      "It binds itself to trees in marshes. It attracts prey with its sweet-smelling drool and gulps them down. Using its tentacles to lash itself to trees, it lies in wait for prey, luring it close with sweet-smelling drool. It attracts prey with its sweet-smelling saliva, then chomps down. It takes a whole day to eat prey. It binds itself to trees in marshes. It attracts prey with its sweet-smelling drool and gulps them down.\n",
      "It absorbs sunlight with the pink areas of its skin, which then shine. This appears to be a form of camouflage. Its double tail fins propel its energetic jumps. When it breaks the surface of the sea, Wingull swoop down to grab it on the fly. When night falls, their pink patterns begin to shine. They’re popular with divers, so there are resorts that feed them to keep them close. It lures in prey with its shining tail fins. It stays near the surface during the day and moves to the depths when night falls.\n"
     ]
    },
    {
     "name": "stdout",
     "output_type": "stream",
     "text": [
      "With its shining light, it lures its prey close. However, the light also happens to attract ferocious fish Pokémon—its natural predators. This deep-sea Pokémon lives at the bottom of the sea. Its fins haul it over the seabed in search of its favorite food—Starmie. Deep down at the bottom of the ocean, prey is scarce. Lumineon get into fierce disputes with Lanturn over food. They traverse the deep waters as if crawling over the seafloor. The fantastic lights of its fins shine like stars in the night sky.\n",
      "It’s highly friendly and easily tamed. Tours that take people swimming with Mantyke are a super-popular beach activity. Mantyke are friendly toward people and will approach boats closely. The patterns on their backs differ depending on their habitat. Mantyke living in Galar seem to be somewhat sluggish. The colder waters of the seas in this region may be the cause. It swims along with a school of Remoraid, and they’ll all fight together to repel attackers.\n",
      "During cold seasons, it migrates to the mountain’s lower reaches. It returns to the snow-covered summit in the spring. In the spring, it grows berries with the texture of frozen treats around its belly. It lives on snowy mountains. It sinks its legs into the snow to absorb water and keep its own temperature down. The berries that grow around its belly are like ice pops. Galarian Darumaka absolutely love these berries.\n",
      "It blankets wide areas in snow by whipping up blizzards. It is also known as “The Ice Monster.” It lives a quiet life on mountains that are perpetually covered in snow. It hides itself by whipping up blizzards. If it sees any packs of Darumaka going after Snover, it chases them off, swinging its sizable arms like hammers. This Pokémon is known to bring blizzards. A shake of its massive body is enough to cause whiteout conditions.\n",
      "One Weavile will trip a Sandshrew and flip it over, and then another Weavile will deal the finishing blow with its sharp claws. Thanks to its increased intelligence, scrapping over food is a thing of the past. A scratch from its claws will give you a case of frostbite! They attack their quarry in packs. Prey as large as Mamoswine easily fall to the teamwork of a group of Weavile. With its claws, it leaves behind signs for its friends to find. The number of distinct signs is said to be over 500.\n",
      "It uses radar to monitor its territory. Intruders are quickly disposed of with a hyper beam. There are still people who believe that this Pokémon came from outer space. It emanates a powerful magnetic field. Some say that Magnezone receives signals from space via the antenna on its head and that it’s being controlled by some mysterious being. It’s thought that a special magnetic field changed the molecular structure of this Pokémon’s body, and that’s what caused the Pokémon’s evolution.\n",
      "A contest is under way to determine which one can stick its tongue out the farthest. The current record is...more than 82 feet. It uses its tongue much more skillfully than its hands or its feet. It can deftly pick up a single small bean with its tongue. Lickilicky’s strange tongue can stretch to many times the length of its body. No one has figured out how Lickilicky’s tongue can stretch so far. Lickilicky can do just about anything with its tongue, which is as dexterous as the human hand. In contrast, Lickilicky’s use of its fingers is clumsy.\n",
      "From holes in its palms, it fires out Geodude. Its carapace can withstand volcanic eruptions. It puts rocks in holes in its palms and uses its muscles to shoot them. Geodude are shot at rare times. It can load up to three projectiles per arm into the holes in its hands. What launches out of those holes could be either rocks or Roggenrola. It relies on its carapace to deflect incoming attacks and throw its enemy off balance. As soon as that happens, it drives its drill into the foe.\n",
      "It ensnares prey by extending arms made of vines. Losing arms to predators does not trouble it. Its vines grow so profusely that, in the warm season, you can’t even see its eyes. Tangrowth has two arms that it can extend as it pleases. Recent research has shown that these arms are, in fact, bundles of vines. Vine growth is accelerated for Tangrowth living in warm climates. If the vines grow long, Tangrowth shortens them by tearing parts of them off.\n",
      "It grips its tail, which spews electricity, and then beats down opponents with the power of its electrified fist. A single Electivire can provide enough electricity for all the buildings in a big city for a year. The amount of electrical energy this Pokémon produces is proportional to the rate of its pulse. The voltage jumps while Electivire is battling. In terms of electrical-energy output, Electivire is one of the best among all Electric Pokémon. It discharges high-voltage currents from its tails.\n",
      "There are still quite a few factories that rely on the flames provided by Magmortar to process metals. Magmortar takes down its enemies by shooting fireballs, which burn them to a blackened crisp. It avoids this method when hunting prey. When Magmortar inhales deeply, the fire burning in its belly intensifies, rising in temperature to over 3,600 degrees Fahrenheit. Living in the crater of a volcano has caused this Pokémon’s body to resemble its environment—it has an organ similar to a magma chamber.\n",
      "As everyone knows, it visits peaceful regions, bringing them gifts of kindness and sweet blessings. It shares many blessings with people who respect one another’s rights and avoid needless strife. These Pokémon are never seen anywhere near conflict or turmoil. In recent times, they’ve hardly been seen at all. Known as a bringer of blessings, it’s been depicted on good-luck charms since ancient times.\n",
      "Its jaw power is incredible. It is adept at biting apart foes while flying by at high speed. It prefers to battle by biting apart foes’ heads instantly while flying by at high speed. It prefers to battle by biting apart foes’ heads instantly while flying by at high speed. This six-legged Pokémon is easily capable of transporting an adult in flight. The wings on its tail help it stay balanced.\n",
      "Although it doesn’t like disputes, it will sharpen the leaf on its tail into a blade and fight if it has to protect its friends. It gets its nutrition from photosynthesis. It lives a quiet life deep in forests where clean rivers flow. Galarians favor the distinctive aroma that drifts from this Pokémon’s leaves. There’s a popular perfume made using that scent. This Pokémon’s tail is blade sharp, with a fantastic cutting edge that can slice right though large trees.\n",
      "It protects itself by freezing its fur into sharp needles. It can drop its body temperature below –75 degrees Fahrenheit. It can instantaneously freeze any moisture that’s around it, creating ice pellets to shoot at its prey. Any who become captivated by the beauty of the snowfall that Glaceon creates will be frozen before they know it. The coldness emanating from Glaceon causes powdery snow to form, making it quite a popular Pokémon at ski resorts.\n",
      "If it succeeds in catching even a faint breeze properly, it can circle the globe without flapping once. It dances silently through the sky. When it approaches prey, it can land a critical hit in an instant. It observes prey while hanging inverted from branches. When the chance presents itself, it swoops! Its flight is soundless. It uses its lengthy tail to carry off its prey... Then its elongated fangs do the rest.\n",
      "A frozen Mamoswine was dug from ice dating back 10,000 years. This Pokémon has been around a long, long, long time. Its impressive tusks are made of ice. The population thinned when it turned warm after the ice age. This Pokémon can be spotted in wall paintings from as far back as 10,000 years ago. For a while, it was thought to have gone extinct. It looks strong, and that’s exactly what it is. As the weather grows colder, its ice tusks grow longer, thicker, and more impressive.\n",
      "Its behavior is noticeably unstable, which is apparently due to the incompetence of the engineer who updated its programming. A faulty update was added to its programming. Its behavior is noticeably strange, so the experiment may have been a failure. Porygon-Z had a program installed to allow it to move between dimensions, but the program also caused instability in Porygon-Z’s behavior. Some say an additional program made this Pokémon evolve, but even academics can’t agree on whether Porygon-Z is really an evolution.\n"
     ]
    },
    {
     "name": "stdout",
     "output_type": "stream",
     "text": [
      "Because it can sense what its foe is thinking, its attacks burst out first, fast, and fierce. A master of courtesy and swordsmanship, it fights using extending swords on its elbows. True to its honorable-warrior image, it uses the blades on its elbows only in defense of something or someone. Sharply attuned to others’ wishes for help, this Pokémon seeks out those in need and aids them in battle.\n",
      "It radiates such a powerful magnetic field that nearby electrical appliances become unusable. The main body controls three mobile units called Mini-Noses, which it maneuvers to catch prey. Although it can control its units known as Mini-Noses, they sometimes get lost and don’t come back. It uses three small units to catch prey and battle enemies. The main body mostly just gives orders.\n",
      "It is said to take lost spirits into its pliant body and guide them home. The antenna on its head captures radio waves from the world of spirits that command it to take people there. At the bidding of transmissions from the spirit world, it steals people and Pokémon away. No one knows whether it has a will of its own. With the mouth on its belly, Dusknoir swallows its target whole. The soul is the only thing eaten— Dusknoir disgorges the body before departing.\n",
      "It freezes hikers who have come to climb snowy mountains and carries them back to its home. It only goes after men it thinks are handsome. It’s said that on nights of terrible blizzards, it comes down to human settlements. If you hear it knocking at your door, do not open it! After a woman met her end on a snowy mountain, her regrets lingered on. From them, this Pokémon was born. Its favorite food is frozen souls. It spits out cold air of nearly −60 degrees Fahrenheit to freeze its quarry. It brings frozen prey back to its lair and neatly lines them up.\n",
      "Research continues on this Pokémon, which could be the power source of a unique motor. Its body is composed of plasma. It is known to infiltrate electronic devices and wreak havoc. One boy’s invention led to the development of many different machines that take advantage of Rotom’s unique capabilities. With a body made of plasma, it can inhabit all sorts of machines. It loves to surprise others.\n",
      "According to some sources, this Pokémon provided people with the intelligence necessary to solve various problems. When Uxie flew, people gained the ability to solve problems. It was the birth of knowledge. Known as “The Being of Knowledge.” It is said that it can wipe out the memory of those who see its eyes. It is said that its emergence gave humans the intelligence to improve their quality of life.\n",
      "This Pokémon is said to have endowed the human heart with emotions, such as sorrow and joy. When Mesprit flew, people learned the joy and sadness of living. It was the birth of emotions. Known as “The Being of Emotion.” It taught humans the nobility of sorrow, pain, and joy. It sleeps at the bottom of a lake. Its spirit is said to leave its body to fly on the lake’s surface.\n",
      "This Pokémon is said to have endowed humans with the determination needed to face any of life’s difficulties. When Azelf flew, people gained the determination to do things. It was the birth of willpower. Known as “The Being of Willpower.” It sleeps at the bottom of a lake to keep the world in balance. It is thought that Uxie, Mesprit, and Azelf all came from the same egg.\n",
      "This Pokémon completely controls the flow of time. It uses its power to travel at will through the past and future. A legendary Pokémon of Sinnoh. It is said that time flows when Dialga’s heart beats. A Pokémon spoken of in legend. It is said that time began moving when Dialga was born. It has the power to control time. It appears in Sinnoh-region myths as an ancient deity.\n",
      "Its total control over the boundaries of space enable it to transport itself to faraway places or even other dimensions. A legendary Pokémon of Sinnoh. It is said that space becomes more stable with Palkia’s every breath. It is said to live in a gap in the spatial dimension parallel to ours. It appears in mythology. It has the ability to distort space. It is described as a deity in Sinnoh-region mythology.\n",
      "Boiling blood, like magma, circulates through its body. It makes its dwelling place in volcanic caves. Its body is made of rugged steel. However, it is partially melted in spots because of its own heat. It dwells in volcanic caves. It digs in with its cross-shaped feet to crawl on ceilings and walls. Boiling blood, like magma, circulates through its body. It makes its dwelling place in volcanic caves.\n",
      "It is said to have made Pokémon that look like itself from a special ice mountain, rocks, and magma. There is an enduring legend that states this Pokémon towed continents with ropes. All over the world, there are legends that tell of Regigigas creating other Pokémon in its own image. It’s said that Regigigas created other Pokémon from many different materials before it moved the continents to where they are today.\n",
      "This Pokémon is said to live in a world on the reverse side of ours, where common knowledge is distorted and strange. It was banished for its violence. It silently gazed upon the old world from the Distortion World. This Pokémon is said to live in a world on the reverse side of ours, where common knowledge is distorted and strange. It was banished for its violence. It silently gazed upon the old world from the Distortion World.\n",
      "Those who sleep holding CRESSELIA’s feather are assured of joyful dreams. It is said to represent the crescent moon. On nights around the quarter moon, the aurora from its tail extends and undulates beautifully. Shiny particles are released from its wings like a veil. It is said to represent the crescent moon. Those who sleep holding Cresselia’s feather are assured of joyful dreams. It is said to represent the crescent moon.\n",
      "When the water warms, they inflate the flotation sac on their heads and drift languidly on the sea in packs. It drifts in warm seas. It always returns to where it was born, no matter how far it may have drifted. When the water warms, they inflate the flotation sac on their heads and drift languidly on the sea in packs. It drifts in warm seas. It always returns to where it was born, no matter how far it may have drifted.\n",
      "It starts its life with a wondrous power that permits it to bond with any kind of Pokémon. It is born with a wondrous power that lets it bond with any kind of Pokémon. It is born with a wondrous power that lets it bond with any kind of Pokémon. It starts its life with a wondrous power that permits it to bond with any kind of Pokémon.\n",
      "It chases people and Pokémon from its territory by causing them to experience deep, nightmarish slumbers. To protect itself, it afflicts those around it with nightmares. However, it means no harm. It chases people and Pokémon from its territory by causing them to experience deep, nightmarish slumbers. It can lull people to sleep and make them dream. It is active during nights of the new moon.\n",
      "The blooming of Gracidea flowers confers the power of flight upon it. Feelings of gratitude are the message it delivers. The flowers all over its body burst into bloom if it is lovingly hugged and senses gratitude. It can dissolve toxins in the air to instantly transform ruined land into a lush field of flowers. The blooming of Gracidea flowers confers the power of flight upon it. Feelings of gratitude are the message it delivers.\n",
      "It is said to have emerged from an egg in a place where there was nothing, then shaped the world. It is said to have emerged from an egg in a place where there was nothing then shaped the world. According to the legends of Sinnoh, this Pokémon emerged from an egg and shaped all there is in this world. It is told in mythology that this Pokémon was born before the universe even existed.\n",
      "It creates an unlimited supply of energy inside its body, which it shares with those who touch it. When it shares the infinite energy it creates, that being’s entire body will be overflowing with power. This Pokémon brings victory. It is said that Trainers with Victini always win, regardless of the type of encounter. When it shares the infinite energy it creates, that being’s entire body will be overflowing with power.\n"
     ]
    },
    {
     "name": "stdout",
     "output_type": "stream",
     "text": [
      "They photosynthesize by bathing their tails in sunlight. When they are not feeling well, their tails droop. Being exposed to sunlight makes its movements swifter. It uses vines more adeptly than its hands. Being exposed to sunlight makes its movements swifter. It uses vines more adeptly than its hands. They photosynthesize by bathing their tails in sunlight. When they are not feeling well, their tails droop.\n",
      "They avoid attacks by sinking into the shadows of thick foliage. They retaliate with masterful whipping techniques. When it gets dirty, its leaves can’t be used in photosynthesis, so it always keeps itself clean. It moves along the ground as if sliding. Its swift movements befuddle its foes, and it then attacks with a vine whip. When it gets dirty, its leaves can’t be used in photosynthesis, so it always keeps itself clean.\n",
      "They raise their heads to intimidate opponents but only give it their all when fighting a powerful opponent. It only gives its all against strong opponents who are not fazed by the glare from Serperior’s noble eyes. It only gives its all against strong opponents who are not fazed by the glare from Serperior’s noble eyes. It can stop its opponents’ movements with just a glare. It takes in solar energy and boosts it internally.\n",
      "It blows fire through its nose. When it catches a cold, the fire becomes pitch-black smoke instead. It loves to eat roasted berries, but sometimes it gets too excited and burns them to a crisp. It can deftly dodge its foe’s attacks while shooting fireballs from its nose. It roasts berries before it eats them. It loves to eat roasted berries, but sometimes it gets too excited and burns them to a crisp.\n",
      "Whatever it eats becomes fuel for the flame in its stomach. When it is angered, the intensity of the flame increases. The more it eats, the more fuel it has to make the fire in its stomach stronger. This fills it with even more power. The more it eats, the more fuel it has to make the fire in its stomach stronger. This fills it with even more power. When its internal fire flares up, its movements grow sharper and faster. When in trouble, it emits smoke.\n",
      "It has mastered fast and powerful fighting moves. It grows a beard of fire. A flaring beard of fire is proof that it is fired up. It is adept at using many different moves. It can throw a fire punch by setting its fists on fire with its fiery chin. It cares deeply about its friends. It has mastered fast and powerful fighting moves. It grows a beard of fire.\n",
      "The scalchop on its stomach isn’t just used for battle--it can be used to break open hard berries as well. The scalchop on its stomach isn’t just used for battle--it can be used to break open hard berries as well. It fights using the scalchop on its stomach. In response to an attack, it retaliates immediately by slashing. The scalchop on its stomach isn’t just used for battle—it can be used to break open hard berries as well.\n",
      "Scalchop techniques differ from one Dewott to another. It never neglects maintaining its scalchops. As a result of strict training, each Dewott learns different forms for using the scalchops. Strict training is how it learns its flowing double-scalchop technique. As a result of strict training, each Dewott learns different forms for using the scalchops.\n",
      "Part of the armor on its anterior legs becomes a giant sword. Its cry alone is enough to intimidate most enemies. In the time it takes a foe to blink, it can draw and sheathe the seamitars attached to its front legs. In the time it takes a foe to blink, it can draw and sheathe the seamitars attached to its front legs. One swing of the sword incorporated in its armor can fell an opponent. A simple glare from one of them quiets everybody.\n",
      "Extremely cautious, they take shifts to maintain a constant watch of their nest. They feel insecure without a lookout. Extremely cautious, one of them will always be on the lookout, but it won’t notice a foe coming from behind. Using food stored in cheek pouches, they can keep watch for days. They use their tails to communicate with others. Extremely cautious, one of them will always be on the lookout, but it won’t notice a foe coming from behind.\n",
      "They make the patterns on their bodies shine in order to threaten predators. Keen eyesight lets them see in the dark. Using luminescent matter, it makes its eyes and body glow and stuns attacking opponents. Using luminescent matter, it makes its eyes and body glow and stuns attacking opponents. When they see an enemy, their tails stand high, and they spit the seeds of berries stored in their cheek pouches.\n",
      "This Pokémon has excellent judgment. If it decides it can’t defeat an opponent, it immediately turns tail and vamooses. This Pokémon is popular with beginners because it’s intelligent, obedient to its Trainer’s commands, and easy to raise. This Pokémon is courageous but also cautious. It uses the soft fur covering its face to collect information about its surroundings. This Pokémon is far brighter than the average child, and Lillipup won’t forget the love it receives or any abuse it suffers.\n",
      "The longer its black fur grows, the harder and more impervious it gets. Claws and fangs can’t easily penetrate it. It has been living with people for so long that portrayals of it can be found on the walls of caves from long, long ago. Herdier is a very smart and friendly Pokémon. So much so that there’s a theory that Herdier was the first Pokémon to partner with people. The black fur that covers this Pokémon’s body is dense and springy. Even sharp fangs bounce right off.\n",
      "It pays no mind to the cold, thanks to its long warm coat. Stoutland in Alola look a little uncomfortable. Its fur is long and thick. A long time ago in cold regions, every household kept a Stoutland. These Pokémon seem to enjoy living with humans. Even a Stoutland caught in the wild will warm up to people in about three days. Stoutland is immensely proud of its impressive moustache. It’s said that moustache length is what determines social standing among this species.\n",
      "Its cute act is a ruse. When victims let down their guard, they find their items taken. It attacks with sharp claws. They steal from people for fun, but their victims can’t help but forgive them. Their deceptively cute act is perfect. It steals things from people just to amuse itself with their frustration. A rivalry exists between this Pokémon and Nickit. Opponents that get drawn in by its adorable behavior come away with stinging scratches from its claws and stinging pride from its laughter.\n",
      "Their beautiful form comes from the muscles they have developed. They run silently in the night. Stealthily, it sneaks up on its target, striking from behind before its victim has a chance to react. Don’t be fooled by its gorgeous fur and elegant figure. This is a moody and vicious Pokémon. This stealthy Pokémon sneaks up behind prey without making any sound at all. It competes with Thievul for territory.\n",
      "It shares the leaf on its head with weary-looking Pokémon. These leaves are known to relieve stress. It’s good at finding berries and gathers them from all over. It’s kind enough to share them with friends. It shares the leaf on its head with weary-looking Pokémon. These leaves are known to relieve stress. It’s good at finding berries and gathers them from all over. It’s kind enough to share them with friends.\n",
      "It attacks enemies with strikes of its thorn-covered tail. This Pokémon is wild tempered. It strikes its enemies with a thorn-covered tail. The leaf on its head is bitter. It attacks enemies with strikes of its thorn-covered tail. This Pokémon is wild tempered. Ill tempered, it fights by swinging its barbed tail around wildly. The leaf growing on its head is very bitter.\n",
      "This Pokémon lives in caves in volcanoes. The fire within the tuft on its head can reach 600° F. Very intelligent, it roasts berries before eating them. It likes to help people. Very intelligent, it roasts berries before eating them. It likes to help people. This Pokémon lives in caves in volcanoes. The fire within the tuft on its head can reach 600 degrees Fahrenheit.\n",
      "A flame burns inside its body. It scatters embers from its head and tail to sear its opponents. When it gets excited, embers rise from its head and tail and it gets hot. For some reason, it loves sweets. A flame burns inside its body. It scatters embers from its head and tail to sear its opponents. When it gets excited, embers rise from its head and tail and it gets hot. For some reason, it loves sweets.\n"
     ]
    },
    {
     "name": "stdout",
     "output_type": "stream",
     "text": [
      "It does not thrive in dry environments. It keeps itself damp by shooting water stored in its head tuft from its tail. The water stored inside the tuft on its head is full of nutrients. It waters plants with it using its tail. The water stored inside the tuft on its head is full of nutrients. It waters plants with it using its tail. The water stored inside the tuft on its head is full of nutrients. Plants that receive its water grow large.\n",
      "The high-pressure water expelled from its tail is so powerful, it can destroy a concrete wall. It prefers places with clean water. When its tuft runs low, it replenishes it by siphoning up water with its tail. The high-pressure water expelled from its tail is so powerful, it can destroy a concrete wall. It prefers places with clean water. When its tuft runs low, it replenishes it by siphoning up water with its tail.\n",
      "This Pokémon appears before people and Pokémon who are having nightmares and eats those dreams. It eats the dreams of people and Pokémon. When it eats a pleasant dream, it expels pink-colored mist. Late at night, it appears beside people’s pillows. As it feeds on dreams, the patterns on its body give off a faint glow. It eats dreams and releases mist. The mist is pink when it’s eating a good dream, and black when it’s eating a nightmare.\n",
      "The mist emanating from their foreheads is packed with the dreams of people and Pokémon. The dream mist coming from its forehead changes into many different colors depending on the dream that was eaten. When dark mists emanate from its body, don’t get too near. If you do, your nightmares will become reality. It drowses and dreams all the time. It’s best to leave it be if it’s just woken up, as it’s a terrible grump when freshly roused from sleep.\n",
      "This very forgetful Pokémon will wait for a new order from its Trainer even though it already has one. These Pokémon live in cities. They are accustomed to people. Flocks often gather in parks and plazas. Where people go, these Pokémon follow. If you’re scattering food for them, be careful— several hundred of them can gather at once. It’s forgetful and not very bright, but many Trainers love it anyway for its friendliness and sincerity.\n",
      "Many people believe that, deep in the forest where Tranquill live, there is a peaceful place where there is no war. No matter where in the world it goes, it knows where its nest is, so it never gets separated from its Trainer. It can fly moderately quickly. No matter how far it travels, it can always find its way back to its master and its nest. These bright Pokémon have acute memories. Apparently delivery workers often choose them as their partners.\n",
      "Males have plumage on their heads. They will never let themselves feel close to anyone other than their Trainers. Males swing the plumage on their heads to threaten others, but females are better at flying. Males swing their head plumage to threaten opponents. The females’ flying abilities surpass those of the males. Males have plumage on their heads. They will never let themselves feel close to anyone other than their Trainers.\n",
      "When thunderclouds cover the sky, it will appear. It can catch lightning with its mane and store the electricity. Its mane shines when it discharges electricity. They use the frequency and rhythm of these flashes to communicate. When thunderclouds cover the sky, it will appear. It can catch lightning with its mane and store the electricity. Its mane shines when it discharges electricity. They use the frequency and rhythm of these flashes to communicate.\n",
      "This ill-tempered Pokémon is dangerous because when it’s angry, it shoots lightning from its mane in all directions. When this ill-tempered Pokémon runs wild, it shoots lightning from its mane in all directions. When this ill-tempered Pokémon runs wild, it shoots lightning from its mane in all directions. They have lightning-like movements. When Zebstrika run at full speed, the sound of thunder reverberates.\n",
      "The hexagonal hole is its ear. Deep in that ear is an energy core, so if you stick your hand in there, Roggenrola will be very angry! It was found in a fissure in a layer of exposed rock. The material that makes up its body is dirt from several hundred years ago. It’s as hard as steel, but apparently a long soak in water will cause it to soften a bit. When it detects a noise, it starts to move. The energy core inside it makes this Pokémon slightly warm to the touch.\n",
      "The energy overflowing from its body has turned into orange crystals that are hard enough to smash diamonds. Its orange crystals are lumps of powerful energy. They’re valuable, so Boldore is sometimes targeted for them. If you see its orange crystals start to glow, be wary. It’s about to fire off bursts of energy. It relies on sound in order to monitor what’s in its vicinity. When angered, it will attack without ever changing the direction it’s facing.\n",
      "When it fires off energy with all its might, the power creates countless fissures on its body. It absorbs rays of sunlight and shoots out energy. It’s usually lurking deep beneath the surface. This hardy Pokémon can often be found on construction sites and in mines, working alongside people and Copperajah. Although its energy blasts can blow away a dump truck, they have a limitation— they can only be fired when the sun is out.\n",
      "Its habitat is dark forests and caves. It emits ultrasonic waves from its nose to learn about its surroundings. The heart-shaped mark left on a body after a Woobat has been attached to it is said to bring good fortune. While inside a cave, if you look up and see lots of heart-shaped marks lining the walls, it’s evidence that Woobat live there. It emits ultrasonic waves as it flutters about, searching for its prey—bug Pokémon.\n",
      "It shakes its tail vigorously when it emits ultrasonic waves strong enough to reduce concrete to rubble. Anyone who comes into contact with the ultrasonic waves emitted by a courting male experiences a positive mood shift. Emitting powerful sound waves tires it out. Afterward, it won’t be able to fly for a little while. The auspicious shape of this Pokémon’s nose apparently led some regions to consider Swoobat a symbol of good luck.\n",
      "It makes its way swiftly through the soil by putting both claws together and rotating at high speed. By spinning its body, it can dig straight through the ground at a speed of 30 mph. It brings its claws together and whirls around at high speed before rushing toward its prey. It’s a digger, using its claws to burrow through the ground. It causes damage to vegetable crops, so many farmers have little love for it.\n",
      "It can help in tunnel construction. Its drill has evolved into steel strong enough to bore through iron plates. More than 300 feet below the surface, they build mazelike nests. Their activity can be destructive to subway tunnels. It’s not uncommon for tunnels that appear to have formed naturally to actually be a result of Excadrill’s rampant digging. Known as the Drill King, this Pokémon can tunnel through the terrain at speeds of over 90 mph.\n",
      "Using the feelers on its ears, it can tell how someone is feeling or when an egg might hatch. It touches others with the feelers on its ears, using the sound of their heartbeats to tell how they are feeling. Audino’s sense of hearing is superb. Not even a pebble rolling along over a mile away will escape Audino’s ears. This Pokémon has a kind heart. By touching with its feelers, Audino can gauge other creatures’ feelings and physical conditions.\n",
      "These Pokémon appear at building sites and help out with construction. They always carry squared logs. Always carrying squared logs, they help out with construction. As they grow, they carry bigger logs. It loves helping out with construction projects. It loves it so much that if rain causes work to halt, it swings its log around and throws a tantrum. Timburr that have started carrying logs that are about three times their size are nearly ready to evolve.\n",
      "With strengthened bodies, they skillfully wield steel beams to take down buildings. This Pokémon is so muscular and strongly built that even a group of wrestlers could not make it budge an inch. It shows off its muscles to Machoke and other Gurdurr. If it fails to measure up to the other Pokémon, it lies low for a little while. Gurdurr excels at demolition—construction is not its forte. In any case, there’s skill in the way this Pokémon wields its metal beam.\n"
     ]
    },
    {
     "name": "stdout",
     "output_type": "stream",
     "text": [
      "It is thought that Conkeldurr taught humans how to make concrete more than 2,000 years ago. Rather than rely on force, they master moves that utilize the centrifugal force of spinning concrete. Concrete mixed by Conkeldurr is much more durable than normal concrete, even when the compositions of the two materials are the same. When going all out, this Pokémon throws aside its concrete pillars and leaps at opponents to pummel them with its fists.\n",
      "By vibrating its cheeks, it emits sound waves imperceptible to humans and warns others of danger. By vibrating its cheeks, it emits sound waves imperceptible to humans. It uses the rhythm of these sounds to talk. Graceful ripples running across the water’s surface are a sure sign that Tympole are singing in high-pitched voices below. It uses sound waves to communicate with others of its kind. People and other Pokémon species can’t hear its cries of warning.\n",
      "When they vibrate the bumps on their heads, they can make waves in water or earthquake-like vibrations on land. It lives in the water and on land. It uses its long, sticky tongue to immobilize its opponents. It weakens its prey with sound waves intense enough to cause headaches, then entangles them with its sticky tongue. On occasion, their cries are sublimely pleasing to the ear. Palpitoad with larger lumps on their bodies can sing with a wider range of sounds.\n",
      "It increases the power of its punches by vibrating the bumps on its fists. It can turn a boulder to rubble with one punch. They shoot paralyzing liquid from their head bumps. They use vibration to hurt their opponents. The vibrating of the bumps all over its body causes earthquake-like tremors. Seismitoad and Croagunk are similar species. This Pokémon is popular among the elderly, who say the vibrations of its lumps are great for massages.\n",
      "When it tightens its belt, it becomes stronger. Wild Throh use vines to weave their own belts. When it encounters a foe bigger than itself, it wants to throw it. It changes belts as it gets stronger. It performs throwing moves with first-rate skill. Over the course of many battles, Throh’s belt grows darker as it absorbs its wearer’s sweat. They train in groups of five. Any member that can’t keep up will discard its belt and leave the group.\n",
      "Desiring the strongest karate chop, they seclude themselves in mountains and train without sleeping. Tying their belts gets them pumped and makes their punches more destructive. Disturbing their training angers them. If you see a Sawk training in the mountains in its single-minded pursuit of strength, it’s best to quietly pass by. The karate chops of a Sawk that’s trained itself to the limit can cleave the ocean itself.\n",
      "This Pokémon makes clothes for itself. It chews up leaves and sews them with sticky thread extruded from its mouth. Since this Pokémon makes its own clothes out of leaves, it is a popular mascot for fashion designers. This Pokémon makes clothes for itself. It chews up leaves and sews them with sticky thread extruded from its mouth. Since this Pokémon makes its own clothes out of leaves, it is a popular mascot for fashion designers.\n",
      "It protects itself from the cold by wrapping up in leaves. It stays on the move, eating leaves in forests. Preferring dark, damp places, it spends the entire day eating fallen leaves that lie around it. Forests where Swadloon live have superb foliage because the nutrients they make from fallen leaves nourish the plant life. It protects itself from the cold by wrapping up in leaves. It stays on the move, eating leaves in forests.\n",
      "It keeps its eggs warm with heat from fermenting leaves. It also uses leaves to make warm wrappings for Sewaddle. Upon finding a small Pokémon, it weaves clothing for it from leaves by using the sticky silk secreted from its mouth. Upon finding a small Pokémon, it weaves clothing for it from leaves by using the sticky silk secreted from its mouth. It keeps its eggs warm with heat from fermenting leaves. It also uses leaves to make warm wrappings for Sewaddle.\n",
      "It discovers what is going on around it by using the feelers on its head and tail. It is brutally aggressive. Its bite injects a potent poison, enough to paralyze large bird Pokémon that try to prey on it. Venipede and Sizzlipede are similar species, but when the two meet, a huge fight ensues. Its fangs are highly venomous. If this Pokémon finds prey it thinks it can eat, it leaps for them without any thought of how things might turn out.\n",
      "Protected by a hard shell, it spins its body like a wheel and crashes furiously into its enemies. It is usually motionless, but when attacked, it rotates at high speed and then crashes into its opponent. This Pokémon spins itself rapidly and charges into its opponents. Its top speed is just over 60 mph. Whirlipede protects itself with a sturdy shell and poisonous spikes while it stores up the energy it’ll need for evolution.\n",
      "It clasps its prey with the claws on its neck until it stops moving. Then it finishes it off with deadly poison. With quick movements, it chases down its foes, attacking relentlessly with its horns until it prevails. Scolipede latches on to its prey with the claws on its neck before slamming them into the ground and jabbing them with its claws’ toxic spikes. Scolipede engage in fierce territorial battles with Centiskorch. At the end of one of these battles, the victor makes a meal of the loser.\n",
      "To protect itself, it shoots cotton from its body. When it gets wet in the rain, its cotton grows moist and heavy, and it can’t move as well. When attacked, it expels cotton from its body to create a diversion. The cotton it loses grows back in quickly. It shoots cotton from its body to protect itself. If it gets caught up in hurricane-strength winds, it can get sent to the other side of the Earth. Weaving together the cotton of both Cottonee and Eldegoss produces exquisite cloth that’s highly prized by many luxury brands.\n",
      "This nuisance sneaks into people’s homes, where it hides important things and scatters cotton all over the place. Whimsicott doesn’t live in a fixed location. It floats around on whirling winds, appearing all over the place to perform its mischief. It scatters cotton all over the place as a prank. If it gets wet, it’ll become too heavy to move and have no choice but to answer for its mischief. As long as this Pokémon bathes in sunlight, its cotton keeps growing. If too much cotton fluff builds up, Whimsicott tears it off and scatters it.\n",
      "Some say if you dry the leaves on its head, boil them down, and drink the infusion, your vigor will return, so Petilil is popular with the elderly. They prefer clean water and soil. When the environment they live in turns bad, the whole bunch will up and move to a new area. Petilil appears around sources of clean water. Boiling leaves from this Pokémon’s head results in a liquid that’s sometimes used as a bug repellent. The deeper the color of a Petilil’s leaves, the healthier the Pokémon is. Petilil sometimes makes its home in a well-tended field or flowerbed.\n",
      "The fragrance of its flower differs slightly depending on the soil where it grew up. Sniffing the aroma calms your heart and mind. It’s well liked by other Pokémon because of its beauty. The flower on its head needs constant care, or it will soon wither and rot. It’s believed that even first-rate gardeners have a hard time getting the flower on a Lilligant’s head to bloom. Essential oils made from Lilligant flowers have a sublime scent, but they’re also staggeringly expensive.\n",
      "Red and blue Basculin usually do not get along, but sometimes members of one school mingle with the other’s school. Red- and blue-striped Basculin are very violent and always fighting. They are also remarkably tasty. Red- and blue-striped Basculin are very violent and always fighting. They are also remarkably tasty. Red and blue Basculin usually do not get along, but sometimes members of one school mingle with the other’s school.\n",
      "Alola, where it’s warm all year round, is a comfortable environment for this Pokémon. Sometimes you’ll even see it outside of deserts. Sandile’s still not good at hunting, so it mostly eats things that have collapsed in the desert. It’s called “the cleaner of the desert.” The desert gets cold at night, so when the sun sets, this Pokémon burrows deep into the sand and sleeps until sunrise. Sandile is small, but its legs and lower body are powerful. Pushing sand aside as it goes, Sandile moves through the desert as if it’s swimming.\n"
     ]
    },
    {
     "name": "stdout",
     "output_type": "stream",
     "text": [
      "Krokorok really hates it when its body gets cold. On nights when the temperature drops, it digs deep into the desert sands. It buries some of its prey in the sand to use as emergency meals when its hunts are unsuccessful. Krokorok has specialized eyes that enable it to see in the dark. This ability lets Krokorok hunt in the dead of night without getting lost. Although this Pokémon has specialized eyes that allow it to see in the dark, Krokorok won’t move much at night—the desert gets cold after sunset.\n",
      "When it spots prey, even at a distance of over 30 miles, it swims through the desert as if it were water, then jumps out and chomps them. It conceals itself in sandstorms that Flygon whip up and waits patiently for prey to appear. This Pokémon is known as the Bully of the Sands. Krookodile’s mighty jaws can bite through heavy plates of iron with almost no effort at all. While terribly aggressive, Krookodile also has the patience to stay hidden under sand for days, lying in wait for prey.\n",
      "Darumaka’s droppings are hot, so people used to put them in their clothes to keep themselves warm. When it sleeps, it pulls its limbs into its body and its internal fire goes down to 1,100 degrees Fahrenheit. It derives its power from fire burning inside its body. If the fire dwindles, this Pokémon will immediately fall asleep. This popular symbol of good fortune will never fall over in its sleep, no matter how it’s pushed or pulled.\n",
      "When weakened in battle, it transforms into a stone statue. Then it sharpens its mind and fights on mentally. When one is injured in a fierce battle, it hardens into a stone-like form. Then it meditates and sharpens its mind. When one is injured in a fierce battle, it hardens into a stone-like form. Then it meditates and sharpens its mind. Its internal fire burns at 2,500 degrees Fahrenheit, making enough power that it can destroy a dump truck with one punch.\n",
      "It uses an up-tempo song and dance to drive away the bird Pokémon that prey on its flower seeds. Arid regions are their habitat. They move rhythmically, making a sound similar to maracas. With noises that could be mistaken for the rattles of maracas, it creates an upbeat rhythm, startling bird Pokémon and making them fly off in a hurry. Once each year, this Pokémon scatters its seeds. They’re jam-packed with nutrients, making them a precious food source out in the desert.\n",
      "It makes a hole in a suitable rock. If that rock breaks, the Pokémon remains agitated until it locates a replacement. When it finds a stone of a suitable size, it secretes a liquid from its mouth to open up a hole to crawl into. When it finds a stone appealing, it creates a hole inside it and uses it as its home. This Pokémon is the natural enemy of Roggenrola and Rolycoly. It first tries to find a rock to live in, but if there are no suitable rocks to be found, Dwebble may move in to the ports of a Hippowdon.\n",
      "It possesses legs of enormous strength, enabling it to carry heavy slabs for many days, even when crossing arid land. Competing for territory, Crustle fight viciously. The one whose boulder is broken is the loser of the battle. This highly territorial Pokémon prefers dry climates. It won’t come out of its boulder on rainy days. Its thick claws are its greatest weapons. They’re mighty enough to crack Rhyperior’s carapace.\n",
      "They move in small groups, walking around lazily. Anyone who makes eye contact gets smacked with a headbutt. It stretches its saggy skin up to its neck to protect itself. The saggier their skin, the more respect they garner. If it locks eyes with you, watch out! Nothing and no one is safe from the reckless headbutts of this troublesome Pokémon. It protects itself with its durable skin. It’s thought that this Pokémon will evolve once its skin has completely stretched out.\n",
      "This Pokémon may be rude, but it takes very good care of its family, its friends, and its turf. It taunts its opponents by spitting. It has a certain territory that it never leaves its whole life long. As halfhearted as this Pokémon’s kicks may seem, they pack enough power to shatter Conkeldurr’s concrete pillars. While mostly known for having the temperament of an aggressive ruffian, this Pokémon takes very good care of its family, friends, and territory.\n",
      "The guardians of an ancient city, they use their psychic power to attack enemies that invade their territory. The guardians of an ancient city, they always fly the same route while keeping watch for invaders. Psychic power allows these Pokémon to fly. Some say they were the guardians of an ancient city. Others say they were the guardians’ emissaries. A discovery was made in the desert where Sigilyph fly. The ruins of what may have been an ancient city were found beneath the sands.\n",
      "These Pokémon arose from the spirits of people interred in graves. Each retains memories of its former life. Each of them carries a mask that used to be its face when it was human. Sometimes they look at it and cry. It wanders through ruins by night, carrying a mask that’s said to have been the face it had when it was still human. The spirit of a person from a bygone age became this Pokémon. It rambles through ruins, searching for someone who knows its face.\n",
      "It has been said that they swallow those who get too close and turn them into mummies. They like to eat gold nuggets. Grave robbers who mistake them for real coffins and get too close end up trapped inside their bodies. This Pokémon has a body of sparkling gold. People say it no longer remembers that it was once human. There are many depictions of Cofagrigus decorating ancient tombs. They’re symbols of the wealth that kings of bygone eras had.\n",
      "It was restored from an ancient fossil. Tirtouga lived in the sea but came up onto the land to search for prey. Its hunting grounds encompassed a broad area, from the land to more than half a mile deep in the ocean. This Pokémon inhabited ancient seas. Although it can only crawl, it still comes up onto land in search of prey. Tirtouga is considered to be the ancestor of many turtle Pokémon. It was restored to life from a fossil.\n",
      "Its jaws are terrifyingly powerful. It could eat Omastar and Omanyte whole and not be bothered in the slightest by their shells. Carracosta eats every last bit of the prey it catches, even the shells and bones, to further strengthen its sturdy shell. Carracosta completely devours its prey—bones, shells, and all. Because of this, Carracosta’s own shell grows thick and sturdy. This Pokémon emerges from the water in search of prey despite the fact that it moves more slowly on land.\n",
      "Once thought to be the ancestor of all bird Pokémon, some of the latest research suggests that may not be the case. Restored from a fossil, this ancient bird Pokémon has wings but can’t yet fly. This Pokémon was successfully restored from a fossil. As research suggested, Archen is unable to fly. But it’s very good at jumping. Archen is said to be the ancestor of bird Pokémon. It lived in treetops, eating berries and bug Pokémon.\n",
      "This ancient Pokémon’s plumage is delicate, so if anyone other than an experienced professional tries to restore it, they will fail. Said to be an ancestor of bird Pokémon, the muscles it uses to flap its wings are still weak, so it needs a long runway in order to take off. It needs a running start to take off. If Archeops wants to fly, it first needs to run nearly 25 mph, building speed over a course of about 2.5 miles. Though capable of flight, Archeops was apparently better at hunting on the ground.\n",
      "Poisonous gas leaks out of it when it breathes. Muk that catch a whiff of that stench will come drooling. If a young Pokémon or child breathes in the toxic gas that Trubbish belches out, it could be a life-threatening situation. Its favorite places are unsanitary ones. If you leave trash lying around, you could even find one of these Pokémon living in your room. This Pokémon was born from a bag stuffed with trash. Galarian Weezing relish the fumes belched by Trubbish.\n",
      "It locks opponents in place with its left hand, immobilizing them by entirely dousing their bodies with poisonous liquid. Some say the reason Garbodor in Alola are a little stronger than their counterparts elsewhere is the presence of Muk, their natural enemy. This Pokémon eats trash, which turns into poison inside its body. The main component of the poison depends on what sort of trash was eaten. The toxic liquid it launches from its right arm is so virulent that it can kill a weakened creature instantly.\n"
     ]
    },
    {
     "name": "stdout",
     "output_type": "stream",
     "text": [
      "This Pokémon has a cowardly disposition, so when it’s not around friends, it basically always stays transformed as something else. If a normally talkative child suddenly stops talking, it may have been replaced by Zorua. Zorua is a timid Pokémon. This disposition seems to be what led to the development of Zorua’s ability to take on the forms of other creatures. Zorua sometimes transforms into a person and goes into cities to search for food. When Zorua does this, it usually takes on the form of a child.\n",
      "It doesn’t just transform itself—it also has the power to make hundreds of people see its illusions. If it thinks humans are going to discover its den, Zoroark shows them visions that make them wander around in the woods. This Pokémon cares deeply about others of its kind, and it will conjure terrifying illusions to keep its den and pack safe. Seeking to ease the burden of their solitude, lonely Trainers tell Zoroark to show illusions to them.\n",
      "A clean freak that will not allow even the slightest mess, it uses its tail like a mop to thoroughly clean any and all filth. When its tail has gotten dirty from self-cleaning or from cleaning its nest, Minccino spends a whole day washing its tail in clean spring water. The way it brushes away grime with its tail can be helpful when cleaning. But its focus on spotlessness can make cleaning more of a hassle. They pet each other with their tails as a form of greeting. Of the two, the one whose tail is fluffier is a bit more boastful.\n",
      "The white parts of its coat are covered in an oil secreted from its body, so this Pokémon can slide right away from its enemies’ attacks. The oil that seeps from its body is really smooth. For people troubled by bad skin, this oil is an effective treatment. Its body secretes oil that this Pokémon spreads over its nest as a coating to protect it from dust. Cinccino won’t tolerate even a speck of the stuff. A special oil that seeps through their fur helps them avoid attacks. The oil fetches a high price at market.\n",
      "Their ribbonlike feelers increase their psychic power. They are always staring at something. They intently observe both Trainers and Pokémon. Apparently, they are looking at something that only Gothita can see. Though they’re still only babies, there’s psychic power stored in their ribbonlike feelers, and sometimes they use that power to fight. Even when nobody seems to be around, Gothita can still be heard making a muted cry. Many believe it’s speaking to something only it can see.\n",
      "Starlight is the source of their power. At night, they mark star positions by using psychic power to float stones. According to many old tales, it creates friends for itself by controlling sleeping children on starry nights. It’s said that when stars shine in the night sky, this Pokémon will spirit away sleeping children. Some call it the Witch of Punishment. On nights when the stars shine, this Pokémon’s psychic power is at its strongest. It’s unknown just what link Gothorita has to the greater universe.\n",
      "Starry skies thousands of light-years away are visible in the space distorted by their intense psychic power. They can predict the future from the placement and movement of the stars. They can see Trainers’ life spans. It has tremendous psychic power, but it dislikes conflict. It’s also able to predict the future based on the movement of the stars. A criminal who was shown his fate by a Gothitelle went missing that same day and was never seen again.\n",
      "Because their bodies are enveloped in a special liquid, they are fine in any environment, no matter how severe. They drive away attackers by unleashing psychic power. They can use telepathy to talk with others. It communicates with others telepathically. Its body is encapsulated in liquid, but if it takes a heavy blow, the liquid will leak out. Many say that the special liquid covering this Pokémon’s body would allow it to survive in the vacuum of space.\n",
      "Since they have two divided brains, at times they suddenly try to take two different actions at once. When their two divided brains think the same thoughts, their psychic power is maximized. Its psychic power can supposedly cover a range of more than half a mile—but only if its two brains can agree with each other. Its brain has split into two, and the two halves rarely think alike. Its actions are utterly unpredictable.\n",
      "They use psychic power to control their arms, which are made of a special liquid. They can crush boulders psychically. When Reuniclus shake hands, a network forms between their brains, increasing their psychic power. While it could use its psychic abilities in battle, this Pokémon prefers to swing its powerful arms around to beat opponents into submission. It’s said that drinking the liquid surrounding Reuniclus grants wisdom. Problem is, the liquid is highly toxic to anything besides Reuniclus itself.\n",
      "When attacked, it uses its feathers to splash water, escaping under cover of the spray. They are better at swimming than flying, and they happily eat their favorite food, peat moss, as they dive underwater. When attacked, it uses its feathers to splash water, escaping under cover of the spray. They are better at swimming than flying, and they happily eat their favorite food, peat moss, as they dive underwater.\n",
      "It administers sharp, powerful pecks with its bill. It whips its long neck to deliver forceful repeated strikes. Despite their elegant appearance, they can flap their wings strongly and fly for thousands of miles. Despite their elegant appearance, they can flap their wings strongly and fly for thousands of miles. Swanna start to dance at dusk. The one dancing in the middle is the leader of the flock.\n",
      "It exhales cold air that is at –58 degrees Fahrenheit. When it’s in a warm place, it shrinks little by little. When the morning sun hit an icicle, it wished not to melt, and thus Vanillite was born. At night, it buries itself in snow to sleep. Unable to survive in hot areas, it makes itself comfortable by breathing out air cold enough to cause snow. It burrows into the snow to sleep. Supposedly, this Pokémon was born from an icicle. It spews out freezing air at −58 degrees Fahrenheit to make itself more comfortable.\n",
      "It sprays its enemies with grains of ice to freeze them. Most Vanillish in Alola are smaller than average. This hearty Pokémon survived the Ice Age. It’s incredibly popular in very hot regions. By drinking pure water, it grows its icy body. This Pokémon can be hard to find on days with warm, sunny weather. It blasts enemies with cold air reaching −148 degrees Fahrenheit, freezing them solid. But it spares their lives afterward—it’s a kind Pokémon.\n",
      "It blasts blizzards from its two mouths. It can create snow anywhere, so it gets a lot of love from skiers and snowboarders. Vanilluxe is born when two Vanillish, half-melted by the day’s light, stick to each other and freeze together in the cold return of night. When its anger reaches a breaking point, this Pokémon unleashes a fierce blizzard that freezes every creature around it, be they friend or foe. People believe this Pokémon formed when two Vanillish stuck together. Its body temperature is roughly 21 degrees Fahrenheit.\n",
      "The turning of the seasons changes the color and scent of this Pokémon’s fur. People use it to mark the seasons. Their coloring changes according to the seasons and can be slightly affected by the temperature and humidity as well. Their coloring changes according to the seasons and can be slightly affected by the temperature and humidity as well. The turning of the seasons changes the color and scent of this Pokémon’s fur. People use it to mark the seasons.\n",
      "The plants growing on its horns change according to the season. The leaders of the herd possess magnificent horns. They migrate according to the seasons, so some people call Sawsbuck the harbingers of spring. They migrate according to the seasons. People can tell the season by looking at Sawsbuck’s horns. They migrate according to the seasons, so some people call Sawsbuck the harbingers of spring.\n",
      "They store up electricity to fly through the air. When thunder cracks at night, sometimes there are almost enough of them to blot out the sky. As it flies, it scatters electricity around, so bird Pokémon keep their distance. That’s why Emolga can keep all its food to itself. As Emolga flutters through the air, it crackles with electricity. This Pokémon is cute, but it can cause a lot of trouble. This Pokémon absolutely loves sweet berries. Sometimes it stuffs its cheeks full of so much food that it can’t fly properly.\n"
     ]
    },
    {
     "name": "stdout",
     "output_type": "stream",
     "text": [
      "These mysterious Pokémon evolve when they receive electrical stimulation while they are in the same place as Shelmet. For some reason they evolve when they receive electrical energy while they are attacking Shelmet. Its strange physiology reacts to electrical energy in interesting ways. The presence of a Shelmet will cause this Pokémon to evolve. It spits a liquid from its mouth to melt through Shelmet’s shell. Karrablast doesn’t eat the shell— it eats only the contents.\n",
      "Wearing the shell covering they stole from Shelmet, they defend themselves and attack with two lances. These Pokémon evolve by wearing the shell covering of a Shelmet. The steel armor protects their whole body. They use shells they’ve stolen from Shelmet to arm and protect themselves. They’re very popular Pokémon in the Galar region. It charges its enemies, lances at the ready. An image of one of its duels is captured in a famous painting of Escavalier clashing with Sirfetch’d.\n",
      "It lures people in with its Poké Ball pattern, then releases poison spores. Why it resembles a Poké Ball is unknown. It lures Pokémon with its pattern that looks just like a Poké Ball, then releases poison spores. No one knows what the Poké Ball–like pattern on Foongus means or why Foongus has it. The spores released from this Pokémon’s hands are highly poisonous, but when thoroughly dried, the spores can be used as stomach medicine.\n",
      "They show off their Poké Ball caps to lure prey, but very few Pokémon are fooled by this. It lures prey close by dancing and waving its arm caps, which resemble Poké Balls, in a swaying motion. This Pokémon puffs poisonous spores at its foes. If the spores aren’t washed off quickly, they’ll grow into mushrooms wherever they land. Amoonguss generally doesn’t move much. It tends to stand still near Poké Balls that have been dropped on the ground.\n",
      "They paralyze prey with poison, then drag them down to their lairs, five miles below the surface. If its veil-like arms stun and wrap a foe, that foe will be dragged miles below the surface, never to return. It wraps its veillike arms and legs around prey swimming by and drags them down to the depths of the ocean. Using the invisible poison spikes on its veillike arms and legs, it paralyzes its enemies and causes them to drown.\n",
      "Its body is mostly seawater. It’s said there’s a castle of ships Jellicent have sunk on the seafloor. The fate of the ships and crew that wander into Jellicent’s habitat: all sunken, all lost, all vanished. Jellicent is always hanging around fancy cruise ships and tankers, hoping to drag away its prey. Fishermen are terrified of Jellicent. It’s rumored to drag them into the sea and steal their lives away.\n",
      "It uses its special mucus to close the wounds of injured Pokémon. The reason for this behavior remains unknown. They float upon the open sea. Many water Pokémon gather in the area around Alomomola. Fishermen take them along on long voyages, because if you have an Alomomola with you, there’ll be no need for a doctor or medicine. The reason it helps Pokémon in a weakened condition is that any Pokémon coming after them may also attack Alomomola.\n",
      "Since it can’t generate its own electricity, it sticks onto large-bodied Pokémon and absorbs static electricity. They attach themselves to large-bodied Pokémon and absorb static electricity, which they store in an electric pouch. Joltik can be found clinging to other Pokémon. It’s soaking up static electricity because it can’t produce a charge on its own. Joltik latch on to other Pokémon and suck out static electricity. They’re often found sticking to Yamper’s hindquarters.\n",
      "They employ an electrically charged web to trap their prey. While it is immobilized by shock, they leisurely consume it. When attacked, they create an electric barrier by spitting out many electrically charged threads. It launches electrified fur from its abdomen as its means of attack. Opponents hit by the fur could be in for three full days and nights of paralysis. It lays traps of electrified threads near the nests of bird Pokémon, aiming to snare chicks that are not yet good at flying.\n",
      "When threatened, it attacks by shooting a barrage of spikes, which gives it a chance to escape by rolling away. It absorbs the iron it finds in the rock while clinging to the ceiling. It shoots spikes when in danger. It defends itself by launching spikes, but its aim isn’t very good at first. Only after a lot of practice will it improve. Mossy caves are their preferred dwellings. Enzymes contained in mosses help Ferroseed’s spikes grow big and strong.\n",
      "By swinging around its three spiky feelers and shooting spikes, it can obliterate an opponent. They attach themselves to cave ceilings, firing steel spikes at targets passing beneath them. This Pokémon scrapes its spikes across rocks, and then uses the tips of its feelers to absorb the nutrients it finds within the stone. Its spikes are harder than steel. This Pokémon crawls across rock walls by stabbing the spikes on its feelers into the stone.\n",
      "Interlocking two bodies and spinning around generates the energy they need to live. The two minigears that mesh together are predetermined. Each will rebound from other minigears without meshing. The two minigears that compose this Pokémon are closer than twins. They mesh well only with each other. It’s suspected that Klink were the inspiration behind ancient people’s invention of the first gears.\n",
      "By changing the direction in which it rotates, it communicates its feelings to others. When angry, it rotates faster. A minigear and big gear comprise its body. If the minigear it launches at a foe doesn’t return, it will die. When Klang goes all out, the minigear links up perfectly with the outer part of the big gear, and this Pokémon’s rotation speed increases sharply. Many companies in the Galar region choose Klang as their logo. This Pokémon is considered the symbol of industrial technology.\n",
      "The gear with the red core is rotated at high speed for a rapid energy charge. Its red core functions as an energy tank. It fires the charged energy through its spikes into an area. From its spikes, it launches powerful blasts of electricity. Its red core contains an enormous amount of energy. The three gears that compose this Pokémon spin at high speed. Its new spiked gear isn’t a living creature.\n",
      "These Pokémon move in schools. They have an electricity-generating organ, so they discharge electricity if in danger. One alone can emit only a trickle of electricity, so a group of them gathers to unleash a powerful electric shock. While one alone doesn’t have much power, a chain of many Tynamo can be as powerful as lightning. One alone can emit only a trickle of electricity, so a group of them gathers to unleash a powerful electric shock.\n",
      "These Pokémon have a big appetite. When they spot their prey, they attack it and paralyze it with electricity. It wraps itself around its prey and paralyzes it with electricity from the round spots on its sides. Then it chomps. It wraps itself around its prey and paralyzes it with electricity from the round spots on its sides. Then it chomps. These Pokémon have a big appetite. When they spot their prey, they attack it and paralyze it with electricity.\n",
      "With their sucker mouths, they suck in prey. Then they use their fangs to shock the prey with electricity. It latches on to prey with its sucker mouth, sinking in its fangs and shocking the prey with powerful electricity. With their sucker mouths, they suck in prey. Then they use their fangs to shock the prey with electricity. They crawl out of the ocean using their arms. They will attack prey on shore and immediately drag it into the ocean.\n",
      "It controls tremendous psychic power. Most reports of alien sightings are actually just people mistaking Elgyem for an alien. This Pokémon is shrouded in mystery. It’s said to have appeared from a UFO that fell from the sky about 50 years ago. If this Pokémon stands near a TV, strange scenery will appear on the screen. That scenery is said to be from its home. This Pokémon was discovered about 50 years ago. Its highly developed brain enables it to exert its psychic powers.\n",
      "With its psychic powers, it rewrites its opponents’ memories. You, too, may have already had your memories rewritten. It has strong psychic powers. Using its fingers that flash three different colors, it controls its opponents and rewrites their memories. Whenever a Beheeyem visits a farm, a Dubwool mysteriously disappears. Sometimes found drifting above wheat fields, this Pokémon can control the memories of its opponents.\n"
     ]
    },
    {
     "name": "stdout",
     "output_type": "stream",
     "text": [
      "While shining a light and pretending to be a guide, it leeches off the life force of any who follow it. Litwick shines a light that absorbs the life energy of people and Pokémon, which becomes the fuel that it burns. The flame on its head keeps its body slightly warm. This Pokémon takes lost children by the hand to guide them to the spirit world. The younger the life this Pokémon absorbs, the brighter and eerier the flame on its head burns.\n",
      "The spirits it absorbs fuel its baleful fire. It hangs around hospitals waiting for people to pass on. It arrives near the moment of death and steals spirit from the body. This Pokémon appears just before someone passes away, so it’s feared as an emissary of death. It lurks in cities, pretending to be a lamp. Once it finds someone whose death is near, it will trail quietly after them.\n",
      "Being consumed in Chandelure’s flame burns up the spirit, leaving the body behind. The spirits burned up in its ominous flame lose their way and wander this world forever. This Pokémon haunts dilapidated mansions. It sways its arms to hypnotize opponents with the ominous dancing of its flames. In homes illuminated by Chandelure instead of lights, funerals were a constant occurrence— or so it’s said.\n",
      "They use their tusks to crush the berries they eat. Repeated regrowth makes their tusks strong and sharp. They mark their territory by leaving gashes in trees with their tusks. If a tusk breaks, a new one grows in quickly. These Pokémon nest in the ground and use their tusks to crush hard berries. Crushing berries is also how they test each other’s strength. They play with each other by knocking their large tusks together. Their tusks break sometimes, but they grow back so quickly that it isn’t a concern.\n",
      "Their tusks can shatter rocks. Territory battles between Fraxure can be intensely violent. A broken tusk will not grow back, so it diligently sharpens its tusks on river rocks after the end of a battle. After battle, this Pokémon carefully sharpens its tusks on river rocks. It needs to take care of its tusks—if one breaks, it will never grow back. Its skin is as hard as a suit of armor. Fraxure’s favorite strategy is to tackle its opponents, stabbing them with its tusks at the same time.\n",
      "They are kind but can be relentless when defending territory. They challenge foes with tusks that can cut steel. Their sturdy tusks will stay sharp even if used to cut steel beams. These Pokémon are covered in hard armor. Its resilient tusks are its pride and joy. It licks up dirt to take in the minerals it needs to keep its tusks in top condition. While usually kindhearted, it can be terrifying if angered. Tusks that can slice through steel beams are how Haxorus deals with its adversaries.\n",
      "Its nose is always running. It sniffs the snot back up because the mucus provides the raw material for its moves. Their snot is a barometer of health. When healthy, their snot is sticky and the power of their ice moves increases. When this Pokémon is in good health, its snot becomes thicker and stickier. It will smear its snot on anyone it doesn’t like. It sniffles before performing a move, using its frosty snot to provide an icy element to any move that needs it.\n",
      "They love the cold seas of the north. They create pathways across the ocean waters by freezing their own breath. It freezes its breath to create fangs and claws of ice to fight with. Cold northern areas are its habitat. It swims through frigid seas, searching for prey. From its frozen breath, it forms icy fangs that are harder than steel. It swims energetically through frigid seas. When it gets tired, it freezes the seawater with its breath so it can rest on the ice.\n",
      "They are born in snow clouds. They use chains made of ice crystals to capture prey. They are composed of ice crystals. They capture prey with chains of ice, freezing the prey at -148 degrees Fahrenheit. With its icy chains, Cryogonal freezes those it encounters. It then takes its victims away to somewhere unknown. When the weather gets hot, these Pokémon turn into water vapor. Cryogonal are almost never seen during summer.\n",
      "When it and Karrablast are together, and both receive electrical stimulation, they both evolve. It evolves when bathed in an electric-like energy along with Karrablast. The reason is still unknown. When attacked, it tightly shuts the lid of its shell. This reaction fails to protect it from Karrablast, however, because they can still get into the shell. It has a strange physiology that responds to electricity. When together with Karrablast, Shelmet evolves for some reason.\n",
      "Having removed its heavy shell, it becomes very light and can fight with ninja-like movements. When its body dries out, it weakens. So, to prevent dehydration, it wraps itself in many layers of thin membrane. It moves with blinding speed and lobs poison at foes. Featuring Accelgor as a main character is a surefire way to make a movie or comic popular. Discarding its shell made it nimble. To keep itself from dehydrating, it wraps its body in bands of membrane.\n",
      "Its skin is very hard, so it is unhurt even if stepped on by sumo wrestlers. It smiles when transmitting electricity. It conceals itself in the mud of the seashore. Then it waits. When prey touch it, it delivers a jolt of electricity. Thanks to bacteria that lived in the mud flats with it, this Pokémon developed the organs it uses to generate electricity. For some reason, this Pokémon smiles slightly when it emits a strong electric current from the yellow markings on its body.\n",
      "They can often be seen in packs in the morning, slowly moving their bodies through a series of poses. They seclude themselves in the mountains and devote themselves to training. The form of their kicks and chops differs from pack to pack. In one minute, a well-trained Mienfoo can chop with its arms more than 100 times. Though small, Mienfoo’s temperament is fierce. Any creature that approaches Mienfoo carelessly will be greeted with a flurry of graceful attacks.\n",
      "It overwhelms its opponents with continuous attacks and then slowly stores up power before delivering the finishing blow. When Mienshao lets out a bizarre wail, you’re in danger. A flurry of kicks and chops too fast to see is about to be unleashed! When Mienshao comes across a truly challenging opponent, it will lighten itself by biting off the fur on its arms. Delivered at blinding speeds, kicks from this Pokémon can shatter massive boulders into tiny pieces.\n",
      "The red skin on its face is harder than rock. In narrow caves, it squares off against its enemies and charges face-first right into them. It infiltrates tunnels that Pokémon like Diglett and Dugtrio have dug and quietly waits for prey to pass through. Druddigon lives in caves, but it never skips sunbathing—it won’t be able to move if its body gets too cold. Druddigon are vicious and cunning. They take up residence in nests dug out by other Pokémon, treating the stolen nests as their own lairs.\n",
      "Its movements are powered by a mysterious energy. It has continued to move since ancient times, so its power may soon run out. Although ancient people apparently built it by working with clay, the source of its energy is unclear. They were sculpted from clay in ancient times. No one knows why, but some of them are driven to continually line up boulders. This Pokémon was created from clay. It received orders from its master many thousands of years ago, and it still follows those orders to this day.\n",
      "Some say that ancient people invented Golurk to serve as a laborer. It follows its master’s orders faithfully. When the seal on its chest is removed, it rages indiscriminately, turning the whole town around it into a mountain of rubble. Artillery platforms built into the walls of ancient castles served as perches from which Golurk could fire energy beams. There’s a theory that inside Golurk is a perpetual motion machine that produces limitless energy, but this belief hasn’t been proven.\n",
      "After shredding its prey, it sharpens its blades on a stone by the river. Each Pawniard has its own favorite sharpening stone. It follows Bisharp’s orders to a tee when it attacks enemies. After slashing an opponent, Pawniard clangs both of its blades together. It uses river stones to maintain the cutting edges of the blades covering its body. These sharpened blades allow it to bring down opponents. A pack of these Pokémon forms to serve a Bisharp boss. Each Pawniard trains diligently, dreaming of one day taking the lead.\n"
     ]
    },
    {
     "name": "stdout",
     "output_type": "stream",
     "text": [
      "No matter how strong the Bisharp, it’s said that if the blade on its head is chipped, it will retire from its position as the boss. It leads a group of Pawniard. Bisharp doesn’t even change its expression when it deals the finishing blow to an opponent. It’s accompanied by a large retinue of Pawniard. Bisharp keeps a keen eye on its minions, ensuring none of them even think of double-crossing it. Violent conflicts erupt between Bisharp and Fraxure over places where sharpening stones can be found.\n",
      "They charge wildly and headbutt everything. Their headbutts have enough destructive force to derail a train. Their fluffy fur absorbs damage, even if they strike foes with a fierce headbutt. These Pokémon can crush a car with no more than a headbutt. Bouffalant with more hair on their heads hold higher positions within the herd. These Pokémon live in herds of about 20 individuals. Bouffalant that betray the herd will lose the hair on their heads for some reason.\n",
      "With its powerful legs and sturdy claws, it can crack even the hard shells of Shellder and pluck out their insides. Known as a natural-born warrior, soon after its hatching, it will challenge its parent to a fight in order to gain their acceptance. If it spies a strong Pokémon, Rufflet can’t resist challenging it to a battle. But if Rufflet loses, it starts bawling. A combative Pokémon, it’s ready to pick a fight with anyone. It has talons that can crush hard berries.\n",
      "The more scars it has on its front, the more heroic it’s considered to be. Those with many scars on their back are mocked by the flock. Known as “the hero of the skies,” this Pokémon is so proud and so brave that it will never retreat, even when it’s injured. Known for its bravery and pride, this majestic Pokémon is often seen as a motif for various kinds of emblems. Because this Pokémon is hotheaded and belligerent, it’s Corviknight that’s taken the role of transportation in Galar.\n",
      "Mandibuzz gives it the bones it wears. Vullaby’s wings are short, so it can’t fly yet, but it jumps around, dreaming of wide open skies. Its healthy appetite leads to visible growth spurts. It often has to replace the bones it wears as its size increases. It wears a bone to protect its rear. It often squabbles with others of its kind over particularly comfy bones. Vullaby grow quickly. Bones that have gotten too small for older Vullaby to wear often get passed down to younger ones in the nest.\n",
      "It skillfully arranges the bones of its prey to construct its nest. Most of the bones are Cubone. It’s always searching for food for Vullaby. When it finds a weak Pokémon, Mandibuzz swoops it right off to its nest. Although it’s a bit of a ruffian, this Pokémon will take lost Vullaby under its wing and care for them till they’re ready to leave the nest. They adorn themselves with bones. There seem to be fashion trends among them, as different bones come into and fall out of popularity.\n",
      "Using their very hot, flame-covered tongues, they burn through Durant’s steel bodies and consume their insides. It draws in air through its tail, transforms it into fire, and uses it like a tongue. It melts Durant and eats them. There’s a hole in its tail that allows it to draw in the air it needs to keep its fire burning. If the hole gets blocked, this Pokémon will fall ill. A flame serves as its tongue, melting through the hard shell of Durant so that Heatmor can devour their insides.\n",
      "Individuals each play different roles in driving Heatmor, their natural predator, away from their colony. They attack in groups, covering themselves in steel armor to protect themselves from Heatmor. They lay their eggs deep inside their nests. When attacked by Heatmor, they retaliate using their massive mandibles. With their large mandibles, these Pokémon can crunch their way through rock. They work together to protect their eggs from Sandaconda.\n",
      "They cannot see, so they tackle and bite to learn about their surroundings. Their bodies are covered in wounds. Lacking sight, it’s unaware of its surroundings, so it bumps into things and eats anything that moves. When it encounters something, its first urge is usually to bite it. If it likes what it tastes, it will commit the associated scent to memory. Because it can’t see, this Pokémon is constantly biting at everything it touches, trying to keep track of its surroundings.\n",
      "The two heads do not get along. Whichever head eats more than the other gets to be the leader. After it has eaten up all the food in its territory, it moves to another area. Its two heads do not get along. While hunting for prey, Zweilous wanders its territory, its two heads often bickering over which way to go. Their two heads will fight each other over a single piece of food. Zweilous are covered in scars even without battling others.\n",
      "The heads on their arms do not have brains. They use all three heads to consume and destroy everything. It responds to movement by attacking. This scary, three-headed Pokémon devours everything in its path! There are a slew of stories about villages that were destroyed by Hydreigon. It bites anything that moves. The three heads take turns sinking their teeth into the opponent. Their attacks won’t slow until their target goes down.\n",
      "When battling opponents, it sprays fire from its five horns. The max temperature of the flames can reach nearly 5,500 degrees Fahrenheit. It protects itself with flame. Long years ago, people believed Larvesta had a nest on the sun. The people of ancient times believed that Larvesta fell from the sun. Larvesta’s body is warm all over. It spouts fire from the tips of its horns to intimidate predators and scare prey.\n",
      "As it flies, it scatters its flaming scales. It was feared by ancient people, who referred to it as “the rage of the sun.” According to legends, it was hatched from a flaming cocoon to save people and Pokémon that were suffering from the cold. Volcarona scatters burning scales. Some say it does this to start fires. Others say it’s trying to rescue those that suffer in the cold. This Pokémon emerges from a cocoon formed of raging flames. Ancient murals depict Volcarona as a deity of fire.\n",
      "It has a body and heart of steel. Its glare is sufficient to make even an unruly Pokémon obey it. It has a body and heart of steel. It worked with its allies to punish people when they hurt Pokémon. This Pokémon appears in a legend alongside Terrakion and Virizion, fighting against humans in defense of the Unova region’s Pokémon. From the moment it’s born, this Pokémon radiates the air of a leader. Its presence will calm even vicious foes.\n",
      "Its charge is strong enough to break through a giant castle wall in one blow. This Pokémon is spoken of in legends. Spoken of in legend, this Pokémon used its phenomenal power to destroy a castle in its effort to protect Pokémon. It has phenomenal power. It will mercilessly crush anyone or anything that bullies small Pokémon. In Unovan legend, Terrakion battled against humans in an effort to protect other Pokémon.\n",
      "Its head sprouts horns as sharp as blades. Using whirlwind-like movements, it confounds and swiftly cuts opponents. Legends say this Pokémon confounded opponents with its swift movements. A legend tells of this Pokémon working together with Cobalion and Terrakion to protect the Pokémon of the Unova region. It darts around opponents with a flurry of quick movements, slicing them up with its horns.\n",
      "Tornadus expels massive energy from its tail, causing severe storms. Its power is great enough to blow houses away. In every direction it flies, creating winds so powerful, they blow everything away. The lower half of its body is wrapped in a cloud of energy. It zooms through the sky at 200 mph. Tornadus expels massive energy from its tail, causing severe storms. Its power is great enough to blow houses away.\n",
      "The spikes on its tail discharge immense bolts of lightning. It flies around the Unova region firing off lightning bolts. As it flies around, it shoots lightning all over the place and causes forest fires. It is therefore disliked. The spikes on its tail discharge immense bolts of lightning. It flies around the Unova region firing off lightning bolts. As it flies around, it shoots lightning all over the place and causes forest fires. It is therefore disliked.\n"
     ]
    },
    {
     "name": "stdout",
     "output_type": "stream",
     "text": [
      "This legendary Pokémon can scorch the world with fire. It helps those who want to build a world of truth. When Reshiram’s tail flares, the heat energy moves the atmosphere and changes the world’s weather. Flames spew from its tail as it flies through the sky like a jet airplane. It’s said that this Pokémon will scorch the world. According to myth, if people ignore truth and let themselves become consumed by greed, Reshiram will arrive to burn their kingdoms down.\n",
      "This legendary Pokémon can scorch the world with lightning. It assists those who want to build an ideal world. Concealing itself in lightning clouds, it flies throughout the Unova region. It creates electricity in its tail. When the interior part of its tail spins like a motor, Zekrom can generate many bolts of lightning to blast its surroundings. Mythology tells us that if people lose the righteousness in their hearts, their kingdoms will be razed by Zekrom’s lightning.\n",
      "The energy that comes pouring from its tail increases the nutrition in the soil, making crops grow to great size. From the forces of lightning and wind, it creates energy to give nutrients to the soil and make the land abundant. Lands visited by Landorus grant such bountiful crops that it has been hailed as “The Guardian of the Fields.” From the forces of lightning and wind, it creates energy to give nutrients to the soil and make the land abundant.\n",
      "This legendary ice Pokémon waits for a hero to fill in the missing parts of its body with truth or ideals. It generates a powerful, freezing energy inside itself, but its body became frozen when the energy leaked out. Dwelling within it is a power even greater than that of Reshiram or Zekrom, but the extreme cold keeps that power bound. It appears that this Pokémon uses its powers over ice to freeze its own body in order to stabilize its cellular structure.\n",
      "It crosses the world, running over the surfaces of oceans and rivers. It appears at scenic waterfronts. When it is resolute, its body fills with power and it becomes swifter. Its jumps are then too fast to follow. It crosses the world, running over the surfaces of oceans and rivers. It appears at scenic waterfronts. When it is resolute, its body fills with power and it becomes swifter. Its jumps are then too fast to follow.\n",
      "Many famous songs have been inspired by the melodies that Meloetta plays. The melodies sung by Meloetta have the power to make Pokémon that hear them happy or sad. The melodies sung by Meloetta have the power to make Pokémon that hear them happy or sad. Its melodies are sung with a special vocalization method that can control the feelings of those who hear it.\n",
      "This ancient bug Pokémon was altered by Team Plasma. They upgraded the cannon on its back. This Pokémon existed 300 million years ago. Team Plasma altered it and attached a cannon to its back. This ancient bug Pokémon was altered by Team Plasma. They upgraded the cannon on its back. This Pokémon existed 300 million years ago. Team Plasma altered it and attached a cannon to its back.\n",
      "The quills on its head are usually soft. When it flexes them, the points become so hard and sharp that they can pierce rock. Such a thick shell of wood covers its head and back that even a direct hit from a truck wouldn’t faze it.\n",
      "It relies on its sturdy shell to deflect predators’ attacks. It counterattacks with its sharp quills. They strengthen their lower bodies by running into one another. They are very kind and won’t start fights.\n",
      "Its Tackle is forceful enough to flip a 50-ton tank. It shields its allies from danger with its own body. When it takes a defensive posture with its fists guarding its face, it could withstand a bomb blast.\n",
      "Eating a twig fills it with energy, and its roomy ears give vent to air hotter than 390 degrees Fahrenheit. As it walks, it munches on a twig in place of a snack. It intimidates opponents by puffing hot air out of its ears.\n",
      "It has a twig stuck in its tail. With friction from its tail fur, it sets the twig on fire and launches into battle. When the twig is plucked from its tail, friction sets the twig alight. The flame is used to send signals to its allies.\n",
      "It gazes into the flame at the tip of its branch to achieve a focused state, which allows it to see into the future. Using psychic power, it generates a fiery vortex of 5,400 degrees Fahrenheit, incinerating foes swept into this whirl of flame.\n",
      "It secretes flexible bubbles from its chest and back. The bubbles reduce the damage it would otherwise take when attacked. It protects its skin by covering its body in delicate bubbles. Beneath its happy-go-lucky air, it keeps a watchful eye on its surroundings.\n",
      "It can throw bubble-covered pebbles with precise control, hitting empty cans up to a hundred feet away. Its swiftness is unparalleled. It can scale a tower of more than 2,000 feet in a minute’s time.\n",
      "It creates throwing stars out of compressed water. When it spins them and throws them at high speed, these stars can split metal in two. It appears and vanishes with a ninja’s grace. It toys with its enemies using swift movements, while slicing them with throwing stars of sharpest water.\n",
      "They use their large ears to dig burrows. They will dig the whole night through. It has ears like shovels. Digging holes strengthens its ears so much that they can sever thick roots effortlessly. It excels at digging holes. Using its ears, it can dig a nest 33 feet deep in one night. It’s very sensitive to danger. The sound of Corviknight’s flapping will have Bunnelby digging a hole to hide underground in moments.\n",
      "With their powerful ears, they can heft boulders of a ton or more with ease. They can be a big help at construction sites. As powerful as an excavator, its ears can reduce dense bedrock to rubble. When it’s finished digging, it lounges lazily. With power equal to an excavator, it can dig through dense bedrock. It’s a huge help during tunnel construction. The fur on its belly retains heat exceptionally well. People used to make heavy winter clothing from fur shed by this Pokémon.\n",
      "While it’s an amiable Pokémon, if you touch it unexpectedly, it will heat up its body in an instant, and you’ll be burned. Its body is always warm. Trainers who live in cold areas apparently sleep with it in their bed. Its melodious cries are actually warnings. Fletchling will mercilessly peck at anything that enters its territory. When this Pokémon gets excited, its body temperature increases sharply. If you touch a Fletchling with bare hands, you might get burned.\n",
      "It scatters embers in the tall grass. Then bug Pokémon, frightened by the flames, come flying out, and Fletchinder gobbles them up. Its speed right after takeoff already puts it in the top speed class of all bird Pokémon. Fletchinder launches embers into the den of its prey. When the prey comes leaping out, Fletchinder’s sharp talons finish it off. Fletchinder are exceedingly territorial and aggressive. These Pokémon fight among themselves over feeding grounds.\n",
      "Its tough wings don’t allow fire to pass through them. A long time ago, firefighters’ outfits were made from Talonflame wings. Bird Pokémon make up most of its diet. It approaches at high speeds and smacks them down to the ground with its powerful kick. Talonflame mainly preys upon other bird Pokémon. To intimidate opponents, it sends embers spewing from gaps between its feathers. Talonflame dives toward prey at speeds of up to 310 mph and assaults them with powerful kicks, giving the prey no chance to escape.\n",
      "When under attack from bird Pokémon, it spews a poisonous black powder that causes paralysis on contact. The powder that covers its body regulates its temperature, so it can live in any region or climate.\n",
      "It lives hidden within thicket shadows. When predators attack, it quickly bristles the fur covering its body in an effort to threaten them. The beaks of bird Pokémon can’t begin to scratch its stalwart body. To defend itself, it spews powder.\n",
      "Vivillon with many different patterns are found all over the world. These patterns are affected by the climate of their habitat. The patterns on this Pokémon’s wings depend on the climate and topography of its habitat. It scatters colorful scales.\n"
     ]
    },
    {
     "name": "stdout",
     "output_type": "stream",
     "text": [
      "The stronger the opponent it faces, the more heat surges from its mane and the more power flows through its body. They set off on their own from their pride and live by themselves to become stronger. These hot-blooded Pokémon are quick to fight. When they’re young, they live with a pride. Once they’re able to hunt prey on their own, they’re kicked out and have to make their own way. This hot-blooded Pokémon is filled with curiosity. When it gets angry or starts fighting, its short mane gets hot.\n",
      "The male with the largest mane of fire is the leader of the pride. With fiery breath of more than 10,000 degrees Fahrenheit, they viciously threaten any challenger. The females protect the pride’s cubs. The males are usually lazy, but when attacked by a strong foe, a male will protect its friends with no regard for its own safety. The temperature of its breath is over 10,000 degrees Fahrenheit, but Pyroar doesn’t use it on its prey. This Pokémon prefers to eat raw meat.\n",
      "It flutters around fields of flowers and cares for flowers that are starting to wilt. It draws out the hidden power of flowers to battle. When the flowers of a well-tended flower bed bloom, it appears and celebrates with an elegant dance. It raises flowers and uses them as weapons. The more gorgeous the blossom, the more power it contains. It gives its own power to flowers, pouring its heart into caring for them. Floette never forgives anyone who messes up a flower bed.\n",
      "It claims exquisite flower gardens as its territory, and it obtains power from basking in the energy emitted by flowering plants. In times long past, governors of castles would invite Florges to create flower gardens to embellish the castle domains. It controls the flowers it grows. The petal blizzards that Florges triggers are overwhelming in their beauty and power. Its life can span several hundred years. It’s said to devote its entire life to protecting gardens.\n",
      "Thought to be one of the first Pokémon to live in harmony with humans, it has a placid disposition. If it has sunshine and water, it doesn’t need to eat, because it can generate energy from the leaves on its back.\n",
      "It can tell how its Trainer is feeling by subtle shifts in the grip on its horns. This empathic sense lets them run as if one being. They inhabit mountainous regions. The leader of the herd is decided by a battle of clashing horns.\n",
      "It follows Pangoro around like a henchman. When Pancham makes a big mistake, its leaf gets taken away. It’s desperate to intimidate its opponents. Be nice and pretend to be scared if you catch it glaring at you intensely. It chooses a Pangoro as its master and then imitates its master’s actions. This is how it learns to battle and hunt for prey. Wanting to make sure it’s taken seriously, Pancham’s always giving others a glare. But if it’s not focusing, it ends up smiling.\n",
      "This rowdy Pokémon boasts great physical strength. Many Trainers are also smitten by its lively character. Pangoro is the type to talk with its fists. It doesn’t say much as it pummels opponents with enough force to send a dump truck flying. This Pokémon is quick to anger, and it has no problem using its prodigious strength to get its way. It lives for duels against Obstagoon. Using its leaf, Pangoro can predict the moves of its opponents. It strikes with punches that can turn a dump truck into scrap with just one hit.\n",
      "Trimming its fluffy fur not only makes it more elegant but also increases the swiftness of its movements. Historically, in the Kalos region, these Pokémon were the designated guardians of the king. There was an era when aristocrats would compete to see who could trim their Furfrou’s fur into the most exquisite style. Left alone, its fur will grow longer and longer, but it will only allow someone it trusts to cut it.\n",
      "The organ that emits its intense psychic power is sheltered by its ears to keep power from leaking out. It has enough psychic energy to blast everything within 300 feet of itself, but it has no control over its power. Though Espurr’s expression never changes, behind that blank stare is an intense struggle to contain its devastating psychic power. There’s enough psychic power in Espurr to send a wrestler flying, but because this power can’t be controlled, Espurr finds it troublesome.\n",
      "When in danger, it raises its ears and releases enough psychic power to grind a 10-ton truck into dust. The eyeball patterns on the interior of its ears emit psychic energy. It keeps the patterns tightly covered because that power is too immense.\n",
      "Apparently this Pokémon is born when a departed spirit inhabits a sword. It attaches itself to people and drinks their life force. If anyone dares to grab its hilt, it wraps a blue cloth around that person’s arm and drains that person’s life energy completely. Honedge’s soul once belonged to a person who was killed a long time ago by the sword that makes up Honedge’s body. The blue eye on the sword’s handguard is the true body of Honedge. With its old cloth, it drains people’s lives away.\n",
      "When Honedge evolves, it divides into two swords, which cooperate via telepathy to coordinate attacks and slash their enemies to ribbons. The complex attack patterns of its two swords are unstoppable, even for an opponent greatly accomplished at swordplay. Honedge evolves into twins. The two blades rub together to emit a metallic sound that unnerves opponents. The two swords employ a strategy of rapidly alternating between offense and defense to bring down their prey.\n",
      "Generations of kings were attended by these Pokémon, which used their spectral power to manipulate and control people and Pokémon. Apparently, it can detect the innate qualities of leadership. According to legend, whoever it recognizes is destined to become king.\n",
      "It emits a scent that enraptures those who smell it. This fragrance changes depending on what it has eaten. In the past, rather than using perfume, royal ladies carried a Spritzee that would waft a fragrance they liked. A scent pouch within this Pokémon’s body allows it to create various scents. A change in its diet will alter the fragrance it produces. The scent its body gives off enraptures those who smell it. Noble ladies had no shortage of love for Spritzee.\n",
      "It devises various scents, pleasant and unpleasant, and emits scents that its enemies dislike in order to gain an edge in battle. Its scent is so overpowering that, unless a Trainer happens to really enjoy the smell, he or she will have a hard time walking alongside it. The scent that constantly emits from its fur is so powerful that this Pokémon’s companions will eventually lose their sense of smell. The scents Aromatisse can produce range from sweet smells that bolster allies to foul smells that sap an opponent’s will to fight.\n",
      "To entangle its opponents in battle, it extrudes white threads as sweet and sticky as cotton candy. Because it eats nothing but sweets, its fur is as sticky sweet as cotton candy. It eats its own weight in sugar every day. If it doesn’t get enough sugar, it becomes incredibly grumpy. The sweet smell of cotton candy perfumes Swirlix’s fluffy fur. This Pokémon spits out sticky string to tangle up its enemies.\n",
      "It can distinguish the faintest of scents. It puts its sensitive sense of smell to use by helping pastry chefs in their work. Its sense of smell is 100 million times better than a human’s, so even the faintest scent tells it about everything in the area. It’s like it can see with its nose! By taking in a person’s scent, it can sniff out their mental and physical condition. It’s hoped that this skill will have many medical applications. Slurpuff’s fur contains a lot of air, making it soft to the touch and lighter than it looks.\n",
      "It draws prey near with its blinking lights and then wraps them up in its long tentacles and holds them in place. When exchanging information with others of its kind, it flashes the light-emitting spots on its body in a complex rhythm. It spins while making its luminescent spots flash. These spots allow it to communicate with others by using different patterns of light. By exposing foes to the blinking of its luminescent spots, Inkay demoralizes them, and then it seizes the chance to flee.\n"
     ]
    },
    {
     "name": "stdout",
     "output_type": "stream",
     "text": [
      "When it comes to strong hypnosis, there’s an endless number of people who utilize Malamar for their nefarious deeds. It flashes the pattern on its torso to control its prey and draw them in. The edges of its fins are supremely sharp. Gazing at its luminescent spots will quickly induce a hypnotic state, putting the observer under Malamar’s control. It’s said that Malamar’s hypnotic powers played a role in certain history-changing events.\n",
      "Two Binacle live together on one rock. When they fight, one of them will move to a different rock. They stretch and then contract, yanking their rocks along with them in bold hops. They eat seaweed that washes up on the shoreline. After two Binacle find a suitably sized rock, they adhere themselves to it and live together. They cooperate to gather food during high tide. If the two don’t work well together, both their offense and defense fall apart. Without good teamwork, they won’t survive.\n",
      "When they evolve, two Binacle multiply into seven. They fight with the power of seven Binacle. Barbaracle’s legs and hands have minds of their own, and they will move independently. But they usually follow the head’s orders. Seven Binacle come together to form one Barbaracle. The Binacle that serves as the head gives orders to those serving as the limbs. Having an eye on each palm allows it to keep watch in all directions. In a pinch, its limbs start to act on their own to ensure the enemy’s defeat.\n",
      "It vanishes into seaweed and remains perfectly still to avoid attacks from large Pokémon. Rotten seaweed is its main food source. It’s not good at swimming, so it clings to the seaweed. In the Alola region, it’s often found near Dhelmise. It drifts in the ocean, blending in with floating seaweed. When other Pokémon come to feast on the seaweed, Skrelp feasts on them instead. Skrelp looks like a piece of rotten seaweed, so it can blend in with seaweed drifting on the ocean and avoid being detected by enemies.\n",
      "This vicious Pokémon sprays a poisonous liquid on opponents that come near. For whatever reason, it gets along really well with Dhelmise. It blends in with seaweed to ambush its prey and then takes them down with a poisonous liquid strong enough to melt metal. Dragalge uses a poisonous liquid capable of corroding metal to send tankers that enter its territory to the bottom of the sea. Dragalge generates dragon energy by sticking the plume on its head out above the ocean’s surface and bathing it in sunlight.\n",
      "Its claws occasionally fall off, and it keeps a low profile until they grow back. The meat of its claws is so delicious! It moves around by jetting water from its right pincer. It has a poor sense of balance, so it’s terrible at swimming straight. Clauncher’s claws can fall off during battle, but they’ll regenerate. The meat inside the claws is popular as a delicacy in Galar. By detonating gas that accumulates in its right claw, this Pokémon launches water like a bullet. This is how Clauncher defeats its enemies.\n",
      "It compresses the water it has sucked up and then projects it with enough power to punch a hole right through a thick sheet of iron. Its right arm is packed with meat. When its pincer falls off, it’s exported to be used as a cooking ingredient. After using the feelers on its oversized claw to detect the location of prey, Clawitzer launches a cannonball of water at its target. Clawitzer’s right arm is a cannon that launches projectiles made of seawater. Shots from a Clawitzer’s cannon arm can sink a tanker.\n",
      "They make their home in deserts. They can generate their energy from basking in the sun, so eating food is not a requirement. The frills on either side of its head have cells that generate electricity when exposed to sunlight. When spread, the frills on its head act like solar panels, generating the power behind this Pokémon’s electric moves. The sun powers this Pokémon’s electricity generation. Interruption of that process stresses Helioptile to the point of weakness.\n",
      "They flare their frills and generate energy. A single Heliolisk can generate sufficient electricity to power a skyscraper. It stimulates its muscles with electricity, boosting the strength in its legs and enabling it to run 100 yards in five seconds. A now-vanished desert culture treasured these Pokémon. Appropriately, when Heliolisk came to the Galar region, treasure came with them. One Heliolisk basking in the sun with its frill outspread is all it would take to produce enough electricity to power a city.\n",
      "Its large jaw has incredible destructive power. Some theories suggest that its restored form is different from its form of long ago. Tyrunt is spoiled and selfish. It may just be trying to frolic, but sometimes the ones it’s trying to frolic with are gravely injured. This is an ancient Pokémon, revived in modern times. It has a violent disposition, and it’ll tear apart anything it gets between its hefty jaws. This Pokémon is selfish and likes to be pampered. It can also inflict grievous wounds on its Trainer just by playing around.\n",
      "Complete restoration is impossible, allowing room for theories that its entire body was once covered in a feather-like coat. The king of the ancient world, it can easily crunch a car with the devastating strength of its enormous jaws. This Pokémon is from about 100,000,000 years ago. It has the presence of a king, vicious but magnificent. A single bite of Tyrantrum’s massive jaws will demolish a car. This Pokémon was the king of the ancient world.\n",
      "It lived in cold areas in ancient times. It’s said that when Amaura whinnies, auroras appear in the night sky. Amaura was restored successfully, but it’s not expected to live long because of the heat of the current environment. This Pokémon was successfully restored from a fossil. In the past, it lived with others of its kind in cold lands where there were fewer predators. Amaura is an ancient Pokémon that has gone extinct. Specimens of this species can sometimes be found frozen in ice.\n",
      "An Aurorus was found frozen solid within a glacier, just as it appeared long ago, which became quite a big event in the news. This usually quiet and kindly Pokémon has a surface temperature of around –240 degrees Fahrenheit. Aurorus was restored from a fossil. It’s said that when this Pokémon howls, auroras appear in the night sky. When gripped by rage, Aurorus will emanate freezing air, covering everything around it in ice.\n",
      "Once a fight breaks out, it will unflinchingly charge at dragon Pokémon that are many times larger than itself. Sylveon wraps its ribbonlike feelers around its Trainer’s arm because this touch enables it to read its Trainer’s feelings. By releasing enmity-erasing waves from its ribbonlike feelers, Sylveon stops any conflict. There’s a Galarian fairy tale that describes a beautiful Sylveon vanquishing a dreadful dragon Pokémon.\n",
      "It overwhelms opponents with quick moves, but sometimes it showboats for too long when it’s using a special move and gets itself into a pinch. In combat, Hawlucha leaps nimbly about, taking advantage of its opponents’ blind spots. It’s also skilled at using superb submission holds. It drives its opponents to exhaustion with its agile maneuvers, then ends the fight with a flashy finishing move. It always strikes a pose before going for its finishing move. Sometimes opponents take advantage of that time to counterattack.\n",
      "It sneaks into people’s homes and steals electricity from their outlets. When your electric bill seems off, it’s the handiwork of this rascal. Its upper whiskers are sensors that survey its surroundings. Its lower whiskers are organs that shoot electricity. A Dedenne’s whiskers pick up electrical waves other Dedenne send out. These Pokémon share locations of food or electricity with one another. Since Dedenne can’t generate much electricity on its own, it steals electricity from outlets or other electric Pokémon.\n",
      "Some say that deep beneath the surface of the world, a pack of Carbink live with their queen in a kingdom of jewels. To keep the jewels on their bodies free of tarnish, packs of Carbink use their soft manes to polish one another’s jewels. When beset by attackers, Carbink wipes them all out by firing high-energy beams from the gems embedded in its body. It’s said that somewhere in the world, there’s a mineral vein housing a large pack of slumbering Carbink. It’s also said that this pack has a queen.\n"
     ]
    },
    {
     "name": "stdout",
     "output_type": "stream",
     "text": [
      "It uses its horns to check out its surroundings. They’re very sensitive, so if you grab them, it will feel a strong shock and be unable to move. Its body is mostly water. If it dries out, it will die, so it’s always sitting with perfect stillness in the shade. Because most of its body is water, it will dry up if the weather becomes too arid. It’s considered the weakest dragon Pokémon. Their horns are powerful sensors. As soon as Goomy pick up any sign of enemies, they go into hiding. This is how they’ve survived.\n",
      "It crawls along sluggishly. The swirly protrusion on its back is filled with its brain and other organs. Its entire body is covered with gooey mucus that can dissolve anything. Be sure to put gloves on if you’re going to touch it. Although this Pokémon isn’t very strong, its body is coated in a caustic slime that can melt through anything, so predators steer clear of it. The lump on its back contains its tiny brain. It thinks only of food and escaping its enemies.\n",
      "It’s very friendly toward people. If you grow close to it, Goodra will hug you with its sticky, slime-covered body. Don’t get mad. Underneath its slimy skin is a thick layer of fat, and the combination of the two makes enemies’ attacks slide right off. Sometimes it misunderstands instructions and appears dazed or bewildered. Many Trainers don’t mind, finding this behavior to be adorable. Its form of offense is forcefully stretching out its horns. The strikes land 100 times harder than any blow from a heavyweight boxer.\n",
      "Although it’s unclear why it collects keys, giving it a key makes Klefki very happy. However, it apparently only likes master keys. Long ago it lived in mines, but once the minerals that make up its diet became scarcer, Klefki began appearing in human settlements. This Pokémon is constantly collecting keys. Entrust a Klefki with important keys, and the Pokémon will protect them no matter what. Klefki sucks in metal ions with the horn topping its head. It seems this Pokémon loves keys so much that its head needed to look like one, too.\n",
      "By imitating the voice of a child, it causes people to get hopelessly lost deep in the forest. It’s trying to make friends with them. An unknown spirit came to lodge in a tree stump, creating this Pokémon. A cure-all can be made from an infusion of its green leaves. After a lost child perished in the forest, their spirit possessed a tree stump, causing the spirit’s rebirth as this Pokémon. With a voice like a human child’s, it cries out to lure adults deep into the forest, getting them lost among the trees.\n",
      "It’s feared as a ghost of the forest. Lumberjacks bring along Fire types, which Trevenant hates, when they enter the forest. This Pokémon controls trees via roots stretching from its feet, and it will attack anyone that dares to ravage the forest. People fear it due to a belief that it devours any who try to cut down trees in its forest, but to the Pokémon it shares its woods with, it’s kind. Small roots that extend from the tips of this Pokémon’s feet can tie into the trees of the forest and give Trevenant control over them.\n",
      "The pumpkin body is inhabited by a spirit trapped in this world. As the sun sets, it becomes restless and active. It is said to carry wandering spirits to the place where they belong so they can move on.\n",
      "Singing in eerie voices, they wander town streets on the night of the new moon. Anyone who hears their song is cursed. It enwraps its prey in its hairlike arms. It sings joyfully as it observes the suffering of its prey.\n",
      "It blocks opponents’ attacks with the ice that shields its body. It uses cold air to repair any cracks with new ice. Using air of -150 degrees Fahrenheit, they freeze opponents solid. They live in herds above the snow line on mountains. They chill the air around them to −150 degrees Fahrenheit, freezing the water in the air into ice that they use as armor. This Pokémon lives in areas of frigid cold. It secures itself to the back of an Avalugg by freezing its feet in place.\n",
      "Its ice-covered body is as hard as steel. Its cumbersome frame crushes anything that stands in its way. The way several Bergmite huddle on its back makes it look like an aircraft carrier made of ice. At high latitudes, this Pokémon can be found with clusters of Bergmite on its back as it swims among the icebergs. As Avalugg moves about during the day, the cracks in its body deepen. The Pokémon’s body returns to a pristine state overnight.\n",
      "Fruits are its favorite foods. This gourmet carefully picks out just the ripe ones using its sonar. It flies around in search of fruit to eat. It uses ultrasonic waves to detect which fruits are ripe. After nightfall, they emerge from the caves they nest in during the day. Using their ultrasonic waves, they go on the hunt for ripened fruit. No wavelength of sound is beyond Noibat’s ability to produce. The ultrasonic waves it generates can overcome much larger Pokémon.\n",
      "Although it has a violent disposition, if you give it a nice ripe fruit that it loves, Noivern will suddenly become tame. This hot-blooded Pokémon attacks anything it sees with ultrasonic waves that can crush boulders. Aggressive and cruel, this Pokémon will ruthlessly torment enemies that are helpless in the dark. Flying through the darkness, it weakens enemies with ultrasonic waves that could crush stone. Its fangs finish the fight.\n",
      "Legends say it can share eternal life. It slept for a thousand years in the form of a tree before its revival. When the horns on its head shine in seven colors, it is said to be sharing everlasting life.\n",
      "When this legendary Pokémon’s wings and tail feathers spread wide and glow red, it absorbs the life force of living creatures. When its life comes to an end, it absorbs the life energy of every living thing and turns into a cocoon once more.\n",
      "This is Zygarde’s form when it has gathered 50% of its cells. It wipes out all those who oppose it, showing not a shred of mercy. It’s thought to be monitoring the ecosystem. There are rumors that even greater power lies hidden within it. This is Zygarde’s form when about half of its pieces have been assembled. It plays the role of monitoring the ecosystem. Some say it can change to an even more powerful form when battling those who threaten the ecosystem.\n",
      "A sudden transformation of Carbink, its pink, glimmering body is said to be the loveliest sight in the whole world. It can instantly create many diamonds by compressing the carbon in the air between its hands.\n",
      "This troublemaker sends anything and everything to faraway places using its loop, which can warp space. It gathers things it likes and passes them through its loop to teleport them to a secret place. In its true form, it possess a huge amount of power. Legends of its avarice tell how it once carried off an entire castle to gain the treasure hidden within. It is said to be able to seize anything it desires with its six rings and six huge arms. With its power sealed, it is transformed into a much smaller form.\n",
      "It lets out billows of steam and disappears into the dense fog. It’s said to live in mountains where humans do not tread. It expels its internal steam from the arms on its back. It has enough power to blow away a mountain.\n",
      "It sends its feathers, which are as sharp as blades, flying in attack. Its legs are strong, so its kicks are also formidable. It feels relaxed in tight, dark places and has been known to use its Trainer’s pocket or bag as a nest. At a distance, it launches its sharp feathers while flying about. If the enemy gets too close, Rowlet switches tactics and delivers vicious kicks. During the day, it builds up energy via photosynthesis. At night, it flies silently through the sky, on the prowl for prey.\n",
      "This narcissistic Pokémon is a clean freak. If you don’t groom it diligently, it will stop listening to you. Supremely sensitive to the presence of others, it can detect opponents standing behind it, flinging its sharp feathers to take them out. It throws one knifelike feather after another at its enemies, and each one precisely strikes a weak point. These feathers are known as blade quills. It never slacks when it comes to the task of cleaning its feathers. Thorough preening keeps it looking spiffy and its blade quills nice and sharp.\n"
     ]
    },
    {
     "name": "stdout",
     "output_type": "stream",
     "text": [
      "It nocks its arrow quills and shoots them at opponents. When it simply can’t afford to miss, it tugs the vine on its head to improve its focus. Decidueye can nock and fire an arrow at an enemy in a tenth of a second, so its battles are decided in the blink of an eye. As if wielding a bow, it launches the arrow quills hidden among the feathers of its wings. Decidueye’s shots never miss. In a tenth of a second, it can nock and fire an arrow quill, piercing an opponent’s weak point before they notice what’s happening.\n",
      "If you try too hard to get close to it, it won’t open up to you. Even if you do grow close, giving it too much affection is still a no-no. Its coat regrows twice a year. When the time comes, Litten sets its own body on fire and burns away the old fur. It spends even the smallest amount of downtime grooming its fur with its tongue. Loose fur gathers in its stomach and serves as fuel for fiery moves. Trying to pet Litten before it trusts you will result in a nasty scratch from its sharp claws. Be careful.\n",
      "It can act spoiled if it grows close to its Trainer. A powerful Pokémon, its sharp claws can leave its Trainer’s whole body covered in scratches. When its mane is standing on end, you can tell it’s feeling good. When it isn’t feeling well, its fur will lie down flat. In the midst of battle, the fire pouch on Torracat’s neck rings like a bell and produces stronger flames than usual. When facing a powerful enemy, Torracat’s fighting spirit gets pumped up, and its fire bell blazes hotter.\n",
      "Although it’s rough mannered and egotistical, it finds beating down unworthy opponents boring. It gets motivated for stronger opponents. When its fighting spirit is set alight, the flames around its waist become especially intense. It excels at violent, no-holds-barred battles. The temperature of the flames that issue from its navel exceeds 3,600 degrees Fahrenheit. Incineroar’s rough and aggressive behavior is its most notable trait, but the way it helps out small Pokémon shows that it has a kind side as well.\n",
      "The balloons it inflates with its nose grow larger and larger as it practices day by day. Popplio gets on top of its bouncy water balloons to jump higher. It’s quite the acrobatic fighter! It creates special bouncy balloons to send at its opponents. When the balloons pop, the sheer force of their bursting is what deals damage. If Popplio want to create big, powerful balloons, they must be persistent. It takes daily practice for these Pokémon to develop their skills.\n",
      "It gets excited when it sees a dance it doesn’t know. This hard worker practices diligently until it can learn that dance. It attacks by smacking its enemies with the exploding water balloons that it creates. As if dancing, it artfully dodges the attacks of its enemies. All the while, it’s busy forming a bunch of balloons to overwhelm its foes. On nights when the sea is calm, Brionne dance with one another to the singing of the Primarina that’s leading them.\n",
      "To Primarina, every battle is a stage. It takes down its prey with beautiful singing and dancing. Also known as a songstress, it has a fantastical look on moonlit nights when it leads its colony in song. With its mouth, it makes sonic waves that sound like beautiful singing. It uses the sonic waves to control its water balloons. For Primarina, every battle’s a stage. Its singing and the dancing of its balloons will mesmerize the audience.\n",
      "It can peck at a rate of 16 times a second to drill holes in trees. It uses the holes for food storage and for nesting. This Pokémon feeds on berries, whose leftover seeds become the ammunition for the attacks it fires off from its mouth. It pecks at trees with its hard beak. You can get some idea of its mood or condition from the rhythm of its pecking. It may look spindly, but its neck muscles are heavy-duty. It can peck at a tree 16 times per second!\n",
      "It eats berries and stores their seeds in its beak. When it encounters enemies or prey, it fires off all the seeds in a burst. By bending its beak, it can produce a variety of calls and brand itself a noisy nuisance for its neighbors. It can bend the tip of its beak to produce over a hundred different cries at will. From its mouth, it fires the seeds of berries it has eaten. The scattered seeds give rise to new plants.\n",
      "When it battles, its beak heats up. The temperature can easily exceed 212 degrees Fahrenheit, causing severe burns when it hits. Within its beak, its internal gas ignites, explosively launching seeds with enough power to pulverize boulders. They smack beaks with others of their kind to communicate. The strength and number of hits tell each other how they feel. Known for forming harmonious couples, this Pokémon is brought to wedding ceremonies as a good luck charm.\n",
      "With its sharp fangs, it will bite anything. It did not originally live in Alola but was imported from another region. It wanders around in a never-ending search for food. At dusk, it collapses from exhaustion and falls asleep on the spot. Its stomach takes up most of its long torso. It’s a big eater, so the amount Trainers have to spend on its food is no laughing matter. Although it will eat anything, it prefers fresh living things, so it marches down streets in search of prey.\n",
      "When it finds a trace of its prey, it patiently stakes out the location...but it’s always snoozing by nightfall. It adores having Rattata and Raticate for dinner, but as it’s diurnal, it never encounters them. This Pokémon boasts incredible patience. Although it wasn’t originally found in Alola, this Pokémon was brought over a long time ago when there was a huge Rattata outbreak. Patient by nature, this Pokémon loses control of itself and pounces when it spots its favorite meal—Rattata!\n",
      "If you find its nest, you shouldn’t stick your hand inside. You’ll get bitten by an irritated Grubbin. It spits a sticky thread to stop opponents in their tracks, and then it grabs them in its sharp, sturdy mandibles to take them down. Its natural enemies, like Rookidee, may flee rather than risk getting caught in its large mandibles that can snap thick tree branches. It uses its big jaws to dig nests into the forest floor, and it loves to feed on sweet tree sap.\n",
      "It buries itself in fallen leaves and barely moves, munching away on humus. If you accidentally step on one, you’ll get a shock! Its stout shell provides excellent defense from attacks. It uses electricity on persistent opponents. While its durable shell protects it from attacks, Charjabug strikes at enemies with jolts of electricity discharged from the tips of its jaws. Its digestive processes convert the leaves it eats into electricity. An electric sac in its belly stores the electricity for later use.\n",
      "It has an organ that generates electricity in its abdomen. It concentrates energy in its strong jaws and fires off powerful jolts of electricity. Vikavolt flusters opponents with acrobatic flying maneuvers. This creates an opening for it to deliver an electric beam attack. It builds up electricity in its abdomen, focuses it through its jaws, and then fires the electricity off in concentrated beams. If it carries a Charjabug to use as a spare battery, a flying Vikavolt can rapidly fire high-powered beams of electricity.\n",
      "While guarding its weak points with its pincers, it looks for an opening and unleashes punches. When it loses, it foams at the mouth and faints. It punches so much, its pincers often come off from overuse, but they grow back quickly. What little meat they contain is rich and delicious. Its hard pincers are well suited to both offense and defense. Fights between two Crabrawler are like boxing matches. Crabrawler has been known to mistake Exeggutor for a coconut tree and climb it. The enraged Exeggutor shakes it off and stomps it.\n",
      "It aimed for the top but got lost and ended up on a snowy mountain. Being forced to endure the cold, this Pokémon evolved and grew fur. It just throws punches indiscriminately. In times of desperation, it can lop off its own pincers and fire them like rockets. It stores coldness in its pincers and pummels its foes. It can even smash thick walls of ice to bits! Before it stops to think, it just starts pummeling. There are records of its turning back avalanches with a flurry of punches.\n"
     ]
    },
    {
     "name": "stdout",
     "output_type": "stream",
     "text": [
      "It beats its wings together to create fire. As it moves in the steps of its beautiful dance, it bathes opponents in intense flames. This Oricorio has sipped red nectar. Its passionate dance moves cause its enemies to combust in both body and mind. It wins the hearts of its enemies with its passionate dancing and then uses the opening it creates to burn them up with blazing flames. This Oricorio has drunk red nectar. If its Trainer gives the wrong order, this passionate Pokémon becomes fiercely angry.\n",
      "Nectar and pollen are its favorite fare. In fields of flowers, it gets into skirmishes with Butterfree over food. Cutiefly can pick up the auras of living things. It skillfully reads those auras to predict its foes’ movements and make fools of them. Nectar and pollen are its favorite fare. You can find Cutiefly hovering around Gossifleur, trying to get some of Gossifleur’s pollen. An opponent’s aura can tell Cutiefly what that opponent’s next move will be. Then Cutiefly can glide around the attack and strike back.\n",
      "Rain makes pollen damp, so Ribombee hates rain. When it sees ominous clouds, it finds a hollow in a tree, where it waits stock-still. It can predict the weather from moisture levels and wind direction. Ribombee only reveals itself when there are a few clear days in a row. It makes pollen puffs from pollen and nectar. The puffs’ effects depend on the type of ingredients and how much of each one is used. Ribombee absolutely hate getting wet or rained on. In the cloudy Galar region, they are very seldom seen.\n",
      "As they develop, their disposition grows more violent and aggressive. Many Trainers find them too much to handle and abandon them. When it rubs the rocks on its neck against you, that’s proof of its love for you. However, the rocks are sharp, so the gesture is quite painful! This Pokémon can bond very strongly with its Trainer, but it also has a habit of biting. Raising a Rockruff for a long time can be challenging. This Pokémon intimidates opponents by striking the ground with the rocks on its neck. The moment an opponent flinches, Rockruff attacks.\n",
      "Its quick movements confuse its enemies. Well equipped with claws and fangs, it also uses the sharp rocks in its mane as weapons. When properly raised from a young age, it will become a trustworthy partner that will absolutely never betray its Trainer. The sharp rocks in its mane can cut like knives. Lycanroc wears its prey down by degrees before finishing them off. The rocks in its mane are sharper than a knife. Fragments that break off are treasured as good luck charms.\n",
      "They’re weak, so they move in schools. However, they can also often be seen all alone, having strayed from the school. When it’s in a jam, its shining eyes attract others of its kind. The light from its eyes is visible almost 25 miles away. Individually, they’re incredibly weak. It’s by gathering up into schools that they’re able to confront opponents. When it senses danger, its eyes tear up. The sparkle of its tears signals other Wishiwashi to gather.\n",
      "They eat Corsola branches, so Mareanie are hated by craftsmen who work with Corsola branches that have naturally fallen off. Aside from its head, its body parts regenerate quickly if they’re cut off. After a good night’s sleep, Mareanie is back to normal. The first symptom of its sting is numbness. The next is an itching sensation so intense that it’s impossible to resist the urge to claw at your skin. Unlike their Alolan counterparts, the Mareanie of the Galar region have not yet figured out that the branches of Corsola are delicious.\n",
      "To attack, this Pokémon sends toxic spikes flying at its enemies. Ones that come close get mown down by the claws on its feet. With its 12 legs, it creates a dome to shelter within. The flow of the tides doesn’t affect Toxapex in there, so it’s very comfortable. To survive in the cold waters of Galar, this Pokémon forms a dome with its legs, enclosing its body so it can capture its own body heat. Within the poison sac in its body is a poison so toxic that Pokémon as large as Wailord will still be suffering three days after it first takes effect.\n",
      "It loves playing in the mud. If it isn’t showered with mud on a daily basis, it gets stressed out and stops listening to its Trainer. Possessing mighty power, Mudbray can be loaded with 50 times its own body weight and will be totally fine. Loads weighing up to 50 times as much as its own body weight pose no issue for this Pokémon. It’s skilled at making use of mud. It eats dirt to create mud and smears this mud all over its feet, giving them the grip needed to walk on rough terrain without slipping.\n",
      "It remains calm and unmoving no matter the situation. It mixes dirt with the saliva in its mouth to make a special kind of mud. It can trudge mountain roads without rest for three days and three nights, all the while dragging a 10-ton load. Mud that hardens around a Mudsdale’s legs sets harder than stone. It’s so hard that it allows this Pokémon to scrap a truck with a single kick. Mudsdale has so much stamina that it could carry over 10 tons across the Galar region without rest or sleep.\n",
      "When two Dewpider meet, they display their water bubbles to each other. Then the one with the smaller bubble gets out of the other’s way. It can only breathe oxygen that has dissolved in water, so it wears a water bubble on its head when it walks around on land. It forms a water bubble at the rear of its body and then covers its head with it. Meeting another Dewpider means comparing water-bubble sizes. Dewpider normally lives underwater. When it comes onto land in search of food, it takes water with it in the form of a bubble on its head.\n",
      "It usually passes its time in the water. When its belly is full, it stores its subdued prey in the water bubble on its head. It has a habit of storing things it values in its water bubble. If its Trainer doesn’t watch out, Araquanid will try to put them in its bubble! It launches water bubbles with its legs, drowning prey within the bubbles. This Pokémon can then take its time to savor its meal. It acts as a caretaker for Dewpider, putting them inside its bubble and letting them eat any leftover food.\n",
      "When the sun rises, Fomantis spreads its four leaves and bathes in the sunlight. The tip of its head has a pleasant aroma. It loves the sunshine. When it basks in the sunlight regularly, it grows up with vivid coloration. When bathed in sunlight, this Pokémon emits a pleasantly sweet scent, which causes bug Pokémon to gather around it. During the day, Fomantis basks in sunlight and sleeps peacefully. It wakes and moves around at night.\n",
      "For self-protection, it pretends to be a bug Pokémon. Both of its arms bear keen-edged petals. As it slashes into its enemies, it looks like it’s dancing. Its elegant appearance has led some to call it the most glamorous Grass Pokémon. This Pokémon resembles a beautiful flower. A properly raised Lurantis will have gorgeous, brilliant colors. The petals on this Pokémon’s arms are thin and super sharp, and they can fire laser beams if Lurantis gathers light first.\n",
      "It scatters its shining spores around itself. Even though they’re dangerous, nighttime tours of forests where Morelull live are popular. It likes damp dark places. When night falls, the spores filling the caps of its mushrooms glow. Pokémon living in the forest eat the delicious caps on Morelull’s head. The caps regrow overnight. Morelull live in forests that stay dark even during the day. They scatter flickering spores that put enemies to sleep.\n",
      "It puts its prey to sleep and siphons off their vitality through the tip of its arms. If one of its kind is weakened, it helps by sending it vitality. When it starts fighting for territory with Parasect, the entire area gets completely coated in spores! Its flickering spores lure in prey and put them to sleep. Once this Pokémon has its prey snoozing, it drains their vitality with its fingertips. If you see a light deep in a forest at night, don’t go near. Shiinotic will make you fall fast asleep.\n",
      "The males will do whatever the females tell them. They give the females most of their food. Due to malnutrition, the males can’t evolve. It weakens opponents and sends them reeling with its poisonous gas. Salandit doesn’t deal well with Spinda, since it’s always reeling. Its venom sacs produce a fluid that this Pokémon then heats up with the flame in its tail. This process creates Salandit’s poisonous gas. This sneaky Pokémon will slink behind its prey and immobilize it with poisonous gas before the prey even realizes Salandit is there.\n"
     ]
    },
    {
     "name": "stdout",
     "output_type": "stream",
     "text": [
      "Salazzle lives deep in caves and forces the Salandit it has attracted with its pheromones to serve it. It punishes Salandit that couldn’t bring it food with a fierce slap of its flame-spewing palm. Only female Salazzle exist. They emit a gas laden with pheromones to captivate male Salandit. The winner of competitions between Salazzle is decided by which one has the most male Salandit with it.\n",
      "It boasts power enough to split large trees in half. The organ on its rear releases an odor that it uses to communicate with others of its kind. Stufful hates to be hugged or touched in any way. It will squirm, thrash, and resist with amazing power. Its fluffy fur is a delight to pet, but carelessly reaching out to touch this Pokémon could result in painful retaliation. The way it protects itself by flailing its arms may be an adorable sight, but stay well away. This is flailing that can snap thick tree trunks.\n",
      "It waves its hands wildly in intimidation and warning. Life is over for anyone who doesn’t run away as fast as possible. It boasts tremendous physical strength. Many people call it the most dangerous Pokémon in the Alola region. Once it accepts you as a friend, it tries to show its affection with a hug. Letting it do that is dangerous—it could easily shatter your bones. The moves it uses to take down its prey would make a martial artist jealous. It tucks subdued prey under its arms to carry them to its nest.\n",
      "Because of its sweet, delicious aroma, bird Pokémon are always after it, but it’s not intelligent enough to care. It tries to resist being swallowed by a bird Pokémon by spinning the sepals on its head. It’s usually a fruitless attempt. Its body gives off a sweet, fruity scent that is extremely appetizing to bird Pokémon. When under attack, it secretes a sweet and delicious sweat. The scent only calls more enemies to it.\n",
      "It’s protected by its hard sepals, so it plays with bird Pokémon without worry. They peck it relentlessly, but it doesn’t care. It bounces around, swinging the sepals on its head with abandon. They’re quite painful when they smack you! As it twirls like a dancer, a sweet smell spreads out around it. Anyone who inhales the scent will feel a surge of happiness. Any Corvisquire that pecks at this Pokémon will be greeted with a smack from its sepals followed by a sharp kick.\n",
      "A master of grand and beautiful kicks, it can knock out even kickboxing champions with a single blow. A Pokémon with an aggressive personality and a mastery of kicking, it cackles every time it kicks an opponent. This feared Pokémon has long, slender legs and a cruel heart. It shows no mercy as it stomps on its opponents. A kick from the hardened tips of this Pokémon’s legs leaves a wound in the opponent’s body and soul that will never heal.\n",
      "It stretches sticky vines out from its head and picks flowers to adorn itself with. When it doesn’t have any flowers, it feels uneasy. It picks flowers and sticks them to its body with fluids it produces. The aroma that wafts from its petals has a healing effect. Comfey picks flowers with its vine and decorates itself with them. For some reason, flowers won’t wither once they’re attached to a Comfey. These Pokémon smell very nice. All Comfey wear different flowers, so each of these Pokémon has its own individual scent.\n",
      "It normally spends its time meditating in the treetops. It throws Poké Balls and gives other Pokémon orders as it pleases. Oranguru don’t get along with each other, so they’re always engaging in battles of wits to decide which one is superior. With waves of its fan—made from leaves and its own fur—Oranguru skillfully gives instructions to other Pokémon. It knows the forest inside and out. If it comes across a wounded Pokémon, Oranguru will gather medicinal herbs to treat it.\n",
      "They use their saliva to stick leaves to their shoulders. You can tell what troop they belong to from the position of the leaves. Berries are its weapons as well as the staple of its diet. The one that can throw a berry the farthest is the boss of the troop. Displaying amazing teamwork, they follow the orders of their boss as they all help out in the search for their favorite berries. Passimian live in groups of about 20, with each member performing an assigned role. Through cooperation, the group survives.\n",
      "It will pick up anything it finds on the ground. Sometimes it finds coins, so Murkrow and Meowth will go after it. An astonishingly cowardly Pokémon, Wimpod will whir its legs at high speeds to run away if anything comes near it. It’s nature’s cleaner—it eats anything and everything, including garbage and rotten things. The ground near its nest is always clean. Wimpod gather in swarms, constantly on the lookout for danger. They scatter the moment they detect an enemy’s presence.\n",
      "The shell covering its body is as hard as diamond. This Pokémon will do anything it takes to win. Its claws, which it can extend and retract at will, are its greatest weapons. Golisopod is sometimes accompanied by Wimpod. It will do anything to win, taking advantage of every opening and finishing opponents off with the small claws on its front legs. They live in sunken ships or in holes in the seabed. When Golisopod and Grapploct battle, the loser becomes the winner’s meal.\n",
      "It likes the shovel on its head, so Sandygast will get serious and fight any children who come to take it back. If you build sand mounds when you’re playing, destroy them before you go home, or they may get possessed and become Sandygast. Grudges of the dead have possessed a mound of sand and become a Pokémon. Sandygast is fond of the shovel on its head. Sandygast mainly inhabits beaches. It takes control of anyone who puts their hand into its mouth, forcing them to make its body bigger.\n",
      "Each of its grains of sand has its own will. Palossand eats small Pokémon and siphons away their vital essence while they’re still alive. Once it has whipped up a sandstorm to halt its opponents in their tracks, this terrifying Pokémon snatches away their vitality. Palossand is known as the Beach Nightmare. It pulls its prey down into the sand by controlling the sand itself, and then it sucks out their souls. This Pokémon lives on beaches, but it hates water. Palossand can’t maintain its castle-like shape if it gets drenched by a heavy rain.\n",
      "The tradition known as Pyukumuku chucking started from the custom of throwing Pyukumuku back into the sea after they wash onshore. Its entire body is covered in its own slime. If you accidentally step on one, you’ll slip, and it will get mad and smack you! It lives in warm, shallow waters. If it encounters a foe, it will spit out its internal organs as a means to punch them. It’s covered in a slime that keeps its skin moist, allowing it to stay on land for days without drying up.\n",
      "This is its form once it has awakened and evolved. Freed from its heavy mask, its speed is greatly increased. Through the bond it formed with its Trainer, its will was strengthened, and it was able to destroy its control mask. A solid bond of trust between this Pokémon and its Trainer awakened the strength hidden within Silvally. It can change its type at will. The final factor needed to release this Pokémon’s true power was a strong bond with a Trainer it trusts.\n",
      "Originally making its home in the ozone layer, it hurtles to the ground when the shell enclosing its body grows too heavy. Strong impacts can knock it out of its shell. This Pokémon was born from mutated nanoparticles. It lives in the ozone layer, where it becomes food for stronger Pokémon. When it tries to run away, it falls to the ground. Although its outer shell is uncommonly durable, the shock of falling to the ground smashes the shell to smithereens.\n",
      "It is born asleep, and it dies asleep. All its movements are apparently no more than the results of it tossing and turning in its dreams. The log it holds was given to it by its parents at birth. It has also been known to cling to the arm of a friendly Trainer. It stays asleep from the moment it’s born. When it falls into a deep sleep, it stops moving altogether. It remains asleep from birth to death as a result of the sedative properties of the leaves that form its diet.\n",
      "It lives in volcanoes and eats sulfur and other minerals. Materials from the food it eats form the basis of its explosive shell. Its exploding shell poses a real danger but is sensitive to moisture. On rainy days, Turtonator takes silent refuge in caves. Explosive substances coat the shell on its back. Enemies that dare attack it will be blown away by an immense detonation. Eating sulfur in its volcanic habitat is what causes explosive compounds to develop in its shell. Its droppings are also dangerously explosive.\n"
     ]
    },
    {
     "name": "stdout",
     "output_type": "stream",
     "text": [
      "When it’s surprised or agitated, the 14 fur spikes on its back will stand up involuntarily. Its capacity to produce electricity is somewhat limited, so it gets charged up by letting lightning strike it! With the long hairs on its back, this Pokémon takes in electricity from other electric Pokémon. It stores what it absorbs in an electric sac. When it’s in trouble, it curls up into a ball, makes its fur spikes stand on end, and then discharges electricity indiscriminately.\n",
      "It stands in front of a mirror, trying to fix its broken neck as if its life depended on it. It has a hard time getting it right, so it’s crying inside. Sad that its true identity may be exposed, Mimikyu will mercilessly seek revenge on any opponent that breaks its neck. There will be no forgiveness for any who reveal that it was pretending to be Pikachu. It will bring the culprit down, even at the cost of its own life. Its disguise made from an old rag allowed it to avoid an attack, but the impact broke the neck of the disguise. Now everyone knows it’s a Mimikyu.\n",
      "When it unleashes its psychic power from the protuberance on its head, the grating sound of grinding teeth echoes through the area. It stuns its prey with psychokinesis and then grinds them to mush with its strong teeth. Even Shellder’s shell is no match for it. It burrows beneath the sand, radiating psychic power from the protuberance on its head. It waits for prey as it surveys the area. Its skin is thick enough to fend off Mareanie’s spikes. With its robust teeth, Bruxish crunches up the spikes and eats them.\n",
      "If a child it has made friends with is bullied, Drampa will find the bully’s house and burn it to the ground. It appears in towns and plays with the children. Drampa will protect kids when they’re in danger, so their moms don’t have to worry. The mountains it calls home are nearly two miles in height. On rare occasions, it descends to play with the children living in the towns below. Drampa is a kind and friendly Pokémon—up until it’s angered. When that happens, it stirs up a gale and flattens everything around.\n",
      "It wraps its prey in green seaweed and sucks away their vitality. It only likes to go after big prey like Wailord. Its chain-like green seaweed can stretch outward for hundreds of yards. For some reason, it gets along well with Skrelp. After a piece of seaweed merged with debris from a sunken ship, it was reborn as this ghost Pokémon. After lowering its anchor, it waits for its prey. It catches large Wailord and drains their life-force.\n",
      "It smacks the scales on its head against rocks or against the ground to frighten its opponents. It can also contact its friends with these noises. It will never show an enemy its back in battle. Ancient warriors liked Jangmo-o for its valiant disposition and made it one of their own. They learn to fight by smashing their head scales together. The dueling strengthens both their skills and their spirits. Jangmo-o strikes its scales to communicate with others of its kind. Its scales are actually fur that’s become as hard as metal.\n",
      "It makes noise by clanging its scales together. When the rhythm has reached its peak, Hakamo-o attacks. The scales it sheds can be molded and processed to make pots and pans. They conduct heat well, so they’re a popular item. The scaleless, scarred parts of its body are signs of its strength. It shows them off to defeated opponents. Before attacking its enemies, it clashes its scales together and roars. Its sharp claws shred the opposition.\n",
      "When it howls after finishing off its prey, the metallic sounds of its celebrating comrades can be heard from all around. It battles valiantly with its fists, which are armored in steel scales. Kommo-o specializes in uppercuts. It clatters its tail scales to unnerve opponents. This Pokémon will battle only those who stand steadfast in the face of this display. Certain ruins have paintings of ancient warriors wearing armor made of Kommo-o scales.\n",
      "Even though its helpless, gaseous body can be blown away by the slightest breeze, it doesn’t seem to care. Whether or not it’s a Pokémon from this world is a mystery. When it’s in a jam, it warps away to a safe place to hide. This Pokémon came from another universe. Its gaseous body is so light that even a gentle breeze can blow it away. Cosmog is very curious but not very cautious, often placing itself in danger. If things start to look dicey, it teleports away.\n",
      "The king who ruled Alola in times of antiquity called it the “cocoon of the stars” and built an altar to worship it. As it absorbs light, Cosmoem continues to grow. Its golden shell is surprisingly solid. The absorption of starlight fuels this Pokémon’s growth. The shell that encases it is harder than any known material. It sucks in dust from the air at an astounding rate, frantically building up energy within its core as preparation for evolution.\n",
      "Sometimes the result of its opening an Ultra Wormhole is that energy and life-forms from other worlds are called here to this world. In writings from the distant past, it’s called by the name “the beast that devours the sun.” When light radiates from its body, this Pokémon could almost appear to be the sun. It will dispel any darkness and light up the world. Solgaleo was once known as the Beast That Devours the Sun. Energy in the form of light radiates boundlessly from it.\n",
      "Records of it exist in writings from long, long ago, where it was known by the name “the beast that calls the moon.” It sometimes summons unknown powers and life-forms here to this world from holes that lead to other worlds. Known as the Beast That Calls the Moon, this Pokémon lives by taking in any and all light and converting it into its own energy. It steals the light from its surroundings and then becomes the full moon, showering its own light across the night sky.\n",
      "One of several mysterious Ultra Beasts. People on the street report observing those infested by it suddenly becoming violent. One of the Ultra Beasts. It’s unclear whether or not this Pokémon is sentient, but sometimes it can be observed behaving like a young girl. A life-form from another world, it was dubbed a UB and is thought to produce a strong neurotoxin. It appeared in this world from an Ultra Wormhole. Nihilego appears to be a parasite that lives by feeding on people and Pokémon.\n",
      "This Ultra Beast appeared from another world. It shows off its body, but whether that display is a boast or a threat remains unclear. A mysterious life-form called an Ultra Beast. Witnesses saw it pulverize a dump truck with a single punch. Although it’s alien to this world and a danger here, it’s apparently a common organism in the world where it normally lives. Buzzwole goes around showing off its abnormally swollen muscles. It is one kind of Ultra Beast.\n",
      "One of the dangerous Ultra Beasts, it has been spotted running across the land at terrific speeds. One of the Ultra Beasts. It refuses to touch anything, perhaps because it senses some uncleanness in this world. A life-form that lives in another world, its body is thin and supple, but it also possesses great power. Although it’s alien to this world and a danger here, it’s apparently a common organism in the world where it normally lives.\n",
      "One of the mysterious life-forms known as Ultra Beasts. Astonishing electric shocks emanate from its entire body, according to witnesses. It appeared from the Ultra Wormhole. It raided a power plant, so people think it energizes itself with electricity. Although it’s alien to this world and a danger here, it’s apparently a common organism in the world where it normally lives. They’ve been dubbed Ultra Beasts. Some of them stand unmoving, like trees, with their arms and legs stuck into the ground.\n",
      "It appeared from the Ultra Wormhole. Witnesses observed it flying across the sky at high speed. One kind of Ultra Beast. Witnesses have seen it burn down a forest by expelling gas from its two arms. One of the dangerous UBs, high energy readings can be detected coming from both of its huge arms. Although it’s alien to this world and a danger here, it’s apparently a common organism in the world where it normally lives.\n",
      "This Ultra Beast came from the Ultra Wormhole. It seems not to attack enemies on its own, but its sharp body is a dangerous weapon in itself. One of the Ultra Beast life-forms, it was observed cutting down a gigantic steel tower with one stroke of its blade. This Ultra Beast’s body, which is as thin as paper, is like a sharpened sword. Although it’s alien to this world and a danger here, it’s apparently a common organism in the world where it normally lives.\n"
     ]
    },
    {
     "name": "stdout",
     "output_type": "stream",
     "text": [
      "It has gobbled mountains and swallowed whole buildings, according to reports. It’s one of the Ultra Beasts. A dangerous Ultra Beast, it appears to be eating constantly, but for some reason its droppings have never been found. Although it’s alien to this world and a danger here, it’s apparently a common organism in the world where it normally lives. An unknown life-form called a UB. It may be constantly hungry—it is certainly always devouring something.\n",
      "It looks somehow pained as it rages around in search of light, which serves as its energy. It’s apparently from another world. Light is the source of its energy. If it isn’t devouring light, impurities build up in it and on it, and Necrozma darkens and stops moving. It survives by absorbing light. After a long time spent slumbering underground, impurities accumulated within it, causing its body to darken. It needs light to survive, and it goes on a rampage seeking it out. Its laser beams will cut anything to pieces.\n",
      "This artificial Pokémon, constructed more than 500 years ago, can understand human speech but cannot itself speak. Its mechanized body is merely a vessel. Its true self is its Soul-Heart, an artificial soul. It synchronizes its consciousness with others to understand their feelings. This faculty makes it useful for taking care of people. Built roughly 500 years ago by a scientist, the part called the Soul-Heart is the actual life-form.\n"
     ]
    }
   ],
   "source": [
    "for i in pokemon.index:\n",
    "    # Get the pokemon url for each pokemon in the index\n",
    "    url = 'https://pokemondb.net/pokedex/' + i\n",
    "    \n",
    "    # Access the content in the URL\n",
    "    html_content = requests.get(url).text\n",
    "\n",
    "    # Parse the html content\n",
    "    soup = BeautifulSoup(html_content, \"lxml\")\n",
    "    \n",
    "    # This finds the pokedex entries, then finds the table immediately after that.\n",
    "    try:    \n",
    "        table = soup.find('h2', text='Pokédex entries').find_next('table')\n",
    "        flavor = table.find_all('td', attrs = {'class': 'cell-med-text'})\n",
    "\n",
    "        # Specifically, we'll retrieve the latest 4 pokedex entries.\n",
    "        # Note that this does NOT pull megas or different forms\n",
    "        poketext = ' '.join([x.text for x in flavor[-4:]])\n",
    "        \n",
    "        print(poketext)\n",
    "        pokemon.loc[i, 'Pokedex Entry'] = poketext\n",
    "    \n",
    "    except:\n",
    "        pass"
   ]
  },
  {
   "cell_type": "code",
   "execution_count": 151,
   "metadata": {
    "scrolled": true
   },
   "outputs": [
    {
     "name": "stdout",
     "output_type": "stream",
     "text": [
      "Nidoran♀ has barbs that secrete a powerful poison. They are thought to have developed as protection for this small-bodied Pokémon. When enraged, it releases a horrible toxin from its horn. A mild-mannered Pokémon that does not like to fight. Beware—its small horn secretes venom. Females are more sensitive to smells than males. While foraging, they’ll use their whiskers to check wind direction and stay downwind of predators. It uses its hard incisor teeth to crush and eat berries. The tip of a female Nidoran’s horn is a bit more rounded than the tip of a male’s horn.\n",
      "Nidoran♂ has developed muscles for moving its ears. Thanks to them, the ears can be freely moved in any direction. Even the slightest sound does not escape this Pokémon’s notice. Its large ears are always kept upright. If it senses danger, it will attack with a poisonous sting. The horn on a male Nidoran’s forehead contains a powerful poison. This is a very cautious Pokémon, always straining its large ears. Small but brave, this Pokémon will hold its ground and even risk its life in battle to protect the female it’s friendly with.\n",
      "Farfetch’d is always seen with a stalk from a plant of some sort. Apparently, there are good stalks and bad stalks. This Pokémon has been known to fight with others over stalks. They live where reedy plants grow. Farfetch’d are rarely seen, so it’s thought their numbers are decreasing. The stalk this Pokémon carries in its wings serves as a sword to cut down opponents. In a dire situation, the stalk can also serve as food. They use a plant stalk as a weapon, but not all of them use it in the same way. Several distinct styles of stalk fighting have been observed.\n",
      "It creates invisible walls with its pantomiming. If you don’t act impressed, it will attack you with a double slap! Always practices its pantomime act. It makes enemies believe something exists that really doesn’t. The broadness of its hands may be no coincidence—many scientists believe its palms became enlarged specifically for pantomiming. It’s known for its top-notch pantomime skills. It protects itself from all sorts of attacks by emitting auras from its fingers to create walls.\n",
      "It does its absolute best to mimic the movements and expressions of its opponents, but it’s still not very good at it. When this gifted mimic surprises an opponent, Mime Jr. feels so happy that it ends up forgetting it was imitating something. It mimics everyone it sees, but it puts extra effort into copying the graceful dance steps of Mr. Rime as practice. It looks for a Mr. Rime that’s a good dancer and carefully copies the Mr. Rime’s steps like an apprentice.\n",
      "It draws out and controls the hidden power of flowers. The flower Flabébé holds is most likely part of its body. When it finds a flower it likes, it dwells on that flower its whole life long. It floats in the wind’s embrace with an untroubled heart. It’s not safe without the power of a flower, but it will keep traveling around until it finds one with the color and shape it wants. Flabébé wears a crown made from pollen it’s collected from its flower. The crown has hidden healing properties.\n",
      "A Pokémon weapon developed for a specific mission, it went berserk during an experiment, so it was cryogenically frozen. There’s danger of its going on a rampage, so its true power is sealed away beneath its control mask. Rumor has it that the theft of top-secret research notes led to a new instance of this Pokémon being created in the Galar region. It was modeled after a mighty Pokémon of myth. The mask placed upon it limits its power in order to keep it under control.\n",
      "This guardian deity of Akala is guilelessly cruel. The fragrant aroma of flowers is the source of its energy. As it flutters about, it scatters its strangely glowing scales. Touching them is said to restore good health on the spot. It heals the wounds of people and Pokémon by sprinkling them with its sparkling scales. This guardian deity is worshiped on Akala. Although called a guardian deity, Tapu Lele is devoid of guilt about its cruel disposition and can be described as nature incarnate.\n",
      "The dense fog it creates brings the downfall and destruction of its confused enemies. Ocean currents are the source of its energy. The guardian deity of Poni, it can control water. People say it can create pure water that will wash away any uncleanness. This guardian deity of Poni Island manipulates water. Because it lives deep within a thick fog, it came to be both feared and revered. Although it’s called a guardian deity, terrible calamities sometimes befall those who recklessly approach Tapu Fini.\n",
      "This guardian deity of Melemele is brimming with curiosity. It summons thunderclouds and stores their lightning inside its body. It confuses its enemies by flying too quickly for the eye to follow. It has a hair-trigger temper but forgets what made it angry an instant later. Although it’s called a guardian deity, if a person or Pokémon puts it in a bad mood, it will become a malevolent deity and attack. The lightning-wielding guardian deity of Melemele, Tapu Koko is brimming with curiosity and appears before people from time to time.\n",
      "It pulls large trees up by the roots and swings them around. It causes vegetation to grow, and then it absorbs energy from the growth. The guardian deity of Ula’ula is a lazy Pokémon. It commands plants to immobilize its foes and then deals them a savage blow with its horns. Although it’s called a guardian deity, it’s violent enough to crush anyone it sees as an enemy. It makes ringing sounds with its tail to let others know where it is, avoiding unneeded conflicts. This guardian deity of Ula’ula controls plants.\n"
     ]
    }
   ],
   "source": [
    "# List of pokemon who we failed to scrape for some reason or other.\n",
    "# pokemon[pokemon['Pokedex Entry'].isnull()]\n",
    "\n",
    "# Manually get the data\n",
    "special = ['nidoran-f', 'nidoran-m', 'farfetchd', 'mr-mime', 'mime-jr', 'flabebe', 'type-null', \n",
    "'tapu-lele', 'tapu-fini', 'tapu-koko', 'tapu-bulu']\n",
    "\n",
    "special_index = pokemon[pokemon['Pokedex Entry'].isnull()].index\n",
    "\n",
    "for i, x in enumerate(special_index): \n",
    "    url = 'https://pokemondb.net/pokedex/' + special[i]\n",
    "    \n",
    "    # Access the content in the URL\n",
    "    html_content = requests.get(url).text\n",
    "\n",
    "    # Parse the html content\n",
    "    soup = BeautifulSoup(html_content, \"lxml\")\n",
    "    \n",
    "    # This finds the pokedex entries, then finds the table immediately after that.\n",
    "\n",
    "    table = soup.find('h2', text='Pokédex entries').find_next('table')\n",
    "    flavor = table.find_all('td', attrs = {'class': 'cell-med-text'})\n",
    "\n",
    "    # Specifically, we'll retrieve the latest 4 pokedex entries.\n",
    "    # Note that this does NOT pull megas or different forms\n",
    "    poketext = ' '.join([x.text for x in flavor[-4:]])\n",
    "\n",
    "    print(poketext)\n",
    "    pokemon.loc[x, 'Pokedex Entry'] = poketext"
   ]
  },
  {
   "cell_type": "code",
   "execution_count": 155,
   "metadata": {},
   "outputs": [],
   "source": [
    "pokemon.to_csv('pokedex_entries.csv')"
   ]
  },
  {
   "cell_type": "code",
   "execution_count": 142,
   "metadata": {},
   "outputs": [],
   "source": [
    "# Get target variable\n",
    "X = pokemon[['Pokedex Entry']]\n",
    "y = pd.get_dummies(pokemon[['type1', 'type2']])"
   ]
  },
  {
   "cell_type": "code",
   "execution_count": 3,
   "metadata": {
    "code_folding": [
     7,
     61,
     70
    ]
   },
   "outputs": [],
   "source": [
    "from sklearn.model_selection import train_test_split\n",
    "\n",
    "from warnings import warn\n",
    "\n",
    "import numpy as np\n",
    "import pandas as pd\n",
    "\n",
    "def multilabel_sample(y, size=1000, min_count=5, seed=None):\n",
    "    \"\"\" Takes a matrix of binary labels `y` and returns\n",
    "        the indices for a sample of size `size` if\n",
    "        `size` > 1 or `size` * len(y) if size =< 1.\n",
    "        The sample is guaranteed to have > `min_count` of\n",
    "        each label.\n",
    "    \"\"\"\n",
    "    try:\n",
    "        if (np.unique(y).astype(int) != np.array([0, 1])).any():\n",
    "            raise ValueError()\n",
    "    except (TypeError, ValueError):\n",
    "        raise ValueError('multilabel_sample only works with binary indicator matrices')\n",
    "\n",
    "    if (y.sum(axis=0) < min_count).any():\n",
    "        raise ValueError('Some classes do not have enough examples. Change min_count if necessary.')\n",
    "\n",
    "    if size <= 1:\n",
    "        size = np.floor(y.shape[0] * size)\n",
    "\n",
    "    if y.shape[1] * min_count > size:\n",
    "        msg = \"Size less than number of columns * min_count, returning {} items instead of {}.\"\n",
    "        warn(msg.format(y.shape[1] * min_count, size))\n",
    "        size = y.shape[1] * min_count\n",
    "\n",
    "    rng = np.random.RandomState(seed if seed is not None else np.random.randint(1))\n",
    "\n",
    "    if isinstance(y, pd.DataFrame):\n",
    "        choices = y.index\n",
    "        y = y.values\n",
    "    else:\n",
    "        choices = np.arange(y.shape[0])\n",
    "\n",
    "    sample_idxs = np.array([], dtype=choices.dtype)\n",
    "\n",
    "    # first, guarantee > min_count of each label\n",
    "    for j in range(y.shape[1]):\n",
    "        label_choices = choices[y[:, j] == 1]\n",
    "        label_idxs_sampled = rng.choice(label_choices, size=min_count, replace=False)\n",
    "        sample_idxs = np.concatenate([label_idxs_sampled, sample_idxs])\n",
    "\n",
    "    sample_idxs = np.unique(sample_idxs)\n",
    "\n",
    "    # now that we have at least min_count of each, we can just random sample\n",
    "    sample_count = int(size - sample_idxs.shape[0])\n",
    "\n",
    "    # get sample_count indices from remaining choices\n",
    "    remaining_choices = np.setdiff1d(choices, sample_idxs)\n",
    "    remaining_sampled = rng.choice(remaining_choices,\n",
    "                                   size=sample_count,\n",
    "                                   replace=False)\n",
    "\n",
    "    return np.concatenate([sample_idxs, remaining_sampled])\n",
    "\n",
    "\n",
    "def multilabel_sample_dataframe(df, labels, size, min_count=5, seed=None):\n",
    "    \"\"\" Takes a dataframe `df` and returns a sample of size `size` where all\n",
    "        classes in the binary matrix `labels` are represented at\n",
    "        least `min_count` times.\n",
    "    \"\"\"\n",
    "    idxs = multilabel_sample(labels, size=size, min_count=min_count, seed=seed)\n",
    "    return df.loc[idxs]\n",
    "\n",
    "\n",
    "def multilabel_train_test_split(X, Y, size, min_count=5, seed=None):\n",
    "    \"\"\" Takes a features matrix `X` and a label matrix `Y` and\n",
    "        returns (X_train, X_test, Y_train, Y_test) where all\n",
    "        classes in Y are represented at least `min_count` times.\n",
    "    \"\"\"\n",
    "    index = Y.index if isinstance(Y, pd.DataFrame) else np.arange(Y.shape[0])\n",
    "\n",
    "    test_set_idxs = multilabel_sample(Y, size=size, min_count=min_count, seed=seed)\n",
    "    train_set_idxs = np.setdiff1d(index, test_set_idxs)\n",
    "\n",
    "    test_set_mask = index.isin(test_set_idxs)\n",
    "    train_set_mask = ~test_set_mask\n",
    "\n",
    "    return (X[train_set_mask], X[test_set_mask], Y[train_set_mask], Y[test_set_mask])"
   ]
  },
  {
   "cell_type": "code",
   "execution_count": 66,
   "metadata": {},
   "outputs": [],
   "source": [
    "# Split data\n",
    "\n",
    "# Tomorrow, DON'T RUN THE WHOLE PROJECT AGAIN. Just import the pokemon dataset with the \n",
    "# pokedex entries already scraped.\n",
    "import pandas as pd\n",
    "import numpy as np\n",
    "\n",
    "pokemon = pd.read_csv('pokedex_entries.csv')\n",
    "\n",
    "# Get target variable\n",
    "X = pokemon['Pokedex Entry'] # Select only the series, NOT the pokedex dataframe\n",
    "y = pokemon['type1']\n",
    "\n",
    "X_train, X_test, y_train, y_test = train_test_split(X, y, test_size = 0.1, stratify = y, random_state = 42)"
   ]
  },
  {
   "cell_type": "code",
   "execution_count": 71,
   "metadata": {},
   "outputs": [
    {
     "data": {
      "text/plain": [
       "Pipeline(memory=None,\n",
       "         steps=[('vectorizer',\n",
       "                 CountVectorizer(analyzer='word', binary=False,\n",
       "                                 decode_error='strict',\n",
       "                                 dtype=<class 'numpy.int64'>, encoding='utf-8',\n",
       "                                 input='content', lowercase=True, max_df=1.0,\n",
       "                                 max_features=None, min_df=1,\n",
       "                                 ngram_range=(1, 1), preprocessor=None,\n",
       "                                 stop_words='english', strip_accents=None,\n",
       "                                 token_pattern='[A-Za-z0-9]+(?=\\\\s+)',\n",
       "                                 tokenizer=None,...\n",
       "                ('transformer',\n",
       "                 TfidfTransformer(norm='l2', smooth_idf=True,\n",
       "                                  sublinear_tf=False, use_idf=True)),\n",
       "                ('clf',\n",
       "                 LogisticRegression(C=1.0, class_weight=None, dual=False,\n",
       "                                    fit_intercept=True, intercept_scaling=1,\n",
       "                                    l1_ratio=None, max_iter=100,\n",
       "                                    multi_class='auto', n_jobs=None,\n",
       "                                    penalty='l2', random_state=None,\n",
       "                                    solver='lbfgs', tol=0.0001, verbose=0,\n",
       "                                    warm_start=False))],\n",
       "         verbose=False)"
      ]
     },
     "execution_count": 71,
     "metadata": {},
     "output_type": "execute_result"
    }
   ],
   "source": [
    "# Create pipeline\n",
    "\n",
    "from sklearn.pipeline import Pipeline\n",
    "from sklearn.feature_extraction.text import CountVectorizer\n",
    "from sklearn.feature_extraction.text import TfidfTransformer\n",
    "from sklearn.linear_model import LogisticRegression\n",
    "from sklearn.ensemble import GradientBoostingClassifier\n",
    "from sklearn.ensemble import RandomForestClassifier\n",
    "from sklearn.neighbors import KNeighborsClassifier\n",
    "from sklearn.svm import LinearSVC\n",
    "from sklearn.naive_bayes import MultinomialNB\n",
    "from sklearn.decomposition import TruncatedSVD\n",
    "from sklearn.preprocessing import PolynomialFeatures\n",
    "from sklearn.multiclass import OneVsRestClassifier\n",
    "\n",
    "\n",
    "alphanumeric = '[A-Za-z0-9]+(?=\\\\s+)'\n",
    "\n",
    "# Create our pipeline. \n",
    "pipeline_type1 = Pipeline([('vectorizer', CountVectorizer(token_pattern = alphanumeric, \n",
    "                                                    stop_words = 'english')), \n",
    "                     ('transformer', TfidfTransformer()), \n",
    "                     # Remember that polynomialfeatures takes AGES, and requires a MASSIVE\n",
    "                     # amount of code.\n",
    "                     # ('interaction', PolynomialFeatures(degree = 2)),\n",
    "                     # ('dim_red', TruncatedSVD()),\n",
    "                     # ('clf', GradientBoostingClassifier(n_estimators = 100, learning_rate = 0.1, max_depth = 9))\n",
    "                     # ('clf', KNeighborsClassifier(n_neighbors = 15))\n",
    "                     # ('clf', RandomForestClassifier(max_features = 'log2', n_estimators = 1000))\n",
    "                     ('clf', LogisticRegression())\n",
    "                     # ('clf', MultinomialNB(alpha = 0.9, fit_prior = False))\n",
    "                    ])\n",
    "\n",
    "pipeline_type1.fit(X_train, y_train)\n",
    "\n",
    "\n",
    "# Check the bottom for scoring\n",
    "# https://www.kaggle.com/xagor1/pokemon-type-predictions-using-xgb\n",
    "\n",
    "# Maybe try not to getdummies, and just guess on the two variables.\n",
    "# Adjust the scoring method to try and find the best result\n",
    "# Below for how to create a custom scorer.\n",
    "# https://stackoverflow.com/questions/32401493/how-to-create-customize-your-own-scorer-function-in-scikit-learn\n"
   ]
  },
  {
   "cell_type": "code",
   "execution_count": 73,
   "metadata": {},
   "outputs": [
    {
     "data": {
      "text/plain": [
       "0.37037037037037035"
      ]
     },
     "execution_count": 73,
     "metadata": {},
     "output_type": "execute_result"
    }
   ],
   "source": [
    "pipeline_type1.score(X_test, y_test)"
   ]
  },
  {
   "cell_type": "code",
   "execution_count": 167,
   "metadata": {},
   "outputs": [],
   "source": [
    "predictions = pipeline_type1.predict(X_test)\n",
    "\n",
    "# list(zip(y_test, predictions))"
   ]
  },
  {
   "cell_type": "code",
   "execution_count": 84,
   "metadata": {},
   "outputs": [
    {
     "data": {
      "text/plain": [
       "Pipeline(memory=None,\n",
       "         steps=[('vectorizer',\n",
       "                 CountVectorizer(analyzer='word', binary=False,\n",
       "                                 decode_error='strict',\n",
       "                                 dtype=<class 'numpy.int64'>, encoding='utf-8',\n",
       "                                 input='content', lowercase=True, max_df=1.0,\n",
       "                                 max_features=None, min_df=1,\n",
       "                                 ngram_range=(1, 1), preprocessor=None,\n",
       "                                 stop_words='english', strip_accents=None,\n",
       "                                 token_pattern='[A-Za-z0-9]+(?=\\\\s+)',\n",
       "                                 tokenizer=None,...\n",
       "                ('transformer',\n",
       "                 TfidfTransformer(norm='l2', smooth_idf=True,\n",
       "                                  sublinear_tf=False, use_idf=True)),\n",
       "                ('clf',\n",
       "                 LogisticRegression(C=1.0, class_weight=None, dual=False,\n",
       "                                    fit_intercept=True, intercept_scaling=1,\n",
       "                                    l1_ratio=None, max_iter=100,\n",
       "                                    multi_class='auto', n_jobs=None,\n",
       "                                    penalty='l2', random_state=None,\n",
       "                                    solver='lbfgs', tol=0.0001, verbose=0,\n",
       "                                    warm_start=False))],\n",
       "         verbose=False)"
      ]
     },
     "execution_count": 84,
     "metadata": {},
     "output_type": "execute_result"
    }
   ],
   "source": [
    "# Get target variable\n",
    "X = pokemon['Pokedex Entry'] # Select only the series, NOT the pokedex dataframe\n",
    "y = pokemon['type2'].fillna('none')\n",
    "\n",
    "X_train, X_test, y_train, y_test = train_test_split(X, y, test_size = 0.1, stratify = y, random_state = 42)\n",
    "\n",
    "pipeline_type2 = Pipeline([('vectorizer', CountVectorizer(token_pattern = alphanumeric, \n",
    "                                                    stop_words = 'english')), \n",
    "                     ('transformer', TfidfTransformer()), \n",
    "                     # Remember that polynomialfeatures takes AGES, and requires a MASSIVE\n",
    "                     # amount of code.\n",
    "                     # ('interaction', PolynomialFeatures(degree = 2)),\n",
    "                     # ('dim_red', TruncatedSVD()),\n",
    "                     # ('clf', GradientBoostingClassifier(n_estimators = 100, learning_rate = 0.1, max_depth = 9))\n",
    "                     # ('clf', KNeighborsClassifier(n_neighbors = 15))\n",
    "                     # ('clf', RandomForestClassifier(max_features = 'log2', n_estimators = 1000))\n",
    "                     ('clf', LogisticRegression())\n",
    "                     # ('clf', MultinomialNB(alpha = 0.9, fit_prior = False))\n",
    "                    ])\n",
    "\n",
    "pipeline_type2.fit(X_train, y_train)"
   ]
  },
  {
   "cell_type": "code",
   "execution_count": 85,
   "metadata": {},
   "outputs": [
    {
     "data": {
      "text/plain": [
       "0.48148148148148145"
      ]
     },
     "execution_count": 85,
     "metadata": {},
     "output_type": "execute_result"
    }
   ],
   "source": [
    "pipeline_type2.score(X_test, y_test)"
   ]
  },
  {
   "cell_type": "code",
   "execution_count": 86,
   "metadata": {},
   "outputs": [
    {
     "data": {
      "text/plain": [
       "array(['none', 'none', 'none', 'none', 'none', 'none', 'none', 'none',\n",
       "       'none', 'none', 'none', 'none', 'none', 'none', 'none', 'none',\n",
       "       'none', 'none', 'none', 'none', 'none', 'none', 'none', 'none',\n",
       "       'none', 'none', 'none', 'none', 'none', 'none', 'none', 'none',\n",
       "       'none', 'none', 'none', 'none', 'none', 'none', 'none', 'none',\n",
       "       'none', 'none', 'none', 'none', 'none', 'none', 'none', 'none',\n",
       "       'none', 'none', 'none', 'none', 'none', 'none', 'none', 'none',\n",
       "       'none', 'none', 'none', 'none', 'none', 'none', 'none', 'none',\n",
       "       'none', 'none', 'none', 'none', 'none', 'none', 'none', 'none',\n",
       "       'none', 'none', 'none', 'none', 'none', 'none', 'none', 'none',\n",
       "       'none'], dtype=object)"
      ]
     },
     "execution_count": 86,
     "metadata": {},
     "output_type": "execute_result"
    }
   ],
   "source": [
    "pipeline_type2.predict(X_test)"
   ]
  },
  {
   "cell_type": "code",
   "execution_count": 92,
   "metadata": {},
   "outputs": [
    {
     "data": {
      "text/plain": [
       "Pipeline(memory=None,\n",
       "         steps=[('vectorizer',\n",
       "                 CountVectorizer(analyzer='word', binary=False,\n",
       "                                 decode_error='strict',\n",
       "                                 dtype=<class 'numpy.int64'>, encoding='utf-8',\n",
       "                                 input='content', lowercase=True, max_df=1.0,\n",
       "                                 max_features=None, min_df=1,\n",
       "                                 ngram_range=(1, 1), preprocessor=None,\n",
       "                                 stop_words='english', strip_accents=None,\n",
       "                                 token_pattern='[A-Za-z0-9]+(?=\\\\s+)',\n",
       "                                 tokenizer=None,...\n",
       "                ('transformer',\n",
       "                 TfidfTransformer(norm='l2', smooth_idf=True,\n",
       "                                  sublinear_tf=False, use_idf=True)),\n",
       "                ('clf',\n",
       "                 LogisticRegression(C=1.0, class_weight=None, dual=False,\n",
       "                                    fit_intercept=True, intercept_scaling=1,\n",
       "                                    l1_ratio=None, max_iter=100,\n",
       "                                    multi_class='auto', n_jobs=None,\n",
       "                                    penalty='l2', random_state=None,\n",
       "                                    solver='lbfgs', tol=0.0001, verbose=0,\n",
       "                                    warm_start=False))],\n",
       "         verbose=False)"
      ]
     },
     "execution_count": 92,
     "metadata": {},
     "output_type": "execute_result"
    }
   ],
   "source": [
    "df = pokemon[['name', 'type1', 'type2', 'Pokedex Entry']]\n",
    "\n",
    "df = pd.melt(df, id_vars = ['name', 'Pokedex Entry'], value_vars = ['type1', 'type2']).dropna()\n",
    "\n",
    "X = df['Pokedex Entry']\n",
    "y = df['value']\n",
    "\n",
    "X_train, X_test, y_train, y_test = train_test_split(X, y, test_size = 0.1, stratify = y, random_state = 42)\n",
    "\n",
    "pipeline = Pipeline([('vectorizer', CountVectorizer(token_pattern = alphanumeric, \n",
    "                                                    stop_words = 'english')), \n",
    "                     ('transformer', TfidfTransformer()), \n",
    "                     # Remember that polynomialfeatures takes AGES, and requires a MASSIVE\n",
    "                     # amount of code.\n",
    "                     # ('interaction', PolynomialFeatures(degree = 2)),\n",
    "                     # ('dim_red', TruncatedSVD()),\n",
    "                     # ('clf', GradientBoostingClassifier(n_estimators = 100, learning_rate = 0.1, max_depth = 9))\n",
    "                     # ('clf', KNeighborsClassifier(n_neighbors = 15))\n",
    "                     # ('clf', RandomForestClassifier(max_features = 'log2', n_estimators = 1000))\n",
    "                     ('clf', LogisticRegression())\n",
    "                     # ('clf', MultinomialNB(alpha = 0.9, fit_prior = False))\n",
    "                    ])\n",
    "\n",
    "pipeline.fit(X_train, y_train)"
   ]
  },
  {
   "cell_type": "code",
   "execution_count": 175,
   "metadata": {},
   "outputs": [
    {
     "name": "stdout",
     "output_type": "stream",
     "text": [
      "0.7213114754098361\n"
     ]
    }
   ],
   "source": [
    "# Predictions based on our model\n",
    "y_pred = pipeline.predict(X_test)\n",
    "\n",
    "# Get all the names of the pokemon tested\n",
    "test_names = df.loc[y_test.index,:][['name']]\n",
    "\n",
    "# Find the real dual typing\n",
    "real_types = pd.merge(test_names, pokemon, how = 'left')[['type1', 'type2']].fillna('none')\n",
    "\n",
    "viewing_array = list(zip(y_pred, real_types.values.tolist()))\n",
    "\n",
    "scoring_array = np.where((y_pred == real_types['type1']) | (y_pred == real_types['type2']), 1, 0) \n",
    "\n",
    "accuracy = scoring_array.sum() / len(scoring_array)\n",
    "\n",
    "print(accuracy)"
   ]
  },
  {
   "cell_type": "code",
   "execution_count": 166,
   "metadata": {},
   "outputs": [
    {
     "data": {
      "text/plain": [
       "array(['water', 'normal', 'fire'], dtype=object)"
      ]
     },
     "execution_count": 166,
     "metadata": {},
     "output_type": "execute_result"
    }
   ],
   "source": [
    "test_dict = {'text': ['It has many hidden capabilities, such as fingertips that can shoot water and a membrane on its back that it can use to glide through the air. Its nictitating membranes let it pick out foes’ weak points so it can precisely blast them with water that shoots from its fingertips at Mach 3.', 'Found throughout the Galar region, this Pokémon becomes uneasy if its cheeks are ever completely empty of berries. It eats berries nonstop—a habit that has made it more resilient than it looks. It’ll show up on farms, searching for yet more berries.', 'When it heats up, its body temperature reaches about 1,500 degrees Fahrenheit. It lashes its body like a whip and launches itself at enemies.  \tWhile its burning body is already dangerous on its own, this excessively hostile Pokémon also has large and very sharp fangs.']}\n",
    "\n",
    "dict_df = pd.DataFrame.from_dict(test_dict)\n",
    "\n",
    "pipeline.predict(dict_df['text'])"
   ]
  },
  {
   "cell_type": "code",
   "execution_count": 226,
   "metadata": {},
   "outputs": [],
   "source": [
    "# Try to make a custom scorer for the pokemon project.\n",
    "\n",
    "def my_custom_scorer_func(y_true, y_pred):\n",
    "    score = []\n",
    "    for x, i in enumerate(y_true.index):\n",
    "        name = df.loc[i]['name']\n",
    "        type1 = pokemon[pokemon['name'] == name]['type1'].item()\n",
    "        type2 = pokemon[pokemon['name'] == name]['type2'].item()\n",
    "        if (y_pred[x] == type1) | (y_pred[x] == type2):\n",
    "            score.append(1)\n",
    "        else:\n",
    "            score.append(0)\n",
    "    error = np.sum(score) / len(score)\n",
    "    return error\n",
    "\n",
    "from sklearn.metrics import make_scorer\n",
    "my_scorer = make_scorer(my_custom_scorer_func, greater_is_better=True)"
   ]
  },
  {
   "cell_type": "code",
   "execution_count": 227,
   "metadata": {},
   "outputs": [
    {
     "data": {
      "text/plain": [
       "0.7213114754098361"
      ]
     },
     "execution_count": 227,
     "metadata": {},
     "output_type": "execute_result"
    }
   ],
   "source": [
    "my_custom_scorer_func(y_test, y_pred)"
   ]
  },
  {
   "cell_type": "code",
   "execution_count": 260,
   "metadata": {},
   "outputs": [
    {
     "name": "stderr",
     "output_type": "stream",
     "text": [
      "C:\\Users\\Jonny\\anaconda3\\lib\\site-packages\\sklearn\\linear_model\\_logistic.py:940: ConvergenceWarning: lbfgs failed to converge (status=1):\n",
      "STOP: TOTAL NO. of ITERATIONS REACHED LIMIT.\n",
      "\n",
      "Increase the number of iterations (max_iter) or scale the data as shown in:\n",
      "    https://scikit-learn.org/stable/modules/preprocessing.html\n",
      "Please also refer to the documentation for alternative solver options:\n",
      "    https://scikit-learn.org/stable/modules/linear_model.html#logistic-regression\n",
      "  extra_warning_msg=_LOGISTIC_SOLVER_CONVERGENCE_MSG)\n"
     ]
    },
    {
     "data": {
      "text/plain": [
       "Pipeline(memory=None,\n",
       "         steps=[('vectorizer',\n",
       "                 CountVectorizer(analyzer='word', binary=False,\n",
       "                                 decode_error='strict',\n",
       "                                 dtype=<class 'numpy.int64'>, encoding='utf-8',\n",
       "                                 input='content', lowercase=True, max_df=1.0,\n",
       "                                 max_features=None, min_df=1,\n",
       "                                 ngram_range=(1, 1), preprocessor=None,\n",
       "                                 stop_words='english', strip_accents=None,\n",
       "                                 token_pattern='[A-Za-z0-9]+(?=\\\\s+)',\n",
       "                                 tokenizer=None,...\n",
       "                ('transformer',\n",
       "                 TfidfTransformer(norm='l2', smooth_idf=True,\n",
       "                                  sublinear_tf=False, use_idf=True)),\n",
       "                ('clf',\n",
       "                 LogisticRegression(C=1291, class_weight=None, dual=False,\n",
       "                                    fit_intercept=True, intercept_scaling=1,\n",
       "                                    l1_ratio=None, max_iter=100,\n",
       "                                    multi_class='auto', n_jobs=None,\n",
       "                                    penalty='l2', random_state=None,\n",
       "                                    solver='lbfgs', tol=0.0001, verbose=0,\n",
       "                                    warm_start=False))],\n",
       "         verbose=False)"
      ]
     },
     "execution_count": 260,
     "metadata": {},
     "output_type": "execute_result"
    }
   ],
   "source": [
    "from sklearn.ensemble import RandomForestClassifier\n",
    "\n",
    "df = pokemon[['name', 'type1', 'type2', 'Pokedex Entry']]\n",
    "\n",
    "df = pd.melt(df, id_vars = ['name', 'Pokedex Entry'], value_vars = ['type1', 'type2']).dropna()\n",
    "\n",
    "X = df['Pokedex Entry']\n",
    "y = df['value']\n",
    "\n",
    "X_train, X_test, y_train, y_test = train_test_split(X, y, test_size = 0.1, stratify = y, random_state = 42)\n",
    "\n",
    "pipeline = Pipeline([('vectorizer', CountVectorizer(token_pattern = alphanumeric, \n",
    "                                                    stop_words = 'english')), \n",
    "                     ('transformer', TfidfTransformer()), \n",
    "                     # Remember that polynomialfeatures takes AGES, and requires a MASSIVE\n",
    "                     # amount of code.\n",
    "                     # ('interaction', PolynomialFeatures(degree = 2)),\n",
    "                     # ('dim_red', TruncatedSVD()),\n",
    "                     # ('clf', GradientBoostingClassifier())\n",
    "                     # ('clf', KNeighborsClassifier(n_neighbors = 15))\n",
    "                     # ('clf', RandomForestClassifier(max_features = 14, n_estimators = 100))\n",
    "                     ('clf', LogisticRegression(C = 1291))\n",
    "                     # ('clf', MultinomialNB(alpha = 0.9, fit_prior = False))\n",
    "                    ])\n",
    "\n",
    "pipeline.fit(X_train, y_train)"
   ]
  },
  {
   "cell_type": "code",
   "execution_count": 244,
   "metadata": {},
   "outputs": [
    {
     "name": "stdout",
     "output_type": "stream",
     "text": [
      "0.7868852459016393\n"
     ]
    }
   ],
   "source": [
    "# Predictions based on our model\n",
    "y_pred = pipeline.predict(X_test)\n",
    "\n",
    "print(my_custom_scorer_func(y_test, y_pred))"
   ]
  },
  {
   "cell_type": "code",
   "execution_count": 238,
   "metadata": {},
   "outputs": [
    {
     "name": "stdout",
     "output_type": "stream",
     "text": [
      "Fitting 3 folds for each of 57 candidates, totalling 171 fits\n"
     ]
    },
    {
     "name": "stderr",
     "output_type": "stream",
     "text": [
      "[Parallel(n_jobs=-1)]: Using backend LokyBackend with 4 concurrent workers.\n",
      "[Parallel(n_jobs=-1)]: Done  42 tasks      | elapsed:  1.0min\n",
      "[Parallel(n_jobs=-1)]: Done 171 out of 171 | elapsed:  4.1min finished\n"
     ]
    },
    {
     "name": "stdout",
     "output_type": "stream",
     "text": [
      "Best parameter CV score=0.687:\n",
      "{'clf__max_features': 14, 'clf__n_estimators': 100}\n"
     ]
    }
   ],
   "source": [
    "from sklearn.model_selection import GridSearchCV\n",
    "\n",
    "param_grid = {\n",
    "    'clf__max_features' : [6, 10, 14],\n",
    "    'clf__n_estimators' : list(range(10,101,5))\n",
    "}\n",
    "\n",
    "search = GridSearchCV(pipeline, param_grid, scoring = my_scorer, cv = 3, verbose = 1, n_jobs = -1)\n",
    "search.fit(X_train, y_train)\n",
    "\n",
    "print(\"Best parameter CV score={:.3f}:\".format(search.best_score_))\n",
    "print(search.best_params_)\n",
    "\n",
    "# Tuned LogisticRegression --> 79.5% accuracy\n",
    "# Tuned RandomForest --> 80.3% accuracy"
   ]
  },
  {
   "cell_type": "code",
   "execution_count": 257,
   "metadata": {},
   "outputs": [],
   "source": [
    "gen8 = pd.read_csv('Datacamp CSV/gen8.csv', header = None)\n",
    "\n",
    "gen8_list = gen8[0].tolist()\n",
    "\n",
    "test_list = []\n",
    "\n",
    "for i in gen8_list: \n",
    "    import requests\n",
    "    from bs4 import BeautifulSoup\n",
    "    \n",
    "    url = 'https://pokemondb.net/pokedex/' + i\n",
    "    \n",
    "    # Access the content in the URL\n",
    "    html_content = requests.get(url).text\n",
    "\n",
    "    # Parse the html content\n",
    "    soup = BeautifulSoup(html_content, \"lxml\")\n",
    "    \n",
    "    # This finds the pokedex entries, then finds the table immediately after that.\n",
    "\n",
    "    table = soup.find('h2', text='Pokédex entries').find_next('table')\n",
    "    flavor = table.find_all('td', attrs = {'class': 'cell-med-text'})\n",
    "\n",
    "    # Specifically, we'll retrieve the latest 4 pokedex entries.\n",
    "    # Note that this does NOT pull megas or different forms\n",
    "    poketext = ' '.join([x.text for x in flavor[-2:]])\n",
    "\n",
    "    test_list.append(poketext)\n",
    "    \n"
   ]
  },
  {
   "cell_type": "code",
   "execution_count": 261,
   "metadata": {},
   "outputs": [
    {
     "data": {
      "text/plain": [
       "array(['grass', 'normal', 'psychic', 'flying', 'normal', 'fighting',\n",
       "       'normal', 'water', 'water', 'normal', 'normal', 'normal', 'normal',\n",
       "       'steel', 'normal', 'psychic', 'psychic', 'normal', 'normal',\n",
       "       'grass', 'grass', 'normal', 'normal', 'water', 'steel', 'electric',\n",
       "       'electric', 'fire', 'fire', 'fire', 'ground', 'flying', 'grass',\n",
       "       'ground', 'ground', 'poison', 'poison', 'water', 'poison'],\n",
       "      dtype=object)"
      ]
     },
     "execution_count": 261,
     "metadata": {},
     "output_type": "execute_result"
    }
   ],
   "source": [
    "test_dict = {'text': test_list}\n",
    "\n",
    "dict_df = pd.DataFrame.from_dict(test_dict)\n",
    "\n",
    "pipeline.predict(dict_df['text'])"
   ]
  },
  {
   "cell_type": "code",
   "execution_count": 285,
   "metadata": {},
   "outputs": [
    {
     "data": {
      "text/plain": [
       "[('Grookey', array(['grass', 'fighting'], dtype='<U8')),\n",
       " ('Thwackey', array(['normal', 'water'], dtype='<U8')),\n",
       " ('Rillaboom', array(['psychic', 'water'], dtype='<U8')),\n",
       " ('Scorbunny', array(['flying', 'normal'], dtype='<U8')),\n",
       " ('Raboot', array(['normal', 'fighting'], dtype='<U8')),\n",
       " ('Cinderace', array(['fighting', 'normal'], dtype='<U8')),\n",
       " ('Sobble', array(['normal', 'fighting'], dtype='<U8')),\n",
       " ('Drizzile', array(['water', 'bug'], dtype='<U8')),\n",
       " ('Inteleon', array(['water', 'grass'], dtype='<U8')),\n",
       " ('Skwovet', array(['normal', 'flying'], dtype='<U8')),\n",
       " ('Greedent', array(['normal', 'psychic'], dtype='<U8')),\n",
       " ('Rookidee', array(['normal', 'flying'], dtype='<U8')),\n",
       " ('Corvisquire', array(['normal', 'rock'], dtype='<U8')),\n",
       " ('Corviknight', array(['steel', 'normal'], dtype='<U8')),\n",
       " ('Blipbug', array(['normal', 'steel'], dtype='<U8')),\n",
       " ('Dottler', array(['psychic', 'water'], dtype='<U8')),\n",
       " ('Orbeetle', array(['psychic', 'water'], dtype='<U8')),\n",
       " ('Nickit', array(['normal', 'flying'], dtype='<U8')),\n",
       " ('Thievul', array(['normal', 'flying'], dtype='<U8')),\n",
       " ('Gossifleur', array(['grass', 'flying'], dtype='<U8')),\n",
       " ('Eldegoss', array(['grass', 'fairy'], dtype='<U8')),\n",
       " ('Wooloo', array(['normal', 'poison'], dtype='<U8')),\n",
       " ('Dubwool', array(['normal', 'bug'], dtype='<U8')),\n",
       " ('Chewtle', array(['water', 'normal'], dtype='<U8')),\n",
       " ('Drednaw', array(['steel', 'grass'], dtype='<U8')),\n",
       " ('Yamper', array(['electric', 'steel'], dtype='<U8')),\n",
       " ('Boltund', array(['electric', 'normal'], dtype='<U8')),\n",
       " ('Rolycoly', array(['fire', 'rock'], dtype='<U8')),\n",
       " ('Carkol', array(['fire', 'dark'], dtype='<U8')),\n",
       " ('Coalossal', array(['fire', 'rock'], dtype='<U8')),\n",
       " ('Applin', array(['ground', 'normal'], dtype='<U8')),\n",
       " ('Flapple', array(['flying', 'dragon'], dtype='<U8')),\n",
       " ('Appletun', array(['grass', 'bug'], dtype='<U8')),\n",
       " ('Silicobra', array(['ground', 'poison'], dtype='<U8')),\n",
       " ('Sandaconda', array(['ground', 'ghost'], dtype='<U8')),\n",
       " ('Cramorant', array(['poison', 'normal'], dtype='<U8')),\n",
       " ('Arrokuda', array(['poison', 'normal'], dtype='<U8')),\n",
       " ('Barraskewda', array(['water', 'normal'], dtype='<U8')),\n",
       " ('Toxel', array(['poison', 'fighting'], dtype='<U8'))]"
      ]
     },
     "execution_count": 285,
     "metadata": {},
     "output_type": "execute_result"
    }
   ],
   "source": [
    "# This helps to convert the probabilites in a predict_proba class into the actual classes\n",
    "# Get the prediction probabilities\n",
    "predictions = pipeline.predict_proba(dict_df['text'])\n",
    "\n",
    "# Select top n results that you want. This also selects in the order that from best to worst\n",
    "# guess. The results are selected in the form of their column indices\n",
    "best_n = np.argsort(-predictions, axis=1)[:, :2]\n",
    "\n",
    "# Dictionary that relates the index no. of each column to the class name\n",
    "type_dictionary = {i: x for i, x in enumerate(pipeline.classes_)}\n",
    "\n",
    "# Convert the indexes from best_n to their class name\n",
    "results = np.vectorize(type_dictionary.get)(best_n)\n",
    "\n",
    "list(zip(gen8_list, results))"
   ]
  },
  {
   "cell_type": "code",
   "execution_count": null,
   "metadata": {},
   "outputs": [],
   "source": []
  }
 ],
 "metadata": {
  "kernelspec": {
   "display_name": "Python 3",
   "language": "python",
   "name": "python3"
  },
  "language_info": {
   "codemirror_mode": {
    "name": "ipython",
    "version": 3
   },
   "file_extension": ".py",
   "mimetype": "text/x-python",
   "name": "python",
   "nbconvert_exporter": "python",
   "pygments_lexer": "ipython3",
   "version": "3.7.6"
  },
  "varInspector": {
   "cols": {
    "lenName": 16,
    "lenType": 16,
    "lenVar": 40
   },
   "kernels_config": {
    "python": {
     "delete_cmd_postfix": "",
     "delete_cmd_prefix": "del ",
     "library": "var_list.py",
     "varRefreshCmd": "print(var_dic_list())"
    },
    "r": {
     "delete_cmd_postfix": ") ",
     "delete_cmd_prefix": "rm(",
     "library": "var_list.r",
     "varRefreshCmd": "cat(var_dic_list()) "
    }
   },
   "types_to_exclude": [
    "module",
    "function",
    "builtin_function_or_method",
    "instance",
    "_Feature"
   ],
   "window_display": false
  }
 },
 "nbformat": 4,
 "nbformat_minor": 4
}
